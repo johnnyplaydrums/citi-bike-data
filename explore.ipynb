{
 "cells": [
  {
   "cell_type": "markdown",
   "metadata": {
    "nbpresent": {
     "id": "baf8e299-fb98-497f-aa13-891686118465"
    }
   },
   "source": [
    "## Data exploration"
   ]
  },
  {
   "cell_type": "code",
   "execution_count": 1,
   "metadata": {
    "collapsed": false,
    "nbpresent": {
     "id": "7ff7c075-2260-4a04-809b-6e2d0f7a115a"
    }
   },
   "outputs": [
    {
     "name": "stdout",
     "output_type": "stream",
     "text": [
      "Installed autotime.py. To use it, type:\n",
      "  %load_ext autotime\n"
     ]
    }
   ],
   "source": [
    "import numpy as np\n",
    "import pandas as pd\n",
    "import datetime as dt\n",
    "import matplotlib.pyplot as plt\n",
    "import warnings\n",
    "import datetime\n",
    "%matplotlib inline\n",
    "\n",
    "# This package will output the execution time of each cell. Pretty neat!\n",
    "warnings.filterwarnings('ignore')\n",
    "%install_ext https://raw.github.com/cpcloud/ipython-autotime/master/autotime.py\n",
    "warnings.filterwarnings('default')\n",
    "%load_ext autotime"
   ]
  },
  {
   "cell_type": "markdown",
   "metadata": {
    "nbpresent": {
     "id": "f8179de8-9bd9-4de7-acff-fbb914c0e27a"
    }
   },
   "source": [
    "### Let's grab the data from [September, 2016](https://s3.amazonaws.com/tripdata/201609-citibike-tripdata.zip)"
   ]
  },
  {
   "cell_type": "code",
   "execution_count": 2,
   "metadata": {
    "collapsed": false,
    "nbpresent": {
     "id": "b88cbca6-5feb-49b4-9c37-71d394d0c1f1"
    }
   },
   "outputs": [
    {
     "name": "stdout",
     "output_type": "stream",
     "text": [
      "time: 5.3 s\n"
     ]
    }
   ],
   "source": [
    "rides = pd.read_csv('data/201606-citibike-tripdata.csv')"
   ]
  },
  {
   "cell_type": "markdown",
   "metadata": {
    "nbpresent": {
     "id": "606971e4-52d8-432b-a8da-cd267aa417e8"
    }
   },
   "source": [
    "### How does the data look?"
   ]
  },
  {
   "cell_type": "code",
   "execution_count": 3,
   "metadata": {
    "collapsed": false,
    "nbpresent": {
     "id": "c81031f5-ee8e-46c3-893d-9152805240fb"
    },
    "scrolled": true
   },
   "outputs": [
    {
     "data": {
      "text/html": [
       "<div>\n",
       "<table border=\"1\" class=\"dataframe\">\n",
       "  <thead>\n",
       "    <tr style=\"text-align: right;\">\n",
       "      <th></th>\n",
       "      <th>tripduration</th>\n",
       "      <th>starttime</th>\n",
       "      <th>stoptime</th>\n",
       "      <th>start station id</th>\n",
       "      <th>start station name</th>\n",
       "      <th>start station latitude</th>\n",
       "      <th>start station longitude</th>\n",
       "      <th>end station id</th>\n",
       "      <th>end station name</th>\n",
       "      <th>end station latitude</th>\n",
       "      <th>end station longitude</th>\n",
       "      <th>bikeid</th>\n",
       "      <th>usertype</th>\n",
       "      <th>birth year</th>\n",
       "      <th>gender</th>\n",
       "    </tr>\n",
       "  </thead>\n",
       "  <tbody>\n",
       "    <tr>\n",
       "      <th>0</th>\n",
       "      <td>1470</td>\n",
       "      <td>6/1/2016 00:00:18</td>\n",
       "      <td>6/1/2016 00:24:48</td>\n",
       "      <td>380</td>\n",
       "      <td>W 4 St &amp; 7 Ave S</td>\n",
       "      <td>40.734011</td>\n",
       "      <td>-74.002939</td>\n",
       "      <td>3236</td>\n",
       "      <td>W 42 St &amp; Dyer Ave</td>\n",
       "      <td>40.758985</td>\n",
       "      <td>-73.993800</td>\n",
       "      <td>19859</td>\n",
       "      <td>Subscriber</td>\n",
       "      <td>1972.0</td>\n",
       "      <td>1</td>\n",
       "    </tr>\n",
       "    <tr>\n",
       "      <th>1</th>\n",
       "      <td>229</td>\n",
       "      <td>6/1/2016 00:00:20</td>\n",
       "      <td>6/1/2016 00:04:09</td>\n",
       "      <td>3092</td>\n",
       "      <td>Berry St &amp; N 8 St</td>\n",
       "      <td>40.719009</td>\n",
       "      <td>-73.958525</td>\n",
       "      <td>3103</td>\n",
       "      <td>N 11 St &amp; Wythe Ave</td>\n",
       "      <td>40.721533</td>\n",
       "      <td>-73.957824</td>\n",
       "      <td>16233</td>\n",
       "      <td>Subscriber</td>\n",
       "      <td>1967.0</td>\n",
       "      <td>1</td>\n",
       "    </tr>\n",
       "    <tr>\n",
       "      <th>2</th>\n",
       "      <td>344</td>\n",
       "      <td>6/1/2016 00:00:21</td>\n",
       "      <td>6/1/2016 00:06:06</td>\n",
       "      <td>449</td>\n",
       "      <td>W 52 St &amp; 9 Ave</td>\n",
       "      <td>40.764618</td>\n",
       "      <td>-73.987895</td>\n",
       "      <td>469</td>\n",
       "      <td>Broadway &amp; W 53 St</td>\n",
       "      <td>40.763441</td>\n",
       "      <td>-73.982681</td>\n",
       "      <td>22397</td>\n",
       "      <td>Subscriber</td>\n",
       "      <td>1989.0</td>\n",
       "      <td>1</td>\n",
       "    </tr>\n",
       "    <tr>\n",
       "      <th>3</th>\n",
       "      <td>1120</td>\n",
       "      <td>6/1/2016 00:00:28</td>\n",
       "      <td>6/1/2016 00:19:09</td>\n",
       "      <td>522</td>\n",
       "      <td>E 51 St &amp; Lexington Ave</td>\n",
       "      <td>40.757148</td>\n",
       "      <td>-73.972078</td>\n",
       "      <td>401</td>\n",
       "      <td>Allen St &amp; Rivington St</td>\n",
       "      <td>40.720196</td>\n",
       "      <td>-73.989978</td>\n",
       "      <td>16231</td>\n",
       "      <td>Subscriber</td>\n",
       "      <td>1991.0</td>\n",
       "      <td>1</td>\n",
       "    </tr>\n",
       "    <tr>\n",
       "      <th>4</th>\n",
       "      <td>229</td>\n",
       "      <td>6/1/2016 00:00:53</td>\n",
       "      <td>6/1/2016 00:04:42</td>\n",
       "      <td>335</td>\n",
       "      <td>Washington Pl &amp; Broadway</td>\n",
       "      <td>40.729039</td>\n",
       "      <td>-73.994046</td>\n",
       "      <td>285</td>\n",
       "      <td>Broadway &amp; E 14 St</td>\n",
       "      <td>40.734546</td>\n",
       "      <td>-73.990741</td>\n",
       "      <td>15400</td>\n",
       "      <td>Subscriber</td>\n",
       "      <td>1989.0</td>\n",
       "      <td>1</td>\n",
       "    </tr>\n",
       "  </tbody>\n",
       "</table>\n",
       "</div>"
      ],
      "text/plain": [
       "   tripduration          starttime           stoptime  start station id  \\\n",
       "0          1470  6/1/2016 00:00:18  6/1/2016 00:24:48               380   \n",
       "1           229  6/1/2016 00:00:20  6/1/2016 00:04:09              3092   \n",
       "2           344  6/1/2016 00:00:21  6/1/2016 00:06:06               449   \n",
       "3          1120  6/1/2016 00:00:28  6/1/2016 00:19:09               522   \n",
       "4           229  6/1/2016 00:00:53  6/1/2016 00:04:42               335   \n",
       "\n",
       "         start station name  start station latitude  start station longitude  \\\n",
       "0          W 4 St & 7 Ave S               40.734011               -74.002939   \n",
       "1         Berry St & N 8 St               40.719009               -73.958525   \n",
       "2           W 52 St & 9 Ave               40.764618               -73.987895   \n",
       "3   E 51 St & Lexington Ave               40.757148               -73.972078   \n",
       "4  Washington Pl & Broadway               40.729039               -73.994046   \n",
       "\n",
       "   end station id         end station name  end station latitude  \\\n",
       "0            3236       W 42 St & Dyer Ave             40.758985   \n",
       "1            3103      N 11 St & Wythe Ave             40.721533   \n",
       "2             469       Broadway & W 53 St             40.763441   \n",
       "3             401  Allen St & Rivington St             40.720196   \n",
       "4             285       Broadway & E 14 St             40.734546   \n",
       "\n",
       "   end station longitude  bikeid    usertype  birth year  gender  \n",
       "0             -73.993800   19859  Subscriber      1972.0       1  \n",
       "1             -73.957824   16233  Subscriber      1967.0       1  \n",
       "2             -73.982681   22397  Subscriber      1989.0       1  \n",
       "3             -73.989978   16231  Subscriber      1991.0       1  \n",
       "4             -73.990741   15400  Subscriber      1989.0       1  "
      ]
     },
     "execution_count": 3,
     "metadata": {},
     "output_type": "execute_result"
    },
    {
     "name": "stdout",
     "output_type": "stream",
     "text": [
      "time: 39.8 ms\n"
     ]
    }
   ],
   "source": [
    "rides.head(5)"
   ]
  },
  {
   "cell_type": "markdown",
   "metadata": {
    "nbpresent": {
     "id": "65f46891-7d12-4923-9569-a5f4cd3b8711"
    }
   },
   "source": [
    "### Looks good! How much data do we have?"
   ]
  },
  {
   "cell_type": "code",
   "execution_count": null,
   "metadata": {
    "collapsed": false,
    "nbpresent": {
     "id": "5872849d-9e4e-45f6-96e3-aefb76c36067"
    },
    "scrolled": true
   },
   "outputs": [],
   "source": [
    "num_rides = len(rides)\n",
    "num_female = len(rides[rides['gender'] == 2])\n",
    "percent_female = (num_female / num_rides) * 100\n",
    "num_male = len(rides[rides['gender'] == 1])\n",
    "percent_male = (num_male / num_rides) * 100\n",
    "print((\"Our data set has %d rides, \" +\n",
    "      \"of which %.2f%% (%d) are female and %.2f%% (%d) are male\") % (\n",
    "        len(rides), percent_female, num_female, percent_male, num_male))"
   ]
  },
  {
   "cell_type": "code",
   "execution_count": null,
   "metadata": {
    "collapsed": false
   },
   "outputs": [],
   "source": [
    "len(rides[(rides['tripduration'] / 60) > 50])"
   ]
  },
  {
   "cell_type": "markdown",
   "metadata": {
    "nbpresent": {
     "id": "631aa5e9-941e-4741-beea-5189d56ce577"
    }
   },
   "source": [
    "### What are the most popular starting stations?"
   ]
  },
  {
   "cell_type": "code",
   "execution_count": null,
   "metadata": {
    "collapsed": false,
    "nbpresent": {
     "id": "04e9f2b0-3a9d-4d30-9876-507c6b92479b"
    }
   },
   "outputs": [],
   "source": [
    "start_stations = rides.groupby('start station name')['start station id'].count().reset_index()\n",
    "start_stations.columns = ['Start Station', 'Count']\n",
    "start_stations = start_stations.sort_values(by='Count', ascending=False).head()\n",
    "\n",
    "# create bar graph\n",
    "plt.figure(figsize=(8,8))\n",
    "plt.bar(list(range(len(start_stations))), start_stations['Count'], \n",
    "            tick_label=start_stations['Start Station'])\n",
    "plt.xticks(rotation=40, fontsize = 15)\n",
    "plt.xlabel('Stations', fontsize = 15)\n",
    "plt.ylabel('Number of rides', fontsize = 15)\n",
    "plt.title('Most popular start stations in Sept. 2016', fontsize = 15)\n",
    "print()"
   ]
  },
  {
   "cell_type": "markdown",
   "metadata": {
    "nbpresent": {
     "id": "382980e6-9d70-427f-b8c2-c4031e2ff58a"
    }
   },
   "source": [
    "### What are the most popular ending stations?"
   ]
  },
  {
   "cell_type": "code",
   "execution_count": null,
   "metadata": {
    "collapsed": false,
    "nbpresent": {
     "id": "5361181d-5f5c-40ce-a5b5-ea4cf1a9506c"
    }
   },
   "outputs": [],
   "source": [
    "end_stations = rides.groupby('end station name')['end station id'].count().reset_index()\n",
    "end_stations.columns = ['End Station', 'Count']\n",
    "end_stations = end_stations.sort_values(by='Count', ascending=False).head()\n",
    "\n",
    "# create bar graph\n",
    "plt.figure(figsize=(8,8))\n",
    "plt.bar(list(range(len(end_stations))), end_stations['Count'], \n",
    "            tick_label=end_stations['End Station'])\n",
    "plt.xticks(rotation=40, fontsize = 15)\n",
    "plt.xlabel('Stations', fontsize = 15)\n",
    "plt.ylabel('Number of rides', fontsize = 15)\n",
    "plt.title('Most popular end stations in Sept. 2016', fontsize = 15)\n",
    "print()"
   ]
  },
  {
   "cell_type": "markdown",
   "metadata": {
    "nbpresent": {
     "id": "5933d93f-a879-4694-ad78-b0c798009dc4"
    }
   },
   "source": [
    "### Looks like just about the same as the most popular start stations!"
   ]
  },
  {
   "cell_type": "markdown",
   "metadata": {
    "collapsed": true,
    "nbpresent": {
     "id": "264d83ce-49b5-424b-adc4-28b5b7026d81"
    }
   },
   "source": [
    "### How about, what percentage of rides are one-way vs. round trip?"
   ]
  },
  {
   "cell_type": "code",
   "execution_count": null,
   "metadata": {
    "collapsed": false,
    "nbpresent": {
     "id": "59e78c0e-70d7-4212-855e-c2e6f5936ea7"
    }
   },
   "outputs": [],
   "source": [
    "round_trip = rides[rides['start station id'] == rides['end station id']]\n",
    "percent_round_trip = (len(round_trip) / len(rides)) * 100\n",
    "print(\"Round trips account for %.2f%% of bike rides (in September)\" % percent_round_trip)"
   ]
  },
  {
   "cell_type": "markdown",
   "metadata": {
    "nbpresent": {
     "id": "211f21e9-bb84-43ad-bc7e-95dd06e59793"
    }
   },
   "source": [
    "### What about in other months?"
   ]
  },
  {
   "cell_type": "code",
   "execution_count": null,
   "metadata": {
    "collapsed": false,
    "nbpresent": {
     "id": "b65c2db2-5f48-4f92-855b-e39b69d9085e"
    }
   },
   "outputs": [],
   "source": [
    "june_2015_rides = pd.read_csv('data/201506-citibike-tripdata.csv')\n",
    "july_2015_rides = pd.read_csv('data/201507-citibike-tripdata.csv')\n",
    "august_2015_rides = pd.read_csv('data/201508-citibike-tripdata.csv')\n",
    "june_2016_rides = pd.read_csv('data/201606-citibike-tripdata.csv')\n",
    "july_2016_rides = pd.read_csv('data/201607-citibike-tripdata.csv')\n",
    "august_2016_rides = pd.read_csv('data/201508-citibike-tripdata.csv')"
   ]
  },
  {
   "cell_type": "code",
   "execution_count": null,
   "metadata": {
    "collapsed": false,
    "nbpresent": {
     "id": "22c62ffb-acd8-498b-8bfd-d64f60706a99"
    }
   },
   "outputs": [],
   "source": [
    "june_2015_round_trip = june_2015_rides[june_2015_rides['start station id'] == june_2015_rides['end station id']]\n",
    "june_2015_percent_round_trip = (len(june_2015_round_trip) / len(june_2015_rides)) * 100\n",
    "print(\"Round trips account for %.2f%% of bike rides (in October)\" % june_2015_percent_round_trip)\n",
    "june_2015_round_trip.head()\n",
    "len(june_2015_rides)"
   ]
  },
  {
   "cell_type": "markdown",
   "metadata": {
    "nbpresent": {
     "id": "c6b65f87-b2d5-434d-8b88-1988ba541cc1"
    }
   },
   "source": [
    "### Okay, so clearly \"round trips\" account for a very small portion of rides. Will this be viable to use to classify the data? Maybe note. But our version of round trips means starting and stopping at the same station. But stations can be very nearby each other, especially in the village:\n",
    "<img src=\"data/citi_bike_stations.png\" style=\"height: 800px\">"
   ]
  },
  {
   "cell_type": "markdown",
   "metadata": {
    "nbpresent": {
     "id": "5bb8e9da-f3ae-4906-93ef-2350ac5ea3a5"
    }
   },
   "source": [
    "### So a user may make basically a \"round trip\" but then return the bike to a station one block away. We should treat this as a round trip when analyzing our data. We have longitude and latitudate data from each station, let's use that!"
   ]
  },
  {
   "cell_type": "code",
   "execution_count": null,
   "metadata": {
    "collapsed": false,
    "nbpresent": {
     "id": "a5a40154-c1eb-49b3-85d9-6ad7911a5212"
    }
   },
   "outputs": [],
   "source": [
    "from geopy.distance import great_circle"
   ]
  },
  {
   "cell_type": "markdown",
   "metadata": {},
   "source": [
    "### Let's see how the module works"
   ]
  },
  {
   "cell_type": "code",
   "execution_count": null,
   "metadata": {
    "collapsed": false,
    "nbpresent": {
     "id": "a3f0aa28-c2c4-488f-969a-c1befd997dda"
    },
    "scrolled": false
   },
   "outputs": [],
   "source": [
    "start = (june_2015_rides.iloc[0]['start station longitude'], june_2015_rides.iloc[0]['start station latitude'])\n",
    "end = (june_2015_rides.iloc[0]['end station longitude'], june_2015_rides.iloc[0]['end station latitude'])\n",
    "print(\"Start station: %s\" % str(start))\n",
    "print(\"End station: %s\" % str(end))\n",
    "print(\"Distance between: %.4f %s\" % (great_circle(start, end).miles, \"miles\"))"
   ]
  },
  {
   "cell_type": "code",
   "execution_count": null,
   "metadata": {
    "collapsed": false,
    "nbpresent": {
     "id": "36ca2fed-49e5-4167-bb86-701f8bac0c82"
    },
    "scrolled": false
   },
   "outputs": [],
   "source": [
    "start = (june_2015_rides.iloc[1]['start station longitude'], june_2015_rides.iloc[1]['start station latitude'])\n",
    "end = (june_2015_rides.iloc[1]['end station longitude'], june_2015_rides.iloc[1]['end station latitude'])\n",
    "print(\"Start station: %s\" % str(start))\n",
    "print(\"End station: %s\" % str(end))\n",
    "print(\"Distance between: %.4f %s\" % (great_circle(start, end).miles, \"miles\"))"
   ]
  },
  {
   "cell_type": "markdown",
   "metadata": {},
   "source": [
    "## Time for some serious data cleaning. Here we will determine roundtrips for all rows in all 6 months we're interested in (June, July, August in 2015 and 2016). 2015 is training data and 2016 will be used to test. Because this takes so long to process, we're going to add a 'roundtrip' column and then export the data so we only have to do this once"
   ]
  },
  {
   "cell_type": "code",
   "execution_count": 4,
   "metadata": {
    "collapsed": false
   },
   "outputs": [
    {
     "name": "stdout",
     "output_type": "stream",
     "text": [
      "time: 91.6 ms\n"
     ]
    }
   ],
   "source": [
    "# input a citi bike month dataframe, return a new dataframe with the column \"roundtrip\" computed.\n",
    "# 0 = one way, 1 = roundtrip\n",
    "def calculate_roundtrips(without_roundtrips):\n",
    "    \n",
    "    # for use with tracking our runtime\n",
    "    count = 0\n",
    "    \n",
    "    # we only care about the 'Subscriber' customers\n",
    "    without_roundtrips = without_roundtrips[without_roundtrips['usertype'] == 'Subscriber']\n",
    "    \n",
    "    # add roundtrip column and set them all thre zero by default\n",
    "    without_roundtrips['roundtrip'] = pd.Series(\n",
    "        [-1 for i in range(len(without_roundtrips))], index=without_roundtrips.index)\n",
    "    \n",
    "    # to measure how long this computation takes\n",
    "    startTime = datetime.datetime.now().replace(microsecond=0)\n",
    "    print(\"Start time: %s\" % startTime)\n",
    "    \n",
    "    # loop through entire input dataframe and calculate roundtrips\n",
    "    for i in list(without_roundtrips.index):\n",
    "        # first let's check if start and stop station are the same (obvious roundtrip)\n",
    "        if (without_roundtrips.ix[i]['start station id'] == without_roundtrips.ix[i]['end station id']):\n",
    "            without_roundtrips.set_value(without_roundtrips.ix[i].name, 'roundtrip', 1)\n",
    "        else:\n",
    "            # now lets check distance between stations\n",
    "            start_coordinates = (without_roundtrips.ix[i]['start station longitude'], \n",
    "                                 without_roundtrips.ix[i]['start station latitude'])\n",
    "            end_coordinates = (without_roundtrips.ix[i]['end station longitude'], \n",
    "                               without_roundtrips.ix[i]['end station latitude'])\n",
    "            distance = great_circle(start_coordinates, end_coordinates).miles\n",
    "            \n",
    "            if (distance < .3) & (without_roundtrips.ix[i]['tripduration'] > 480):\n",
    "                without_roundtrips.set_value(without_roundtrips.ix[i].name, 'roundtrip', 1)\n",
    "            else:\n",
    "                without_roundtrips.set_value(without_roundtrips.ix[i].name, 'roundtrip', 0)\n",
    "\n",
    "        # Keep track of how long this calculation is taking\n",
    "        count += 1\n",
    "        if (count % 10000 == 0):\n",
    "            now = datetime.datetime.now().replace(microsecond=0)\n",
    "            print(\"%d rows processed, %.2f%% done, %s time elapsed\" % (\n",
    "                    count, (count / len(without_roundtrips)) * 100, now - startTime))\n",
    "            \n",
    "    # how long did this take?\n",
    "    endTime = datetime.datetime.now().replace(microsecond=0)\n",
    "    print(\"Runtime: %s\" % str(endTime - startTime))\n",
    "    \n",
    "    return without_roundtrips"
   ]
  },
  {
   "cell_type": "code",
   "execution_count": null,
   "metadata": {
    "collapsed": false,
    "scrolled": false
   },
   "outputs": [],
   "source": [
    "warnings.filterwarnings('ignore')\n",
    "roundtrips = calculate_roundtrips(june_2015_rides)\n",
    "percent_roundtrip = (len(roundtrips[roundtrips['roundtrip'] == 1]) / len(roundtrips)) * 100\n",
    "print(\"Out of %d rides in June 2015, %d%% are round trip\" % (len(roundtrips), percent_roundtrip))\n",
    "roundtrips.to_csv('data/june_2015_with_roundtrip.csv', na_rep='NaN', index=False)"
   ]
  },
  {
   "cell_type": "code",
   "execution_count": null,
   "metadata": {
    "collapsed": false
   },
   "outputs": [],
   "source": [
    "roundtrips = calculate_roundtrips(july_2015_rides)\n",
    "percent_roundtrip = (len(roundtrips[roundtrips['roundtrip'] == 1]) / len(roundtrips)) * 100\n",
    "print(\"Out of %d rides in July 2015, %d%% are round trip\" % (len(roundtrips), percent_roundtrip))\n",
    "roundtrips.to_csv('data/july_2015_with_roundtrip.csv', na_rep='NaN', index=False)"
   ]
  },
  {
   "cell_type": "code",
   "execution_count": null,
   "metadata": {
    "collapsed": false
   },
   "outputs": [],
   "source": [
    "roundtrips = calculate_roundtrips(august_2015_rides)\n",
    "percent_roundtrip = (len(roundtrips[roundtrips['roundtrip'] == 1]) / len(roundtrips)) * 100\n",
    "print(\"Out of %d rides in August 2015, %d%% are round trip\" % (len(roundtrips), percent_roundtrip))\n",
    "roundtrips.to_csv('data/august_2015_with_roundtrip.csv', na_rep='NaN', index=False)"
   ]
  },
  {
   "cell_type": "code",
   "execution_count": null,
   "metadata": {
    "collapsed": false
   },
   "outputs": [],
   "source": [
    "roundtrips = calculate_roundtrips(june_2016_rides)\n",
    "percent_roundtrip = (len(roundtrips[roundtrips['roundtrip'] == 1]) / len(roundtrips)) * 100\n",
    "print(\"Out of %d rides in June 2016, %d%% are round trip\" % (len(roundtrips), percent_roundtrip))\n",
    "roundtrips.to_csv('data/june_2016_with_roundtrip.csv', na_rep='NaN', index=False)"
   ]
  },
  {
   "cell_type": "code",
   "execution_count": null,
   "metadata": {
    "collapsed": false,
    "scrolled": false
   },
   "outputs": [],
   "source": [
    "roundtrips = calculate_roundtrips(july_2016_rides)\n",
    "percent_roundtrip = (len(roundtrips[roundtrips['roundtrip'] == 1]) / len(roundtrips)) * 100\n",
    "print(\"Out of %d rides in July 2016, %d%% are round trip\" % (len(roundtrips), percent_roundtrip))\n",
    "roundtrips.to_csv('data/july_2016_with_roundtrip.csv', na_rep='NaN', index=False)"
   ]
  },
  {
   "cell_type": "code",
   "execution_count": null,
   "metadata": {
    "collapsed": false
   },
   "outputs": [],
   "source": [
    "roundtrips = calculate_roundtrips(august_2016_rides)\n",
    "percent_roundtrip = (len(roundtrips[roundtrips['roundtrip'] == 1]) / len(roundtrips)) * 100\n",
    "print(\"Out of %d rides in August 2016, %d%% are round trip\" % (len(roundtrips), percent_roundtrip))\n",
    "roundtrips.to_csv('data/august_2016_with_roundtrip.csv', na_rep='NaN', index=False)"
   ]
  },
  {
   "cell_type": "markdown",
   "metadata": {},
   "source": [
    "### Now that our data is exported, let's check it out in roundtrips.ipynb"
   ]
  }
 ],
 "metadata": {
  "anaconda-cloud": {},
  "kernelspec": {
   "display_name": "Python [Root]",
   "language": "python",
   "name": "Python [Root]"
  },
  "language_info": {
   "codemirror_mode": {
    "name": "ipython",
    "version": 3
   },
   "file_extension": ".py",
   "mimetype": "text/x-python",
   "name": "python",
   "nbconvert_exporter": "python",
   "pygments_lexer": "ipython3",
   "version": "3.5.2"
  },
  "nbpresent": {
   "slides": {
    "02c2ddb4-0b52-4feb-9141-19377a156deb": {
     "id": "02c2ddb4-0b52-4feb-9141-19377a156deb",
     "prev": "1a8f16f4-e4ff-4219-af80-5a5a8e4a9367",
     "regions": {
      "cd3dea3b-00a4-47a9-ba27-dd05db19fd24": {
       "attrs": {
        "height": 0.8,
        "width": 0.8,
        "x": 0.1,
        "y": 0.1
       },
       "content": {
        "cell": "606971e4-52d8-432b-a8da-cd267aa417e8",
        "part": "whole"
       },
       "id": "cd3dea3b-00a4-47a9-ba27-dd05db19fd24"
      }
     }
    },
    "09b677d3-0e80-49ab-aa3c-6ab14833b062": {
     "id": "09b677d3-0e80-49ab-aa3c-6ab14833b062",
     "prev": "e2c0ff23-9364-4bec-b069-4c8b6b7a43fe",
     "regions": {
      "d82df7ff-ce45-4a7f-90a1-e6b2750ffb81": {
       "attrs": {
        "height": 0.8,
        "width": 0.8,
        "x": 0.1,
        "y": 0.1
       },
       "content": {
        "cell": "264d83ce-49b5-424b-adc4-28b5b7026d81",
        "part": "whole"
       },
       "id": "d82df7ff-ce45-4a7f-90a1-e6b2750ffb81"
      }
     }
    },
    "12a5f63b-41bc-4c4c-859b-d0170f640cc4": {
     "id": "12a5f63b-41bc-4c4c-859b-d0170f640cc4",
     "prev": "26449b92-cb71-4d2f-bb73-84a96c70ed6b",
     "regions": {
      "4a717ec7-8f5e-41b9-ad9b-bc591480cef1": {
       "attrs": {
        "height": 0.8,
        "width": 0.8,
        "x": 0.1,
        "y": 0.1
       },
       "content": {
        "cell": "5872849d-9e4e-45f6-96e3-aefb76c36067",
        "part": "whole"
       },
       "id": "4a717ec7-8f5e-41b9-ad9b-bc591480cef1"
      }
     }
    },
    "1a8f16f4-e4ff-4219-af80-5a5a8e4a9367": {
     "id": "1a8f16f4-e4ff-4219-af80-5a5a8e4a9367",
     "prev": "422495fa-b9ed-4c6b-ba6c-5aa7996393f8",
     "regions": {
      "7b46c525-3fca-4d51-993e-a555a35b502b": {
       "attrs": {
        "height": 0.8,
        "width": 0.8,
        "x": 0.1,
        "y": 0.1
       },
       "content": {
        "cell": "b88cbca6-5feb-49b4-9c37-71d394d0c1f1",
        "part": "whole"
       },
       "id": "7b46c525-3fca-4d51-993e-a555a35b502b"
      }
     }
    },
    "1ab686fb-c9f6-435d-a218-ed3733759891": {
     "id": "1ab686fb-c9f6-435d-a218-ed3733759891",
     "prev": "5d5151a6-956f-4368-8dbf-f286cf0310bf",
     "regions": {
      "1528a95a-0adb-4032-a399-f77361ace2c8": {
       "attrs": {
        "height": 0.8,
        "width": 0.8,
        "x": 0.1,
        "y": 0.1
       },
       "content": {
        "cell": "04e9f2b0-3a9d-4d30-9876-507c6b92479b",
        "part": "whole"
       },
       "id": "1528a95a-0adb-4032-a399-f77361ace2c8"
      }
     }
    },
    "26449b92-cb71-4d2f-bb73-84a96c70ed6b": {
     "id": "26449b92-cb71-4d2f-bb73-84a96c70ed6b",
     "prev": "9931345a-6fad-49b1-87b9-f55e7c1322c5",
     "regions": {
      "5d6167a0-ef57-4fbb-8014-b42257dc5792": {
       "attrs": {
        "height": 0.8,
        "width": 0.8,
        "x": 0.1,
        "y": 0.1
       },
       "content": {
        "cell": "65f46891-7d12-4923-9569-a5f4cd3b8711",
        "part": "whole"
       },
       "id": "5d6167a0-ef57-4fbb-8014-b42257dc5792"
      }
     }
    },
    "31a5690a-15cb-4cba-9972-a5df6211f427": {
     "id": "31a5690a-15cb-4cba-9972-a5df6211f427",
     "prev": "6cc3d259-2ea2-4efa-9189-62d00f65ee66",
     "regions": {
      "9e4a7ad9-7f80-494a-979e-159f0f7a87ee": {
       "attrs": {
        "height": 0.8,
        "width": 0.8,
        "x": 0.1,
        "y": 0.1
       },
       "content": {
        "cell": "68ed6cc3-33d4-4557-a5e5-7fbde86afab7",
        "part": "whole"
       },
       "id": "9e4a7ad9-7f80-494a-979e-159f0f7a87ee"
      }
     }
    },
    "3d8331b2-9596-4bb4-b655-77a76824ba37": {
     "id": "3d8331b2-9596-4bb4-b655-77a76824ba37",
     "prev": "6d9c6362-9a8b-42bf-a066-f82aee267a28",
     "regions": {
      "90b1ef61-b09d-47c9-a8dc-91cf51f4b955": {
       "attrs": {
        "height": 0.8,
        "width": 0.8,
        "x": 0.1,
        "y": 0.1
       },
       "content": {
        "cell": "b65c2db2-5f48-4f92-855b-e39b69d9085e",
        "part": "whole"
       },
       "id": "90b1ef61-b09d-47c9-a8dc-91cf51f4b955"
      }
     }
    },
    "422495fa-b9ed-4c6b-ba6c-5aa7996393f8": {
     "id": "422495fa-b9ed-4c6b-ba6c-5aa7996393f8",
     "prev": "6469a57a-730a-4482-88c8-b1b1cf4c0e27",
     "regions": {
      "d0de95ca-7599-4945-88a2-a1ef56fc62cc": {
       "attrs": {
        "height": 0.8,
        "width": 0.8,
        "x": 0.1,
        "y": 0.1
       },
       "content": {
        "cell": "f8179de8-9bd9-4de7-acff-fbb914c0e27a",
        "part": "whole"
       },
       "id": "d0de95ca-7599-4945-88a2-a1ef56fc62cc"
      }
     }
    },
    "4382fde7-510f-4df8-ba47-a047b1290f3c": {
     "id": "4382fde7-510f-4df8-ba47-a047b1290f3c",
     "prev": "bf04e925-a64f-4904-8fcc-78369fc513ca",
     "regions": {
      "e1f7b029-94ca-410f-ba92-9ecd966af1ab": {
       "attrs": {
        "height": 0.8,
        "width": 0.8,
        "x": 0.1,
        "y": 0.1
       },
       "content": {
        "cell": "a3f0aa28-c2c4-488f-969a-c1befd997dda",
        "part": "whole"
       },
       "id": "e1f7b029-94ca-410f-ba92-9ecd966af1ab"
      }
     }
    },
    "48989894-11a7-4eb3-979c-ee559a7a07de": {
     "id": "48989894-11a7-4eb3-979c-ee559a7a07de",
     "prev": "7ecab1f3-593c-4260-a88f-c2676de84ccb",
     "regions": {
      "fdfccb23-f876-4b7b-9d3b-66e028b578ad": {
       "attrs": {
        "height": 0.8,
        "width": 0.8,
        "x": 0.1,
        "y": 0.1
       },
       "content": {
        "cell": "c6b65f87-b2d5-434d-8b88-1988ba541cc1",
        "part": "whole"
       },
       "id": "fdfccb23-f876-4b7b-9d3b-66e028b578ad"
      }
     }
    },
    "4d019b1a-b802-4598-9c5d-8c0e1c2117b0": {
     "id": "4d019b1a-b802-4598-9c5d-8c0e1c2117b0",
     "prev": "7a1ce177-440a-4686-ac0e-ba145e072e45",
     "regions": {
      "7dcec67b-4a24-47a5-ad06-fdd8d9f6720b": {
       "attrs": {
        "height": 0.8,
        "width": 0.8,
        "x": 0.1,
        "y": 0.1
       },
       "content": {
        "cell": "72f641c2-046e-4d68-89e0-ca0162cb5daa",
        "part": "whole"
       },
       "id": "7dcec67b-4a24-47a5-ad06-fdd8d9f6720b"
      }
     }
    },
    "5d5151a6-956f-4368-8dbf-f286cf0310bf": {
     "id": "5d5151a6-956f-4368-8dbf-f286cf0310bf",
     "prev": "12a5f63b-41bc-4c4c-859b-d0170f640cc4",
     "regions": {
      "38143f86-19f6-4871-a9dd-59a7d517f769": {
       "attrs": {
        "height": 0.8,
        "width": 0.8,
        "x": 0.1,
        "y": 0.1
       },
       "content": {
        "cell": "631aa5e9-941e-4741-beea-5189d56ce577",
        "part": "whole"
       },
       "id": "38143f86-19f6-4871-a9dd-59a7d517f769"
      }
     }
    },
    "5f00c3a7-e52d-4840-b7df-cbf00cdf575f": {
     "id": "5f00c3a7-e52d-4840-b7df-cbf00cdf575f",
     "prev": "1ab686fb-c9f6-435d-a218-ed3733759891",
     "regions": {
      "1c114bd6-ddb3-475a-9ae6-2fbb32e02aca": {
       "attrs": {
        "height": 0.8,
        "width": 0.8,
        "x": 0.1,
        "y": 0.1
       },
       "content": {
        "cell": "382980e6-9d70-427f-b8c2-c4031e2ff58a",
        "part": "whole"
       },
       "id": "1c114bd6-ddb3-475a-9ae6-2fbb32e02aca"
      }
     }
    },
    "6469a57a-730a-4482-88c8-b1b1cf4c0e27": {
     "id": "6469a57a-730a-4482-88c8-b1b1cf4c0e27",
     "prev": "861b6f69-f5b2-4d45-9e6d-ba229c57dd0e",
     "regions": {
      "a9394a85-04d0-4b81-9cf6-5fd81f43a369": {
       "attrs": {
        "height": 0.8,
        "width": 0.8,
        "x": 0.1,
        "y": 0.1
       },
       "content": {
        "cell": "7ff7c075-2260-4a04-809b-6e2d0f7a115a",
        "part": "whole"
       },
       "id": "a9394a85-04d0-4b81-9cf6-5fd81f43a369"
      }
     }
    },
    "6cc3d259-2ea2-4efa-9189-62d00f65ee66": {
     "id": "6cc3d259-2ea2-4efa-9189-62d00f65ee66",
     "prev": "48989894-11a7-4eb3-979c-ee559a7a07de",
     "regions": {
      "e45f16d4-e2bc-44e9-8a2a-bd9ade56c68e": {
       "attrs": {
        "height": 0.8,
        "width": 0.8,
        "x": 0.1,
        "y": 0.1
       },
       "content": {
        "cell": "5bb8e9da-f3ae-4906-93ef-2350ac5ea3a5",
        "part": "whole"
       },
       "id": "e45f16d4-e2bc-44e9-8a2a-bd9ade56c68e"
      }
     }
    },
    "6d9c6362-9a8b-42bf-a066-f82aee267a28": {
     "id": "6d9c6362-9a8b-42bf-a066-f82aee267a28",
     "prev": "8797ee26-71af-4627-8f53-a21dea641ce4",
     "regions": {
      "c54d437c-ce32-48eb-ad76-2b7bcb00ef66": {
       "attrs": {
        "height": 0.8,
        "width": 0.8,
        "x": 0.1,
        "y": 0.1
       },
       "content": {
        "cell": "211f21e9-bb84-43ad-bc7e-95dd06e59793",
        "part": "whole"
       },
       "id": "c54d437c-ce32-48eb-ad76-2b7bcb00ef66"
      }
     }
    },
    "734d50a3-8da3-4de1-87dc-45828288a4ad": {
     "id": "734d50a3-8da3-4de1-87dc-45828288a4ad",
     "prev": "4d019b1a-b802-4598-9c5d-8c0e1c2117b0",
     "regions": {
      "b96af76b-348f-4231-855e-b9151dcbc3a7": {
       "attrs": {
        "height": 0.8,
        "width": 0.8,
        "x": 0.1,
        "y": 0.1
       },
       "content": {
        "cell": "ad45051b-7a8f-4cdf-aa4f-eb4178b484d2",
        "part": "whole"
       },
       "id": "b96af76b-348f-4231-855e-b9151dcbc3a7"
      }
     }
    },
    "7a1ce177-440a-4686-ac0e-ba145e072e45": {
     "id": "7a1ce177-440a-4686-ac0e-ba145e072e45",
     "prev": "31a5690a-15cb-4cba-9972-a5df6211f427",
     "regions": {
      "b42e1f37-906f-4148-b5c4-27c0195ce397": {
       "attrs": {
        "height": 0.8,
        "width": 0.8,
        "x": 0.1,
        "y": 0.1
       },
       "content": {
        "cell": "bee65bef-199e-4ee4-8b68-7739c75d9783",
        "part": "whole"
       },
       "id": "b42e1f37-906f-4148-b5c4-27c0195ce397"
      }
     }
    },
    "7ecab1f3-593c-4260-a88f-c2676de84ccb": {
     "id": "7ecab1f3-593c-4260-a88f-c2676de84ccb",
     "prev": "3d8331b2-9596-4bb4-b655-77a76824ba37",
     "regions": {
      "9a8379aa-bd81-4998-b37b-1cff301dcaa0": {
       "attrs": {
        "height": 0.8,
        "width": 0.8,
        "x": 0.1,
        "y": 0.1
       },
       "content": {
        "cell": "22c62ffb-acd8-498b-8bfd-d64f60706a99",
        "part": "whole"
       },
       "id": "9a8379aa-bd81-4998-b37b-1cff301dcaa0"
      }
     }
    },
    "7fa02a95-44ff-4a24-bfca-943a0080550e": {
     "id": "7fa02a95-44ff-4a24-bfca-943a0080550e",
     "prev": "5f00c3a7-e52d-4840-b7df-cbf00cdf575f",
     "regions": {
      "329cb8bd-a590-462e-96a4-30aa38ab2f34": {
       "attrs": {
        "height": 0.8,
        "width": 0.8,
        "x": 0.1,
        "y": 0.1
       },
       "content": {
        "cell": "5361181d-5f5c-40ce-a5b5-ea4cf1a9506c",
        "part": "whole"
       },
       "id": "329cb8bd-a590-462e-96a4-30aa38ab2f34"
      }
     }
    },
    "861b6f69-f5b2-4d45-9e6d-ba229c57dd0e": {
     "id": "861b6f69-f5b2-4d45-9e6d-ba229c57dd0e",
     "prev": null,
     "regions": {
      "9742282f-6bf2-4ebe-8a78-e302c821f43d": {
       "attrs": {
        "height": 0.8,
        "width": 0.8,
        "x": 0.1,
        "y": 0.1
       },
       "content": {
        "cell": "baf8e299-fb98-497f-aa13-891686118465",
        "part": "whole"
       },
       "id": "9742282f-6bf2-4ebe-8a78-e302c821f43d"
      }
     }
    },
    "8797ee26-71af-4627-8f53-a21dea641ce4": {
     "id": "8797ee26-71af-4627-8f53-a21dea641ce4",
     "prev": "09b677d3-0e80-49ab-aa3c-6ab14833b062",
     "regions": {
      "af27f755-bbfc-4d4c-b596-65c296d4e24c": {
       "attrs": {
        "height": 0.8,
        "width": 0.8,
        "x": 0.1,
        "y": 0.1
       },
       "content": {
        "cell": "59e78c0e-70d7-4212-855e-c2e6f5936ea7",
        "part": "source"
       },
       "id": "af27f755-bbfc-4d4c-b596-65c296d4e24c"
      }
     }
    },
    "8b70ff21-912e-40ad-8bf8-457a23d941d7": {
     "id": "8b70ff21-912e-40ad-8bf8-457a23d941d7",
     "prev": "4382fde7-510f-4df8-ba47-a047b1290f3c",
     "regions": {
      "a0605195-c797-4690-a246-f3905160cd59": {
       "attrs": {
        "height": 0.8,
        "width": 0.8,
        "x": 0.1,
        "y": 0.1
       },
       "content": {
        "cell": "36ca2fed-49e5-4167-bb86-701f8bac0c82",
        "part": "whole"
       },
       "id": "a0605195-c797-4690-a246-f3905160cd59"
      }
     }
    },
    "9931345a-6fad-49b1-87b9-f55e7c1322c5": {
     "id": "9931345a-6fad-49b1-87b9-f55e7c1322c5",
     "prev": "02c2ddb4-0b52-4feb-9141-19377a156deb",
     "regions": {
      "b045662b-517f-4745-a987-ccfa57f6dc63": {
       "attrs": {
        "height": 0.8,
        "width": 0.8,
        "x": 0.1,
        "y": 0.1
       },
       "content": {
        "cell": "c81031f5-ee8e-46c3-893d-9152805240fb",
        "part": "whole"
       },
       "id": "b045662b-517f-4745-a987-ccfa57f6dc63"
      }
     }
    },
    "a952ba94-7150-40a5-9518-6afbf4a5b605": {
     "id": "a952ba94-7150-40a5-9518-6afbf4a5b605",
     "prev": "d3ea885e-2f5e-4a64-96b7-48fd500977f5",
     "regions": {
      "b12a1af3-db45-485c-bed1-32ebb3e8712f": {
       "attrs": {
        "height": 0.8,
        "width": 0.8,
        "x": 0.1,
        "y": 0.1
       },
       "content": {
        "cell": "de12d54a-02bf-491b-806e-4c4cb3f7ab72",
        "part": "whole"
       },
       "id": "b12a1af3-db45-485c-bed1-32ebb3e8712f"
      }
     }
    },
    "bf04e925-a64f-4904-8fcc-78369fc513ca": {
     "id": "bf04e925-a64f-4904-8fcc-78369fc513ca",
     "prev": "734d50a3-8da3-4de1-87dc-45828288a4ad",
     "regions": {
      "08fafb6b-4d6e-4642-adc6-509521e9ee11": {
       "attrs": {
        "height": 0.8,
        "width": 0.8,
        "x": 0.1,
        "y": 0.1
       },
       "content": {
        "cell": "a5a40154-c1eb-49b3-85d9-6ad7911a5212",
        "part": "whole"
       },
       "id": "08fafb6b-4d6e-4642-adc6-509521e9ee11"
      }
     }
    },
    "d3ea885e-2f5e-4a64-96b7-48fd500977f5": {
     "id": "d3ea885e-2f5e-4a64-96b7-48fd500977f5",
     "prev": "8b70ff21-912e-40ad-8bf8-457a23d941d7",
     "regions": {
      "f5b0539e-6f9a-434c-89c1-ea87ba872398": {
       "attrs": {
        "height": 0.8,
        "width": 0.8,
        "x": 0.1,
        "y": 0.1
       },
       "content": {
        "cell": "1a06b5d3-5ad0-4914-8de9-10045569c406",
        "part": "whole"
       },
       "id": "f5b0539e-6f9a-434c-89c1-ea87ba872398"
      }
     }
    },
    "e2c0ff23-9364-4bec-b069-4c8b6b7a43fe": {
     "id": "e2c0ff23-9364-4bec-b069-4c8b6b7a43fe",
     "prev": "7fa02a95-44ff-4a24-bfca-943a0080550e",
     "regions": {
      "84a2f03c-f969-4b39-8c47-da78a00bcf1c": {
       "attrs": {
        "height": 0.8,
        "width": 0.8,
        "x": 0.1,
        "y": 0.1
       },
       "content": {
        "cell": "5933d93f-a879-4694-ad78-b0c798009dc4",
        "part": "whole"
       },
       "id": "84a2f03c-f969-4b39-8c47-da78a00bcf1c"
      }
     }
    }
   },
   "themes": {}
  }
 },
 "nbformat": 4,
 "nbformat_minor": 0
}
