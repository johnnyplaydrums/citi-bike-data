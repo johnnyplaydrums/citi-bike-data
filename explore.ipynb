{
 "cells": [
  {
   "cell_type": "markdown",
   "metadata": {},
   "source": [
    "## Data exploration"
   ]
  },
  {
   "cell_type": "code",
   "execution_count": 9,
   "metadata": {
    "collapsed": true
   },
   "outputs": [],
   "source": [
    "import numpy as np\n",
    "import pandas as pd\n",
    "import matplotlib.pyplot as plt\n",
    "%matplotlib inline"
   ]
  },
  {
   "cell_type": "markdown",
   "metadata": {},
   "source": [
    "### Let's grab the data from [September, 2016](https://s3.amazonaws.com/tripdata/201609-citibike-tripdata.zip)"
   ]
  },
  {
   "cell_type": "code",
   "execution_count": 10,
   "metadata": {
    "collapsed": false
   },
   "outputs": [],
   "source": [
    "data = pd.read_csv('201609-citibike-tripdata.csv')"
   ]
  },
  {
   "cell_type": "markdown",
   "metadata": {},
   "source": [
    "### How does the data look?"
   ]
  },
  {
   "cell_type": "code",
   "execution_count": 11,
   "metadata": {
    "collapsed": false
   },
   "outputs": [
    {
     "data": {
      "text/html": [
       "<div>\n",
       "<table border=\"1\" class=\"dataframe\">\n",
       "  <thead>\n",
       "    <tr style=\"text-align: right;\">\n",
       "      <th></th>\n",
       "      <th>tripduration</th>\n",
       "      <th>starttime</th>\n",
       "      <th>stoptime</th>\n",
       "      <th>start station id</th>\n",
       "      <th>start station name</th>\n",
       "      <th>start station latitude</th>\n",
       "      <th>start station longitude</th>\n",
       "      <th>end station id</th>\n",
       "      <th>end station name</th>\n",
       "      <th>end station latitude</th>\n",
       "      <th>end station longitude</th>\n",
       "      <th>bikeid</th>\n",
       "      <th>usertype</th>\n",
       "      <th>birth year</th>\n",
       "      <th>gender</th>\n",
       "    </tr>\n",
       "  </thead>\n",
       "  <tbody>\n",
       "    <tr>\n",
       "      <th>0</th>\n",
       "      <td>975</td>\n",
       "      <td>9/1/2016 00:00:02</td>\n",
       "      <td>9/1/2016 00:16:18</td>\n",
       "      <td>312</td>\n",
       "      <td>Allen St &amp; Stanton St</td>\n",
       "      <td>40.722055</td>\n",
       "      <td>-73.989111</td>\n",
       "      <td>313</td>\n",
       "      <td>Washington Ave &amp; Park Ave</td>\n",
       "      <td>40.696102</td>\n",
       "      <td>-73.967510</td>\n",
       "      <td>22609</td>\n",
       "      <td>Subscriber</td>\n",
       "      <td>1985.0</td>\n",
       "      <td>1</td>\n",
       "    </tr>\n",
       "    <tr>\n",
       "      <th>1</th>\n",
       "      <td>1220</td>\n",
       "      <td>9/1/2016 00:00:04</td>\n",
       "      <td>9/1/2016 00:20:25</td>\n",
       "      <td>316</td>\n",
       "      <td>Fulton St &amp; William St</td>\n",
       "      <td>40.709560</td>\n",
       "      <td>-74.006536</td>\n",
       "      <td>239</td>\n",
       "      <td>Willoughby St &amp; Fleet St</td>\n",
       "      <td>40.691966</td>\n",
       "      <td>-73.981302</td>\n",
       "      <td>16966</td>\n",
       "      <td>Subscriber</td>\n",
       "      <td>1977.0</td>\n",
       "      <td>2</td>\n",
       "    </tr>\n",
       "    <tr>\n",
       "      <th>2</th>\n",
       "      <td>308</td>\n",
       "      <td>9/1/2016 00:00:19</td>\n",
       "      <td>9/1/2016 00:05:27</td>\n",
       "      <td>479</td>\n",
       "      <td>9 Ave &amp; W 45 St</td>\n",
       "      <td>40.760193</td>\n",
       "      <td>-73.991255</td>\n",
       "      <td>448</td>\n",
       "      <td>W 37 St &amp; 10 Ave</td>\n",
       "      <td>40.756604</td>\n",
       "      <td>-73.997901</td>\n",
       "      <td>25601</td>\n",
       "      <td>Subscriber</td>\n",
       "      <td>1983.0</td>\n",
       "      <td>1</td>\n",
       "    </tr>\n",
       "    <tr>\n",
       "      <th>3</th>\n",
       "      <td>250</td>\n",
       "      <td>9/1/2016 00:00:25</td>\n",
       "      <td>9/1/2016 00:04:35</td>\n",
       "      <td>297</td>\n",
       "      <td>E 15 St &amp; 3 Ave</td>\n",
       "      <td>40.734232</td>\n",
       "      <td>-73.986923</td>\n",
       "      <td>487</td>\n",
       "      <td>E 20 St &amp; FDR Drive</td>\n",
       "      <td>40.733143</td>\n",
       "      <td>-73.975739</td>\n",
       "      <td>22094</td>\n",
       "      <td>Subscriber</td>\n",
       "      <td>1953.0</td>\n",
       "      <td>1</td>\n",
       "    </tr>\n",
       "    <tr>\n",
       "      <th>4</th>\n",
       "      <td>439</td>\n",
       "      <td>9/1/2016 00:00:25</td>\n",
       "      <td>9/1/2016 00:07:45</td>\n",
       "      <td>494</td>\n",
       "      <td>W 26 St &amp; 8 Ave</td>\n",
       "      <td>40.747348</td>\n",
       "      <td>-73.997236</td>\n",
       "      <td>533</td>\n",
       "      <td>Broadway &amp; W 39 St</td>\n",
       "      <td>40.752996</td>\n",
       "      <td>-73.987216</td>\n",
       "      <td>16319</td>\n",
       "      <td>Subscriber</td>\n",
       "      <td>1985.0</td>\n",
       "      <td>1</td>\n",
       "    </tr>\n",
       "  </tbody>\n",
       "</table>\n",
       "</div>"
      ],
      "text/plain": [
       "   tripduration          starttime           stoptime  start station id  \\\n",
       "0           975  9/1/2016 00:00:02  9/1/2016 00:16:18               312   \n",
       "1          1220  9/1/2016 00:00:04  9/1/2016 00:20:25               316   \n",
       "2           308  9/1/2016 00:00:19  9/1/2016 00:05:27               479   \n",
       "3           250  9/1/2016 00:00:25  9/1/2016 00:04:35               297   \n",
       "4           439  9/1/2016 00:00:25  9/1/2016 00:07:45               494   \n",
       "\n",
       "       start station name  start station latitude  start station longitude  \\\n",
       "0   Allen St & Stanton St               40.722055               -73.989111   \n",
       "1  Fulton St & William St               40.709560               -74.006536   \n",
       "2         9 Ave & W 45 St               40.760193               -73.991255   \n",
       "3         E 15 St & 3 Ave               40.734232               -73.986923   \n",
       "4         W 26 St & 8 Ave               40.747348               -73.997236   \n",
       "\n",
       "   end station id           end station name  end station latitude  \\\n",
       "0             313  Washington Ave & Park Ave             40.696102   \n",
       "1             239   Willoughby St & Fleet St             40.691966   \n",
       "2             448           W 37 St & 10 Ave             40.756604   \n",
       "3             487        E 20 St & FDR Drive             40.733143   \n",
       "4             533         Broadway & W 39 St             40.752996   \n",
       "\n",
       "   end station longitude  bikeid    usertype  birth year  gender  \n",
       "0             -73.967510   22609  Subscriber      1985.0       1  \n",
       "1             -73.981302   16966  Subscriber      1977.0       2  \n",
       "2             -73.997901   25601  Subscriber      1983.0       1  \n",
       "3             -73.975739   22094  Subscriber      1953.0       1  \n",
       "4             -73.987216   16319  Subscriber      1985.0       1  "
      ]
     },
     "execution_count": 11,
     "metadata": {},
     "output_type": "execute_result"
    }
   ],
   "source": [
    "data.head(5)"
   ]
  },
  {
   "cell_type": "markdown",
   "metadata": {},
   "source": [
    "### Looks good! How much data do we have?"
   ]
  },
  {
   "cell_type": "code",
   "execution_count": 46,
   "metadata": {
    "collapsed": false
   },
   "outputs": [
    {
     "name": "stdout",
     "output_type": "stream",
     "text": [
      "Our data set has 1648856 rides, of which 22.54% (371680) are female and 64.11% (1057055) are male\n"
     ]
    }
   ],
   "source": [
    "num_rides = len(data)\n",
    "num_female = len(data[data['gender'] == 2])\n",
    "percent_female = (num_female / num_rides) * 100\n",
    "num_male = len(data[data['gender'] == 1])\n",
    "percent_male = (num_male / num_rides) * 100\n",
    "print((\"Our data set has %d rides, \" +\n",
    "      \"of which %.2f%% (%d) are female and %.2f%% (%d) are male\") % (\n",
    "        len(data), percent_female, num_female, percent_male, num_male))"
   ]
  },
  {
   "cell_type": "markdown",
   "metadata": {},
   "source": [
    "### What are the most popular stations?"
   ]
  },
  {
   "cell_type": "code",
   "execution_count": 57,
   "metadata": {
    "collapsed": false
   },
   "outputs": [
    {
     "name": "stdout",
     "output_type": "stream",
     "text": [
      "\n"
     ]
    },
    {
     "data": {
      "image/png": "[encoded data removed]",
      "text/plain": [
       "<matplotlib.figure.Figure at 0x11a52db38>"
      ]
     },
     "metadata": {},
     "output_type": "display_data"
    }
   ],
   "source": [
    "sorted_data = data.groupby('start station name')['start station id'].count().reset_index()\n",
    "sorted_data.columns = ['Start Station', 'Count']\n",
    "sorted_data = sorted_data.sort_values(by='Count', ascending=False).head()\n",
    "\n",
    "# create bar graph\n",
    "plt.figure(figsize=(8,8))\n",
    "plt.bar(list(range(len(sorted_data))), sorted_data['Count'], \n",
    "            tick_label=sorted_data['Start Station'])\n",
    "plt.xticks(rotation=40, fontsize = 15)\n",
    "plt.xlabel('Stations', fontsize = 15)\n",
    "plt.ylabel('Number of rides', fontsize = 15)\n",
    "plt.title('Number of rides in Sept. 2016', fontsize = 15)\n",
    "print()"
   ]
  },
  {
   "cell_type": "code",
   "execution_count": null,
   "metadata": {
    "collapsed": true
   },
   "outputs": [],
   "source": []
  }
 ],
 "metadata": {
  "anaconda-cloud": {},
  "kernelspec": {
   "display_name": "Python [Root]",
   "language": "python",
   "name": "Python [Root]"
  },
  "language_info": {
   "codemirror_mode": {
    "name": "ipython",
    "version": 3
   },
   "file_extension": ".py",
   "mimetype": "text/x-python",
   "name": "python",
   "nbconvert_exporter": "python",
   "pygments_lexer": "ipython3",
   "version": "3.5.2"
  }
 },
 "nbformat": 4,
 "nbformat_minor": 0
}
