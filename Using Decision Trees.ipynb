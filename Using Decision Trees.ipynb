{
 "cells": [
  {
   "cell_type": "markdown",
   "metadata": {},
   "source": [
    "## Let us redefine our features for the roundtrip algorithm "
   ]
  },
  {
   "cell_type": "code",
   "execution_count": 3,
   "metadata": {
    "collapsed": false
   },
   "outputs": [
    {
     "name": "stdout",
     "output_type": "stream",
     "text": [
      "combine.ipynb                        Re-evaluating Exploration.ipynb\r\n",
      "explore.ipynb                        Reference-Notebook.ipynb\r\n",
      "Machine Learning Exploration .ipynb  summerstory.ipynb\r\n",
      "README.md                            weekend.ipynb\r\n"
     ]
    }
   ],
   "source": [
    "ls"
   ]
  },
  {
   "cell_type": "code",
   "execution_count": 23,
   "metadata": {
    "collapsed": false
   },
   "outputs": [
    {
     "name": "stdout",
     "output_type": "stream",
     "text": [
      "time: 15.6 ms\n"
     ]
    }
   ],
   "source": [
    "%matplotlib notebook\n",
    "\n",
    "import pandas as pd\n",
    "import numpy as np\n",
    "import matplotlib.pyplot as plt\n",
    "from sklearn.externals import joblib\n",
    "#Notebook Specifics\n",
    "\n",
    "pd.set_option(\"max_rows\", 20)\n",
    "np.set_printoptions(suppress = True)\n",
    "import warnings"
   ]
  },
  {
   "cell_type": "code",
   "execution_count": 5,
   "metadata": {
    "collapsed": false
   },
   "outputs": [
    {
     "name": "stdout",
     "output_type": "stream",
     "text": [
      "Installed autotime.py. To use it, type:\n",
      "  %load_ext autotime\n"
     ]
    }
   ],
   "source": [
    "# This package will output the execution time of each cell. Pretty neat!\n",
    "\n",
    "warnings.filterwarnings('ignore')\n",
    "%install_ext https://raw.github.com/cpcloud/ipython-autotime/master/autotime.py\n",
    "warnings.filterwarnings('default')\n",
    "%load_ext autotime"
   ]
  },
  {
   "cell_type": "markdown",
   "metadata": {},
   "source": [
    "#### To load our training data and slice it into features and labels"
   ]
  },
  {
   "cell_type": "code",
   "execution_count": 7,
   "metadata": {
    "collapsed": false
   },
   "outputs": [
    {
     "name": "stdout",
     "output_type": "stream",
     "text": [
      "time: 19.8 s\n"
     ]
    }
   ],
   "source": [
    "data = pd.read_csv('training_clean.csv')\n",
    "features = pd.DataFrame()\n",
    "features = data[['start station latitude', 'start station longitude', 'gender', 'age', 'day of week', 'minute' ]]\n",
    "labels = pd.DataFrame()\n",
    "labels = data[['roundtrip']]\n",
    "del data   # in order to clear memory"
   ]
  },
  {
   "cell_type": "markdown",
   "metadata": {},
   "source": [
    "#### To load our testing data and slice it into test and results"
   ]
  },
  {
   "cell_type": "code",
   "execution_count": 8,
   "metadata": {
    "collapsed": false
   },
   "outputs": [
    {
     "name": "stdout",
     "output_type": "stream",
     "text": [
      "time: 33 s\n"
     ]
    }
   ],
   "source": [
    "file = pd.read_csv('testing_clean.csv')\n",
    "test = pd.DataFrame()\n",
    "test = file[['start station latitude', 'start station longitude', 'gender', 'age', 'day of week', 'minute']]\n",
    "results = pd.DataFrame()\n",
    "results = file['roundtrip']\n",
    "del file  # in order to clear memory"
   ]
  },
  {
   "cell_type": "markdown",
   "metadata": {},
   "source": [
    "### Implementing PCA"
   ]
  },
  {
   "cell_type": "code",
   "execution_count": 9,
   "metadata": {
    "collapsed": false
   },
   "outputs": [
    {
     "name": "stdout",
     "output_type": "stream",
     "text": [
      "time: 3.13 s\n"
     ]
    }
   ],
   "source": [
    "from sklearn.decomposition import PCA \n",
    "from sklearn import preprocessing"
   ]
  },
  {
   "cell_type": "code",
   "execution_count": 10,
   "metadata": {
    "collapsed": false
   },
   "outputs": [
    {
     "name": "stderr",
     "output_type": "stream",
     "text": [
      "/home/haris/anaconda3/lib/python3.5/site-packages/IPython/core/formatters.py:669: DeprecationWarning: PlainTextFormatter._singleton_printers_default is deprecated: use @default decorator instead.\n",
      "  def _singleton_printers_default(self):\n"
     ]
    },
    {
     "data": {
      "text/plain": [
       "PCA(copy=True, n_components=2, whiten=False)"
      ]
     },
     "execution_count": 10,
     "metadata": {},
     "output_type": "execute_result"
    },
    {
     "name": "stdout",
     "output_type": "stream",
     "text": [
      "time: 2.92 s\n"
     ]
    }
   ],
   "source": [
    "pca = PCA(n_components = 2)\n",
    "pca.fit(features)"
   ]
  },
  {
   "cell_type": "code",
   "execution_count": 13,
   "metadata": {
    "collapsed": false
   },
   "outputs": [
    {
     "name": "stdout",
     "output_type": "stream",
     "text": [
      "time: 1.56 s\n"
     ]
    }
   ],
   "source": [
    "scaled_features = pd.DataFrame(preprocessing.scale(features),columns = features.columns)"
   ]
  },
  {
   "cell_type": "code",
   "execution_count": 14,
   "metadata": {
    "collapsed": false
   },
   "outputs": [
    {
     "data": {
      "text/plain": [
       "array([[ 0.2590508 ,  1.26241227],\n",
       "       [ 0.85841391, -0.17167369],\n",
       "       [ 0.51628012,  0.54596457],\n",
       "       ..., \n",
       "       [ 1.81106683, -1.77870363],\n",
       "       [ 1.41099751, -0.02458433],\n",
       "       [-0.52588919,  0.36276596]])"
      ]
     },
     "execution_count": 14,
     "metadata": {},
     "output_type": "execute_result"
    },
    {
     "name": "stdout",
     "output_type": "stream",
     "text": [
      "time: 2.63 s\n"
     ]
    }
   ],
   "source": [
    "pca.fit_transform(scaled_features)"
   ]
  },
  {
   "cell_type": "code",
   "execution_count": 16,
   "metadata": {
    "collapsed": false
   },
   "outputs": [
    {
     "name": "stdout",
     "output_type": "stream",
     "text": [
      "with scaling:  [ 0.20709018  0.18207051]\n",
      "time: 4.62 ms\n"
     ]
    }
   ],
   "source": [
    "print(\"with scaling: \", pca.explained_variance_ratio_)"
   ]
  },
  {
   "cell_type": "code",
   "execution_count": 19,
   "metadata": {
    "collapsed": false
   },
   "outputs": [
    {
     "name": "stdout",
     "output_type": "stream",
     "text": [
      "      start station latitude  start station longitude    gender       age  \\\n",
      "PC-1                0.646287                 0.564140 -0.357495  0.179975   \n",
      "PC-2               -0.170556                -0.466182 -0.381422  0.687659   \n",
      "\n",
      "      day of week    minute  \n",
      "PC-1    -0.223205 -0.232475  \n",
      "PC-2    -0.322295 -0.177069  \n",
      "time: 20.9 ms\n"
     ]
    }
   ],
   "source": [
    "print(pd.DataFrame(pca.components_,columns = scaled_features.columns, index = ['PC-1','PC-2']))"
   ]
  },
  {
   "cell_type": "markdown",
   "metadata": {},
   "source": [
    "#### Trying to implement Decision Tree"
   ]
  },
  {
   "cell_type": "code",
   "execution_count": 20,
   "metadata": {
    "collapsed": false
   },
   "outputs": [
    {
     "name": "stdout",
     "output_type": "stream",
     "text": [
      "time: 215 ms\n"
     ]
    }
   ],
   "source": [
    "from sklearn.tree import DecisionTreeClassifier, export_graphviz  \n",
    "from sklearn import metrics   # for calculating the accuracy of our predictions"
   ]
  },
  {
   "cell_type": "code",
   "execution_count": 21,
   "metadata": {
    "collapsed": false
   },
   "outputs": [
    {
     "name": "stdout",
     "output_type": "stream",
     "text": [
      "time: 2.82 ms\n"
     ]
    }
   ],
   "source": [
    "dtree = DecisionTreeClassifier(random_state=0, max_depth=6)"
   ]
  },
  {
   "cell_type": "code",
   "execution_count": 22,
   "metadata": {
    "collapsed": false
   },
   "outputs": [
    {
     "data": {
      "text/plain": [
       "DecisionTreeClassifier(class_weight=None, criterion='gini', max_depth=6,\n",
       "            max_features=None, max_leaf_nodes=None, min_samples_leaf=1,\n",
       "            min_samples_split=2, min_weight_fraction_leaf=0.0,\n",
       "            presort=False, random_state=0, splitter='best')"
      ]
     },
     "execution_count": 22,
     "metadata": {},
     "output_type": "execute_result"
    },
    {
     "name": "stdout",
     "output_type": "stream",
     "text": [
      "time: 25.5 s\n"
     ]
    }
   ],
   "source": [
    "dtree.fit(features, labels)"
   ]
  },
  {
   "cell_type": "code",
   "execution_count": 24,
   "metadata": {
    "collapsed": false
   },
   "outputs": [
    {
     "name": "stdout",
     "output_type": "stream",
     "text": [
      "time: 116 ms\n"
     ]
    }
   ],
   "source": [
    "export_graphviz(dtree, out_file='classify.dot', feature_names=features.columns, filled=True, rounded=True,special_characters=True)   "
   ]
  },
  {
   "cell_type": "code",
   "execution_count": 25,
   "metadata": {
    "collapsed": false
   },
   "outputs": [
    {
     "name": "stdout",
     "output_type": "stream",
     "text": [
      "time: 891 ms\n"
     ]
    }
   ],
   "source": [
    "x = dtree.predict(test)"
   ]
  },
  {
   "cell_type": "code",
   "execution_count": 26,
   "metadata": {
    "collapsed": false
   },
   "outputs": [
    {
     "data": {
      "text/plain": [
       "0.017825482914317774"
      ]
     },
     "execution_count": 26,
     "metadata": {},
     "output_type": "execute_result"
    },
    {
     "name": "stdout",
     "output_type": "stream",
     "text": [
      "time: 536 ms\n"
     ]
    }
   ],
   "source": [
    "metrics.mean_absolute_error(results, x)"
   ]
  },
  {
   "cell_type": "code",
   "execution_count": null,
   "metadata": {
    "collapsed": false
   },
   "outputs": [],
   "source": []
  },
  {
   "cell_type": "code",
   "execution_count": null,
   "metadata": {
    "collapsed": false
   },
   "outputs": [],
   "source": []
  },
  {
   "cell_type": "code",
   "execution_count": null,
   "metadata": {
    "collapsed": true
   },
   "outputs": [],
   "source": []
  }
 ],
 "metadata": {
  "anaconda-cloud": {},
  "kernelspec": {
   "display_name": "Python [Root]",
   "language": "python",
   "name": "Python [Root]"
  },
  "language_info": {
   "codemirror_mode": {
    "name": "ipython",
    "version": 3
   },
   "file_extension": ".py",
   "mimetype": "text/x-python",
   "name": "python",
   "nbconvert_exporter": "python",
   "pygments_lexer": "ipython3",
   "version": "3.5.2"
  }
 },
 "nbformat": 4,
 "nbformat_minor": 0
}
