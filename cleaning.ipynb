{
 "cells": [
  {
   "cell_type": "markdown",
   "metadata": {},
   "source": [
    "## Data cleaning, in one place"
   ]
  },
  {
   "cell_type": "code",
   "execution_count": null,
   "metadata": {
    "collapsed": false,
    "scrolled": false
   },
   "outputs": [],
   "source": [
    "import numpy as np\n",
    "import pandas as pd\n",
    "import datetime as dt\n",
    "import matplotlib.pyplot as plt\n",
    "import warnings\n",
    "from datetime import datetime\n",
    "import time\n",
    "from geopy.distance import great_circle\n",
    "%matplotlib inline\n",
    "\n",
    "# This package will output the execution time of each cell. Pretty neat!\n",
    "warnings.filterwarnings('ignore')\n",
    "%install_ext https://raw.github.com/cpcloud/ipython-autotime/master/autotime.py\n",
    "warnings.filterwarnings('default')\n",
    "%load_ext autotime"
   ]
  },
  {
   "cell_type": "markdown",
   "metadata": {},
   "source": [
    "#### Conglomerating techniques Haris and I used in other notebooks to clean the data. Here we'll do it in one place, for 2015 and 2016."
   ]
  },
  {
   "cell_type": "code",
   "execution_count": null,
   "metadata": {
    "collapsed": false
   },
   "outputs": [],
   "source": [
    "training_data_files = ['data/201506-citibike-tripdata.csv', 'data/201507-citibike-tripdata.csv', 'data/201508-citibike-tripdata.csv']\n",
    "training = pd.DataFrame()\n",
    "for filename in training_data_files:\n",
    "    training = training.append(pd.read_csv(filename), ignore_index=True)"
   ]
  },
  {
   "cell_type": "code",
   "execution_count": null,
   "metadata": {
    "collapsed": false
   },
   "outputs": [],
   "source": [
    "testing_data_files = [\"data/201606-citibike-tripdata.csv\", \"data/201607-citibike-tripdata.csv\", \"data/201608-citibike-tripdata.csv\"]\n",
    "testing = pd.DataFrame()\n",
    "for filename in testing_data_files:\n",
    "    testing = testing.append(pd.read_csv(filename), ignore_index=True)"
   ]
  },
  {
   "cell_type": "code",
   "execution_count": null,
   "metadata": {
    "collapsed": false,
    "scrolled": false
   },
   "outputs": [],
   "source": [
    "# parse time strings of different formats\n",
    "def parse_date(text):\n",
    "    try:\n",
    "        return datetime.strptime(text, '%Y-%m-%d %H:%M:%S')\n",
    "    except ValueError:\n",
    "        try:\n",
    "            return datetime.strptime(text, '%m/%d/%Y %H:%M')\n",
    "        except ValueError:\n",
    "            try:\n",
    "                return datetime.strptime(text, '%m/%d/%Y %H:%M:%S')\n",
    "            except ValueError:\n",
    "                raise ValueError('no valid date format found')"
   ]
  },
  {
   "cell_type": "code",
   "execution_count": null,
   "metadata": {
    "collapsed": false
   },
   "outputs": [],
   "source": [
    "def clean_data(data):\n",
    "    \n",
    "    # only focus on subscribing users, the vast majority\n",
    "    data[data.usertype == 'Subscriber']\n",
    "    del data['usertype']\n",
    "    data = data.dropna(how='any').reset_index(drop=True)\n",
    "\n",
    "    # remove trips of less than 2 minutes\n",
    "    data = data[data['tripduration'] >= 120]\n",
    "\n",
    "    # convert birth year to float\n",
    "    data['birth year'] = pd.to_numeric(data['birth year'])\n",
    "\n",
    "    # create 'age' attribute, from birth year\n",
    "    data['age'] = 2015 - data['birth year']\n",
    "    data['age'] = data['age'].astype(int)\n",
    "    del data['birth year']\n",
    "\n",
    "    # change trip duration to minute as integer\n",
    "    data['tripduration'] = data['tripduration'] / 60\n",
    "    data['tripduration'] = data['tripduration'].astype(int)\n",
    "\n",
    "    # no need for bike id\n",
    "    del data['bikeid']\n",
    "    \n",
    "    #get starttimes at array of datetime objects\n",
    "    starttimes = pd.Series([parse_date(starttime) for starttime in data['starttime']])\n",
    "    \n",
    "    # add day of week column and minute column (minutes since 00:00:00 that day)\n",
    "    data['day of week'] = [starttime.weekday() for starttime in starttimes]\n",
    "    data['minute'] = [(starttime.hour * 60 + starttime.minute) for starttime in starttimes]\n",
    "    data = data.dropna(how='any').reset_index(drop=True)\n",
    "    data['day of week'] = data['day of week'].astype(int)\n",
    " \n",
    "    # calculate round trips\n",
    "    data['roundtrip'] = pd.Series(calculate_roundtrips(data))\n",
    "    data['roundtrip'] = data['roundtrip'].astype(int)\n",
    "    \n",
    "    return data"
   ]
  },
  {
   "cell_type": "code",
   "execution_count": null,
   "metadata": {
    "collapsed": false,
    "scrolled": false
   },
   "outputs": [],
   "source": [
    "# compute roundtrips\n",
    "# 0 = one way, 1 = roundtrip\n",
    "def calculate_roundtrips(trips):\n",
    "    \n",
    "    roundtrips = []\n",
    "    \n",
    "    # for use with tracking our runtime\n",
    "    count = 0\n",
    "    \n",
    "    # to measure how long this computation takes\n",
    "    startTime = datetime.now().replace(microsecond=0)\n",
    "    print(\"Start time: %s\" % startTime)\n",
    "    \n",
    "    # loop through entire input dataframe and calculate roundtrips\n",
    "    for i in trips.index:\n",
    "        # first let's check if start and stop station are the same (obvious roundtrip)\n",
    "        if ((trips.loc[i]['start station id'] == trips.loc[i]['end station id']) & \n",
    "             (trips.loc[i]['tripduration'] > 8)):\n",
    "            roundtrips.append(1)\n",
    "        else:\n",
    "            # now lets check distance between stations\n",
    "            start_coordinates = (trips.loc[i]['start station latitude'], \n",
    "                                 trips.loc[i]['start station longitude'])\n",
    "            end_coordinates = (trips.loc[i]['end station latitude'], \n",
    "                               trips.loc[i]['end station longitude'])\n",
    "            distance = great_circle(start_coordinates, end_coordinates).miles\n",
    "            \n",
    "            if (distance < .3) & (trips.loc[i]['tripduration'] > 8):\n",
    "                roundtrips.append(1)\n",
    "            else:\n",
    "                roundtrips.append(0)\n",
    "\n",
    "        # Keep track of how long this calculation is taking\n",
    "        count += 1\n",
    "        if (count % 10000 == 0):\n",
    "            now = datetime.now().replace(microsecond=0)\n",
    "            print(\"%d rows processed, %.2f%% done, %s time elapsed\" % (\n",
    "                    count, (count / len(trips)) * 100, now - startTime))\n",
    "            \n",
    "    # how long did this take?\n",
    "    endTime = datetime.now().replace(microsecond=0)\n",
    "    print(\"Runtime: %s\" % str(endTime - startTime))\n",
    "    \n",
    "    return roundtrips"
   ]
  },
  {
   "cell_type": "code",
   "execution_count": null,
   "metadata": {
    "collapsed": false
   },
   "outputs": [],
   "source": [
    "# created simpler version of clean data\n",
    "training_simple = training_clean.copy()\n",
    "del training_simple['start station name']\n",
    "del training_simple['end station name']\n",
    "del training_simple['start station latitude']\n",
    "del training_simple['start station longitude']\n",
    "del training_simple['end station latitude']\n",
    "del training_simple['end station longitude']\n",
    "del training_simple['starttime']\n",
    "del training_simple['stoptime']\n",
    "\n",
    "testing_simple = testing_clean.copy()\n",
    "del testing_simple['start station name']\n",
    "del testing_simple['end station name']\n",
    "del testing_simple['start station latitude']\n",
    "del testing_simple['start station longitude']\n",
    "del testing_simple['end station latitude']\n",
    "del testing_simple['end station longitude']\n",
    "del testing_simple['starttime']\n",
    "del testing_simple['stoptime']"
   ]
  },
  {
   "cell_type": "code",
   "execution_count": null,
   "metadata": {
    "collapsed": false
   },
   "outputs": [],
   "source": [
    "# export all data\n",
    "training_clean.to_csv('data/training_clean.csv', index=False)\n",
    "training_simple.to_csv('data/training_simple.csv', index=False)\n",
    "testing_clean.to_csv('data/testing_clean.csv', index=False)\n",
    "testing_simple.to_csv('data/testing_simple.csv', index=False)"
   ]
  }
 ],
 "metadata": {
  "anaconda-cloud": {},
  "kernelspec": {
   "display_name": "Python [Root]",
   "language": "python",
   "name": "Python [Root]"
  },
  "language_info": {
   "codemirror_mode": {
    "name": "ipython",
    "version": 3
   },
   "file_extension": ".py",
   "mimetype": "text/x-python",
   "name": "python",
   "nbconvert_exporter": "python",
   "pygments_lexer": "ipython3",
   "version": "3.5.2"
  }
 },
 "nbformat": 4,
 "nbformat_minor": 0
}
