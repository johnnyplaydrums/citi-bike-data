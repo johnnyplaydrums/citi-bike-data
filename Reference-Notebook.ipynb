{
 "cells": [
  {
   "cell_type": "markdown",
   "metadata": {},
   "source": [
    "\n",
    "\n",
    "# Reading Data"
   ]
  },
  {
   "cell_type": "code",
   "execution_count": 1,
   "metadata": {
    "collapsed": false
   },
   "outputs": [],
   "source": [
    "%matplotlib notebook\n",
    "\n",
    "import pandas as pd\n",
    "import numpy as np\n",
    "import matplotlib.pyplot as plt\n",
    "\n",
    "#Notebook Specifics\n",
    "\n",
    "pd.set_option(\"max_rows\", 20)\n",
    "np.set_printoptions(suppress = True)\n",
    "#Pretty Graphs\n",
    "\n",
    "from seaborn import set_style\n",
    "set_style(\"darkgrid\")\n",
    "import seaborn as sns"
   ]
  },
  {
   "cell_type": "markdown",
   "metadata": {},
   "source": [
    "### Loading Data into a Test and a Training set\n",
    "#### Testing Data = Summer 2016 "
   ]
  },
  {
   "cell_type": "code",
   "execution_count": 4,
   "metadata": {
    "collapsed": false
   },
   "outputs": [],
   "source": [
    "\n",
    "testing_csv_files = [\"201606-citibike-tripdata.csv\", \"201608-citibike-tripdata.csv\", \"201607-citibike-tripdata.csv\"]\n",
    "testing = pd.DataFrame()\n",
    "for filename in testing_csv_files:\n",
    "    testing = testing.append(pd.read_csv(filename))"
   ]
  },
  {
   "cell_type": "markdown",
   "metadata": {},
   "source": [
    "#### Training Data = Summer 2014 and Summer 2015"
   ]
  },
  {
   "cell_type": "code",
   "execution_count": 7,
   "metadata": {
    "collapsed": false
   },
   "outputs": [],
   "source": [
    "training_csv_files = [\"2014-06 - Citi Bike trip data.csv\",  \"201506-citibike-tripdata.csv\", \"2014-07 - Citi Bike trip data.csv\", \"201507-citibike-tripdata.csv\", \"2014-08 - Citi Bike trip data.csv\", \"201508-citibike-tripdata.csv\"]\n",
    "training = pd.DataFrame()\n",
    "for filename in training_csv_files:\n",
    "    training = training.append(pd.read_csv(filename))"
   ]
  },
  {
   "cell_type": "markdown",
   "metadata": {},
   "source": [
    "#### Inspecting Training data"
   ]
  },
  {
   "cell_type": "code",
   "execution_count": 11,
   "metadata": {
    "collapsed": false
   },
   "outputs": [
    {
     "data": {
      "text/html": [
       "<div>\n",
       "<table border=\"1\" class=\"dataframe\">\n",
       "  <thead>\n",
       "    <tr style=\"text-align: right;\">\n",
       "      <th></th>\n",
       "      <th>tripduration</th>\n",
       "      <th>starttime</th>\n",
       "      <th>stoptime</th>\n",
       "      <th>start station id</th>\n",
       "      <th>start station name</th>\n",
       "      <th>start station latitude</th>\n",
       "      <th>start station longitude</th>\n",
       "      <th>end station id</th>\n",
       "      <th>end station name</th>\n",
       "      <th>end station latitude</th>\n",
       "      <th>end station longitude</th>\n",
       "      <th>bikeid</th>\n",
       "      <th>usertype</th>\n",
       "      <th>birth year</th>\n",
       "      <th>gender</th>\n",
       "    </tr>\n",
       "  </thead>\n",
       "  <tbody>\n",
       "    <tr>\n",
       "      <th>0</th>\n",
       "      <td>520</td>\n",
       "      <td>2014-06-01 00:00:02</td>\n",
       "      <td>2014-06-01 00:08:42</td>\n",
       "      <td>358</td>\n",
       "      <td>Christopher St &amp; Greenwich St</td>\n",
       "      <td>40.732916</td>\n",
       "      <td>-74.007114</td>\n",
       "      <td>426</td>\n",
       "      <td>West St &amp; Chambers St</td>\n",
       "      <td>40.717548</td>\n",
       "      <td>-74.013221</td>\n",
       "      <td>18840</td>\n",
       "      <td>Subscriber</td>\n",
       "      <td>1979</td>\n",
       "      <td>1</td>\n",
       "    </tr>\n",
       "    <tr>\n",
       "      <th>1</th>\n",
       "      <td>520</td>\n",
       "      <td>2014-06-01 00:00:27</td>\n",
       "      <td>2014-06-01 00:09:07</td>\n",
       "      <td>335</td>\n",
       "      <td>Washington Pl &amp; Broadway</td>\n",
       "      <td>40.729039</td>\n",
       "      <td>-73.994046</td>\n",
       "      <td>265</td>\n",
       "      <td>Stanton St &amp; Chrystie St</td>\n",
       "      <td>40.722293</td>\n",
       "      <td>-73.991475</td>\n",
       "      <td>17442</td>\n",
       "      <td>Customer</td>\n",
       "      <td>\\N</td>\n",
       "      <td>0</td>\n",
       "    </tr>\n",
       "    <tr>\n",
       "      <th>2</th>\n",
       "      <td>414</td>\n",
       "      <td>2014-06-01 00:00:32</td>\n",
       "      <td>2014-06-01 00:07:26</td>\n",
       "      <td>439</td>\n",
       "      <td>E 4 St &amp; 2 Ave</td>\n",
       "      <td>40.726281</td>\n",
       "      <td>-73.989780</td>\n",
       "      <td>368</td>\n",
       "      <td>Carmine St &amp; 6 Ave</td>\n",
       "      <td>40.730386</td>\n",
       "      <td>-74.002150</td>\n",
       "      <td>16447</td>\n",
       "      <td>Subscriber</td>\n",
       "      <td>1980</td>\n",
       "      <td>1</td>\n",
       "    </tr>\n",
       "    <tr>\n",
       "      <th>3</th>\n",
       "      <td>310</td>\n",
       "      <td>2014-06-01 00:00:34</td>\n",
       "      <td>2014-06-01 00:05:44</td>\n",
       "      <td>463</td>\n",
       "      <td>9 Ave &amp; W 16 St</td>\n",
       "      <td>40.742065</td>\n",
       "      <td>-74.004432</td>\n",
       "      <td>380</td>\n",
       "      <td>W 4 St &amp; 7 Ave S</td>\n",
       "      <td>40.734011</td>\n",
       "      <td>-74.002939</td>\n",
       "      <td>18218</td>\n",
       "      <td>Subscriber</td>\n",
       "      <td>1984</td>\n",
       "      <td>1</td>\n",
       "    </tr>\n",
       "    <tr>\n",
       "      <th>4</th>\n",
       "      <td>457</td>\n",
       "      <td>2014-06-01 00:00:35</td>\n",
       "      <td>2014-06-01 00:08:12</td>\n",
       "      <td>352</td>\n",
       "      <td>W 56 St &amp; 6 Ave</td>\n",
       "      <td>40.763406</td>\n",
       "      <td>-73.977225</td>\n",
       "      <td>305</td>\n",
       "      <td>E 58 St &amp; 3 Ave</td>\n",
       "      <td>40.760958</td>\n",
       "      <td>-73.967245</td>\n",
       "      <td>18115</td>\n",
       "      <td>Subscriber</td>\n",
       "      <td>1969</td>\n",
       "      <td>1</td>\n",
       "    </tr>\n",
       "  </tbody>\n",
       "</table>\n",
       "</div>"
      ],
      "text/plain": [
       "   tripduration            starttime             stoptime  start station id  \\\n",
       "0           520  2014-06-01 00:00:02  2014-06-01 00:08:42               358   \n",
       "1           520  2014-06-01 00:00:27  2014-06-01 00:09:07               335   \n",
       "2           414  2014-06-01 00:00:32  2014-06-01 00:07:26               439   \n",
       "3           310  2014-06-01 00:00:34  2014-06-01 00:05:44               463   \n",
       "4           457  2014-06-01 00:00:35  2014-06-01 00:08:12               352   \n",
       "\n",
       "              start station name  start station latitude  \\\n",
       "0  Christopher St & Greenwich St               40.732916   \n",
       "1       Washington Pl & Broadway               40.729039   \n",
       "2                 E 4 St & 2 Ave               40.726281   \n",
       "3                9 Ave & W 16 St               40.742065   \n",
       "4                W 56 St & 6 Ave               40.763406   \n",
       "\n",
       "   start station longitude  end station id          end station name  \\\n",
       "0               -74.007114             426     West St & Chambers St   \n",
       "1               -73.994046             265  Stanton St & Chrystie St   \n",
       "2               -73.989780             368        Carmine St & 6 Ave   \n",
       "3               -74.004432             380          W 4 St & 7 Ave S   \n",
       "4               -73.977225             305           E 58 St & 3 Ave   \n",
       "\n",
       "   end station latitude  end station longitude  bikeid    usertype birth year  \\\n",
       "0             40.717548             -74.013221   18840  Subscriber       1979   \n",
       "1             40.722293             -73.991475   17442    Customer         \\N   \n",
       "2             40.730386             -74.002150   16447  Subscriber       1980   \n",
       "3             40.734011             -74.002939   18218  Subscriber       1984   \n",
       "4             40.760958             -73.967245   18115  Subscriber       1969   \n",
       "\n",
       "   gender  \n",
       "0       1  \n",
       "1       0  \n",
       "2       1  \n",
       "3       1  \n",
       "4       1  "
      ]
     },
     "execution_count": 11,
     "metadata": {},
     "output_type": "execute_result"
    }
   ],
   "source": [
    "training.head()"
   ]
  },
  {
   "cell_type": "code",
   "execution_count": 12,
   "metadata": {
    "collapsed": false
   },
   "outputs": [
    {
     "name": "stdout",
     "output_type": "stream",
     "text": [
      "<class 'pandas.core.frame.DataFrame'>\n",
      "Int64Index: 6075150 entries, 0 to 1179043\n",
      "Data columns (total 15 columns):\n",
      "tripduration               int64\n",
      "starttime                  object\n",
      "stoptime                   object\n",
      "start station id           int64\n",
      "start station name         object\n",
      "start station latitude     float64\n",
      "start station longitude    float64\n",
      "end station id             int64\n",
      "end station name           object\n",
      "end station latitude       float64\n",
      "end station longitude      float64\n",
      "bikeid                     int64\n",
      "usertype                   object\n",
      "birth year                 object\n",
      "gender                     int64\n",
      "dtypes: float64(4), int64(5), object(6)\n",
      "memory usage: 741.6+ MB\n"
     ]
    }
   ],
   "source": [
    "training.info()"
   ]
  },
  {
   "cell_type": "markdown",
   "metadata": {},
   "source": [
    "#### Since the training Data only has the tripduration column that is an \"int\" and has any sense of numerical computation  "
   ]
  },
  {
   "cell_type": "code",
   "execution_count": 13,
   "metadata": {
    "collapsed": false
   },
   "outputs": [
    {
     "data": {
      "text/plain": [
       "count    6.075150e+06\n",
       "mean     9.255700e+02\n",
       "std      5.063122e+03\n",
       "min      6.000000e+01\n",
       "25%      4.110000e+02\n",
       "50%      6.650000e+02\n",
       "75%      1.103000e+03\n",
       "max      5.174309e+06\n",
       "Name: tripduration, dtype: float64"
      ]
     },
     "execution_count": 13,
     "metadata": {},
     "output_type": "execute_result"
    }
   ],
   "source": [
    "training[\"tripduration\"].describe()"
   ]
  },
  {
   "cell_type": "code",
   "execution_count": 14,
   "metadata": {
    "collapsed": false
   },
   "outputs": [
    {
     "data": {
      "text/plain": [
       "Int64Index([      0,       1,       2,       3,       4,       5,       6,\n",
       "                  7,       8,       9,\n",
       "            ...\n",
       "            1179034, 1179035, 1179036, 1179037, 1179038, 1179039, 1179040,\n",
       "            1179041, 1179042, 1179043],\n",
       "           dtype='int64', length=6075150)"
      ]
     },
     "execution_count": 14,
     "metadata": {},
     "output_type": "execute_result"
    }
   ],
   "source": [
    "training.index"
   ]
  },
  {
   "cell_type": "code",
   "execution_count": 15,
   "metadata": {
    "collapsed": false
   },
   "outputs": [
    {
     "data": {
      "text/plain": [
       "Index(['tripduration', 'starttime', 'stoptime', 'start station id',\n",
       "       'start station name', 'start station latitude',\n",
       "       'start station longitude', 'end station id', 'end station name',\n",
       "       'end station latitude', 'end station longitude', 'bikeid', 'usertype',\n",
       "       'birth year', 'gender'],\n",
       "      dtype='object')"
      ]
     },
     "execution_count": 15,
     "metadata": {},
     "output_type": "execute_result"
    }
   ],
   "source": [
    "training.columns"
   ]
  },
  {
   "cell_type": "markdown",
   "metadata": {},
   "source": [
    "##### Sanity Checks"
   ]
  },
  {
   "cell_type": "code",
   "execution_count": 16,
   "metadata": {
    "collapsed": false
   },
   "outputs": [
    {
     "data": {
      "text/plain": [
       "Index([], dtype='object')"
      ]
     },
     "execution_count": 16,
     "metadata": {},
     "output_type": "execute_result"
    }
   ],
   "source": [
    "training.columns.difference(testing.columns) #To check that the heading of our test Data and Training Data are the same\n",
    "                                             # Since object return is empty, this implies that they have the same headings"
   ]
  },
  {
   "cell_type": "code",
   "execution_count": 17,
   "metadata": {
    "collapsed": false
   },
   "outputs": [
    {
     "data": {
      "text/plain": [
       "True"
      ]
     },
     "execution_count": 17,
     "metadata": {},
     "output_type": "execute_result"
    }
   ],
   "source": [
    "training.columns.equals(testing.columns)      #Object returned is true, so both have the same headings. "
   ]
  },
  {
   "cell_type": "code",
   "execution_count": 18,
   "metadata": {
    "collapsed": false
   },
   "outputs": [
    {
     "data": {
      "text/html": [
       "<div>\n",
       "<table border=\"1\" class=\"dataframe\">\n",
       "  <thead>\n",
       "    <tr style=\"text-align: right;\">\n",
       "      <th></th>\n",
       "      <th>tripduration</th>\n",
       "      <th>starttime</th>\n",
       "      <th>stoptime</th>\n",
       "      <th>start station id</th>\n",
       "      <th>start station name</th>\n",
       "      <th>start station latitude</th>\n",
       "      <th>start station longitude</th>\n",
       "      <th>end station id</th>\n",
       "      <th>end station name</th>\n",
       "      <th>end station latitude</th>\n",
       "      <th>end station longitude</th>\n",
       "      <th>bikeid</th>\n",
       "      <th>usertype</th>\n",
       "      <th>birth year</th>\n",
       "      <th>gender</th>\n",
       "    </tr>\n",
       "  </thead>\n",
       "  <tbody>\n",
       "    <tr>\n",
       "      <th>5</th>\n",
       "      <td>399</td>\n",
       "      <td>2014-06-01 00:00:43</td>\n",
       "      <td>2014-06-01 00:07:22</td>\n",
       "      <td>293</td>\n",
       "      <td>Lafayette St &amp; E 8 St</td>\n",
       "      <td>40.730287</td>\n",
       "      <td>-73.990765</td>\n",
       "      <td>247</td>\n",
       "      <td>Perry St &amp; Bleecker St</td>\n",
       "      <td>40.735354</td>\n",
       "      <td>-74.004831</td>\n",
       "      <td>18527</td>\n",
       "      <td>Subscriber</td>\n",
       "      <td>1970</td>\n",
       "      <td>1</td>\n",
       "    </tr>\n",
       "    <tr>\n",
       "      <th>5</th>\n",
       "      <td>690</td>\n",
       "      <td>6/1/2015 0:03</td>\n",
       "      <td>6/1/2015 0:15</td>\n",
       "      <td>284</td>\n",
       "      <td>Greenwich Ave &amp; 8 Ave</td>\n",
       "      <td>40.739017</td>\n",
       "      <td>-74.002638</td>\n",
       "      <td>410</td>\n",
       "      <td>Suffolk St &amp; Stanton St</td>\n",
       "      <td>40.720664</td>\n",
       "      <td>-73.985180</td>\n",
       "      <td>20857</td>\n",
       "      <td>Subscriber</td>\n",
       "      <td>1976</td>\n",
       "      <td>1</td>\n",
       "    </tr>\n",
       "    <tr>\n",
       "      <th>5</th>\n",
       "      <td>2245</td>\n",
       "      <td>2014-07-01 00:01:09</td>\n",
       "      <td>2014-07-01 00:38:34</td>\n",
       "      <td>416</td>\n",
       "      <td>Cumberland St &amp; Lafayette Ave</td>\n",
       "      <td>40.687534</td>\n",
       "      <td>-73.972652</td>\n",
       "      <td>473</td>\n",
       "      <td>Rivington St &amp; Chrystie St</td>\n",
       "      <td>40.721101</td>\n",
       "      <td>-73.991925</td>\n",
       "      <td>20653</td>\n",
       "      <td>Subscriber</td>\n",
       "      <td>1976</td>\n",
       "      <td>1</td>\n",
       "    </tr>\n",
       "    <tr>\n",
       "      <th>5</th>\n",
       "      <td>603</td>\n",
       "      <td>7/1/2015 00:01:00</td>\n",
       "      <td>7/1/2015 00:11:04</td>\n",
       "      <td>455</td>\n",
       "      <td>1 Ave &amp; E 44 St</td>\n",
       "      <td>40.750020</td>\n",
       "      <td>-73.969053</td>\n",
       "      <td>367</td>\n",
       "      <td>E 53 St &amp; Lexington Ave</td>\n",
       "      <td>40.758281</td>\n",
       "      <td>-73.970694</td>\n",
       "      <td>17069</td>\n",
       "      <td>Subscriber</td>\n",
       "      <td>1953</td>\n",
       "      <td>1</td>\n",
       "    </tr>\n",
       "    <tr>\n",
       "      <th>5</th>\n",
       "      <td>308</td>\n",
       "      <td>2014-08-01 00:00:17</td>\n",
       "      <td>2014-08-01 00:05:25</td>\n",
       "      <td>477</td>\n",
       "      <td>W 41 St &amp; 8 Ave</td>\n",
       "      <td>40.756405</td>\n",
       "      <td>-73.990026</td>\n",
       "      <td>478</td>\n",
       "      <td>11 Ave &amp; W 41 St</td>\n",
       "      <td>40.760301</td>\n",
       "      <td>-73.998842</td>\n",
       "      <td>19797</td>\n",
       "      <td>Subscriber</td>\n",
       "      <td>1958</td>\n",
       "      <td>1</td>\n",
       "    </tr>\n",
       "    <tr>\n",
       "      <th>...</th>\n",
       "      <td>...</td>\n",
       "      <td>...</td>\n",
       "      <td>...</td>\n",
       "      <td>...</td>\n",
       "      <td>...</td>\n",
       "      <td>...</td>\n",
       "      <td>...</td>\n",
       "      <td>...</td>\n",
       "      <td>...</td>\n",
       "      <td>...</td>\n",
       "      <td>...</td>\n",
       "      <td>...</td>\n",
       "      <td>...</td>\n",
       "      <td>...</td>\n",
       "      <td>...</td>\n",
       "    </tr>\n",
       "    <tr>\n",
       "      <th>15</th>\n",
       "      <td>635</td>\n",
       "      <td>6/1/2015 0:13</td>\n",
       "      <td>6/1/2015 0:24</td>\n",
       "      <td>480</td>\n",
       "      <td>W 53 St &amp; 10 Ave</td>\n",
       "      <td>40.766697</td>\n",
       "      <td>-73.990617</td>\n",
       "      <td>490</td>\n",
       "      <td>8 Ave &amp; W 33 St</td>\n",
       "      <td>40.751551</td>\n",
       "      <td>-73.993934</td>\n",
       "      <td>15170</td>\n",
       "      <td>Subscriber</td>\n",
       "      <td>1976</td>\n",
       "      <td>1</td>\n",
       "    </tr>\n",
       "    <tr>\n",
       "      <th>15</th>\n",
       "      <td>653</td>\n",
       "      <td>2014-07-01 00:02:04</td>\n",
       "      <td>2014-07-01 00:12:57</td>\n",
       "      <td>504</td>\n",
       "      <td>1 Ave &amp; E 15 St</td>\n",
       "      <td>40.732219</td>\n",
       "      <td>-73.981656</td>\n",
       "      <td>334</td>\n",
       "      <td>W 20 St &amp; 7 Ave</td>\n",
       "      <td>40.742388</td>\n",
       "      <td>-73.997262</td>\n",
       "      <td>15645</td>\n",
       "      <td>Subscriber</td>\n",
       "      <td>1964</td>\n",
       "      <td>2</td>\n",
       "    </tr>\n",
       "    <tr>\n",
       "      <th>15</th>\n",
       "      <td>463</td>\n",
       "      <td>7/1/2015 00:02:26</td>\n",
       "      <td>7/1/2015 00:10:10</td>\n",
       "      <td>527</td>\n",
       "      <td>E 33 St &amp; 2 Ave</td>\n",
       "      <td>40.744023</td>\n",
       "      <td>-73.976056</td>\n",
       "      <td>491</td>\n",
       "      <td>E 24 St &amp; Park Ave S</td>\n",
       "      <td>40.740964</td>\n",
       "      <td>-73.986022</td>\n",
       "      <td>20346</td>\n",
       "      <td>Subscriber</td>\n",
       "      <td>1963</td>\n",
       "      <td>1</td>\n",
       "    </tr>\n",
       "    <tr>\n",
       "      <th>15</th>\n",
       "      <td>1440</td>\n",
       "      <td>2014-08-01 00:01:09</td>\n",
       "      <td>2014-08-01 00:25:09</td>\n",
       "      <td>515</td>\n",
       "      <td>W 43 St &amp; 10 Ave</td>\n",
       "      <td>40.760094</td>\n",
       "      <td>-73.994618</td>\n",
       "      <td>355</td>\n",
       "      <td>Bayard St &amp; Baxter St</td>\n",
       "      <td>40.716021</td>\n",
       "      <td>-73.999744</td>\n",
       "      <td>14722</td>\n",
       "      <td>Subscriber</td>\n",
       "      <td>1989</td>\n",
       "      <td>1</td>\n",
       "    </tr>\n",
       "    <tr>\n",
       "      <th>15</th>\n",
       "      <td>618</td>\n",
       "      <td>8/1/2015 00:01:13</td>\n",
       "      <td>8/1/2015 00:11:32</td>\n",
       "      <td>379</td>\n",
       "      <td>W 31 St &amp; 7 Ave</td>\n",
       "      <td>40.749156</td>\n",
       "      <td>-73.991600</td>\n",
       "      <td>380</td>\n",
       "      <td>W 4 St &amp; 7 Ave S</td>\n",
       "      <td>40.734011</td>\n",
       "      <td>-74.002939</td>\n",
       "      <td>22989</td>\n",
       "      <td>Subscriber</td>\n",
       "      <td>1985</td>\n",
       "      <td>1</td>\n",
       "    </tr>\n",
       "  </tbody>\n",
       "</table>\n",
       "<p>18 rows × 15 columns</p>\n",
       "</div>"
      ],
      "text/plain": [
       "    tripduration            starttime             stoptime  start station id  \\\n",
       "5            399  2014-06-01 00:00:43  2014-06-01 00:07:22               293   \n",
       "5            690        6/1/2015 0:03        6/1/2015 0:15               284   \n",
       "5           2245  2014-07-01 00:01:09  2014-07-01 00:38:34               416   \n",
       "5            603    7/1/2015 00:01:00    7/1/2015 00:11:04               455   \n",
       "5            308  2014-08-01 00:00:17  2014-08-01 00:05:25               477   \n",
       "..           ...                  ...                  ...               ...   \n",
       "15           635        6/1/2015 0:13        6/1/2015 0:24               480   \n",
       "15           653  2014-07-01 00:02:04  2014-07-01 00:12:57               504   \n",
       "15           463    7/1/2015 00:02:26    7/1/2015 00:10:10               527   \n",
       "15          1440  2014-08-01 00:01:09  2014-08-01 00:25:09               515   \n",
       "15           618    8/1/2015 00:01:13    8/1/2015 00:11:32               379   \n",
       "\n",
       "               start station name  start station latitude  \\\n",
       "5           Lafayette St & E 8 St               40.730287   \n",
       "5           Greenwich Ave & 8 Ave               40.739017   \n",
       "5   Cumberland St & Lafayette Ave               40.687534   \n",
       "5                 1 Ave & E 44 St               40.750020   \n",
       "5                 W 41 St & 8 Ave               40.756405   \n",
       "..                            ...                     ...   \n",
       "15               W 53 St & 10 Ave               40.766697   \n",
       "15                1 Ave & E 15 St               40.732219   \n",
       "15                E 33 St & 2 Ave               40.744023   \n",
       "15               W 43 St & 10 Ave               40.760094   \n",
       "15                W 31 St & 7 Ave               40.749156   \n",
       "\n",
       "    start station longitude  end station id            end station name  \\\n",
       "5                -73.990765             247      Perry St & Bleecker St   \n",
       "5                -74.002638             410     Suffolk St & Stanton St   \n",
       "5                -73.972652             473  Rivington St & Chrystie St   \n",
       "5                -73.969053             367     E 53 St & Lexington Ave   \n",
       "5                -73.990026             478            11 Ave & W 41 St   \n",
       "..                      ...             ...                         ...   \n",
       "15               -73.990617             490             8 Ave & W 33 St   \n",
       "15               -73.981656             334             W 20 St & 7 Ave   \n",
       "15               -73.976056             491        E 24 St & Park Ave S   \n",
       "15               -73.994618             355       Bayard St & Baxter St   \n",
       "15               -73.991600             380            W 4 St & 7 Ave S   \n",
       "\n",
       "    end station latitude  end station longitude  bikeid    usertype  \\\n",
       "5              40.735354             -74.004831   18527  Subscriber   \n",
       "5              40.720664             -73.985180   20857  Subscriber   \n",
       "5              40.721101             -73.991925   20653  Subscriber   \n",
       "5              40.758281             -73.970694   17069  Subscriber   \n",
       "5              40.760301             -73.998842   19797  Subscriber   \n",
       "..                   ...                    ...     ...         ...   \n",
       "15             40.751551             -73.993934   15170  Subscriber   \n",
       "15             40.742388             -73.997262   15645  Subscriber   \n",
       "15             40.740964             -73.986022   20346  Subscriber   \n",
       "15             40.716021             -73.999744   14722  Subscriber   \n",
       "15             40.734011             -74.002939   22989  Subscriber   \n",
       "\n",
       "   birth year  gender  \n",
       "5        1970       1  \n",
       "5        1976       1  \n",
       "5        1976       1  \n",
       "5        1953       1  \n",
       "5        1958       1  \n",
       "..        ...     ...  \n",
       "15       1976       1  \n",
       "15       1964       2  \n",
       "15       1963       1  \n",
       "15       1989       1  \n",
       "15       1985       1  \n",
       "\n",
       "[18 rows x 15 columns]"
      ]
     },
     "execution_count": 18,
     "metadata": {},
     "output_type": "execute_result"
    }
   ],
   "source": [
    "training.ix[[5,10,15]]"
   ]
  },
  {
   "cell_type": "code",
   "execution_count": 19,
   "metadata": {
    "collapsed": false
   },
   "outputs": [
    {
     "data": {
      "text/html": [
       "<div>\n",
       "<table border=\"1\" class=\"dataframe\">\n",
       "  <thead>\n",
       "    <tr style=\"text-align: right;\">\n",
       "      <th></th>\n",
       "      <th>starttime</th>\n",
       "      <th>stoptime</th>\n",
       "      <th>start station name</th>\n",
       "      <th>end station name</th>\n",
       "    </tr>\n",
       "  </thead>\n",
       "  <tbody>\n",
       "    <tr>\n",
       "      <th>0</th>\n",
       "      <td>2014-06-01 00:00:02</td>\n",
       "      <td>2014-06-01 00:08:42</td>\n",
       "      <td>Christopher St &amp; Greenwich St</td>\n",
       "      <td>West St &amp; Chambers St</td>\n",
       "    </tr>\n",
       "    <tr>\n",
       "      <th>1</th>\n",
       "      <td>2014-06-01 00:00:27</td>\n",
       "      <td>2014-06-01 00:09:07</td>\n",
       "      <td>Washington Pl &amp; Broadway</td>\n",
       "      <td>Stanton St &amp; Chrystie St</td>\n",
       "    </tr>\n",
       "    <tr>\n",
       "      <th>2</th>\n",
       "      <td>2014-06-01 00:00:32</td>\n",
       "      <td>2014-06-01 00:07:26</td>\n",
       "      <td>E 4 St &amp; 2 Ave</td>\n",
       "      <td>Carmine St &amp; 6 Ave</td>\n",
       "    </tr>\n",
       "    <tr>\n",
       "      <th>3</th>\n",
       "      <td>2014-06-01 00:00:34</td>\n",
       "      <td>2014-06-01 00:05:44</td>\n",
       "      <td>9 Ave &amp; W 16 St</td>\n",
       "      <td>W 4 St &amp; 7 Ave S</td>\n",
       "    </tr>\n",
       "    <tr>\n",
       "      <th>4</th>\n",
       "      <td>2014-06-01 00:00:35</td>\n",
       "      <td>2014-06-01 00:08:12</td>\n",
       "      <td>W 56 St &amp; 6 Ave</td>\n",
       "      <td>E 58 St &amp; 3 Ave</td>\n",
       "    </tr>\n",
       "    <tr>\n",
       "      <th>...</th>\n",
       "      <td>...</td>\n",
       "      <td>...</td>\n",
       "      <td>...</td>\n",
       "      <td>...</td>\n",
       "    </tr>\n",
       "    <tr>\n",
       "      <th>1179039</th>\n",
       "      <td>8/31/2015 23:58:43</td>\n",
       "      <td>9/1/2015 00:05:47</td>\n",
       "      <td>Vernon Blvd &amp; 50 Ave</td>\n",
       "      <td>McGuinness Blvd &amp; Eagle St</td>\n",
       "    </tr>\n",
       "    <tr>\n",
       "      <th>1179040</th>\n",
       "      <td>8/31/2015 23:58:54</td>\n",
       "      <td>9/1/2015 00:15:56</td>\n",
       "      <td>E 39 St &amp; 2 Ave</td>\n",
       "      <td>W Broadway &amp; Spring St</td>\n",
       "    </tr>\n",
       "    <tr>\n",
       "      <th>1179041</th>\n",
       "      <td>8/31/2015 23:59:11</td>\n",
       "      <td>9/1/2015 00:30:47</td>\n",
       "      <td>Sullivan St &amp; Washington Sq</td>\n",
       "      <td>Atlantic Ave &amp; Fort Greene Pl</td>\n",
       "    </tr>\n",
       "    <tr>\n",
       "      <th>1179042</th>\n",
       "      <td>8/31/2015 23:59:16</td>\n",
       "      <td>9/1/2015 00:13:02</td>\n",
       "      <td>Division Ave &amp; Marcy Ave</td>\n",
       "      <td>Lafayette Ave &amp; Classon Ave</td>\n",
       "    </tr>\n",
       "    <tr>\n",
       "      <th>1179043</th>\n",
       "      <td>8/31/2015 23:59:41</td>\n",
       "      <td>9/1/2015 00:01:26</td>\n",
       "      <td>E 31 St &amp; 3 Ave</td>\n",
       "      <td>E 30 St &amp; Park Ave S</td>\n",
       "    </tr>\n",
       "  </tbody>\n",
       "</table>\n",
       "<p>6075150 rows × 4 columns</p>\n",
       "</div>"
      ],
      "text/plain": [
       "                   starttime             stoptime  \\\n",
       "0        2014-06-01 00:00:02  2014-06-01 00:08:42   \n",
       "1        2014-06-01 00:00:27  2014-06-01 00:09:07   \n",
       "2        2014-06-01 00:00:32  2014-06-01 00:07:26   \n",
       "3        2014-06-01 00:00:34  2014-06-01 00:05:44   \n",
       "4        2014-06-01 00:00:35  2014-06-01 00:08:12   \n",
       "...                      ...                  ...   \n",
       "1179039   8/31/2015 23:58:43    9/1/2015 00:05:47   \n",
       "1179040   8/31/2015 23:58:54    9/1/2015 00:15:56   \n",
       "1179041   8/31/2015 23:59:11    9/1/2015 00:30:47   \n",
       "1179042   8/31/2015 23:59:16    9/1/2015 00:13:02   \n",
       "1179043   8/31/2015 23:59:41    9/1/2015 00:01:26   \n",
       "\n",
       "                    start station name               end station name  \n",
       "0        Christopher St & Greenwich St          West St & Chambers St  \n",
       "1             Washington Pl & Broadway       Stanton St & Chrystie St  \n",
       "2                       E 4 St & 2 Ave             Carmine St & 6 Ave  \n",
       "3                      9 Ave & W 16 St               W 4 St & 7 Ave S  \n",
       "4                      W 56 St & 6 Ave                E 58 St & 3 Ave  \n",
       "...                                ...                            ...  \n",
       "1179039           Vernon Blvd & 50 Ave     McGuinness Blvd & Eagle St  \n",
       "1179040                E 39 St & 2 Ave         W Broadway & Spring St  \n",
       "1179041    Sullivan St & Washington Sq  Atlantic Ave & Fort Greene Pl  \n",
       "1179042       Division Ave & Marcy Ave    Lafayette Ave & Classon Ave  \n",
       "1179043                E 31 St & 3 Ave           E 30 St & Park Ave S  \n",
       "\n",
       "[6075150 rows x 4 columns]"
      ]
     },
     "execution_count": 19,
     "metadata": {},
     "output_type": "execute_result"
    }
   ],
   "source": [
    "training[[\"starttime\", \"stoptime\" ,\"start station name\" , \"end station name\"] ]"
   ]
  },
  {
   "cell_type": "code",
   "execution_count": 20,
   "metadata": {
    "collapsed": false
   },
   "outputs": [
    {
     "data": {
      "text/plain": [
       "pandas.core.frame.DataFrame"
      ]
     },
     "execution_count": 20,
     "metadata": {},
     "output_type": "execute_result"
    }
   ],
   "source": [
    "type(training[[\"starttime\"]])"
   ]
  },
  {
   "cell_type": "code",
   "execution_count": 21,
   "metadata": {
    "collapsed": false
   },
   "outputs": [
    {
     "data": {
      "text/plain": [
       "pandas.core.series.Series"
      ]
     },
     "execution_count": 21,
     "metadata": {},
     "output_type": "execute_result"
    }
   ],
   "source": [
    "type(training[\"starttime\"])"
   ]
  },
  {
   "cell_type": "code",
   "execution_count": 22,
   "metadata": {
    "collapsed": false
   },
   "outputs": [
    {
     "data": {
      "text/html": [
       "<div>\n",
       "<table border=\"1\" class=\"dataframe\">\n",
       "  <thead>\n",
       "    <tr style=\"text-align: right;\">\n",
       "      <th></th>\n",
       "      <th>starttime</th>\n",
       "      <th>stoptime</th>\n",
       "      <th>start station name</th>\n",
       "      <th>end station name</th>\n",
       "    </tr>\n",
       "  </thead>\n",
       "  <tbody>\n",
       "    <tr>\n",
       "      <th>5</th>\n",
       "      <td>2014-06-01 00:00:43</td>\n",
       "      <td>2014-06-01 00:07:22</td>\n",
       "      <td>Lafayette St &amp; E 8 St</td>\n",
       "      <td>Perry St &amp; Bleecker St</td>\n",
       "    </tr>\n",
       "    <tr>\n",
       "      <th>5</th>\n",
       "      <td>6/1/2015 0:03</td>\n",
       "      <td>6/1/2015 0:15</td>\n",
       "      <td>Greenwich Ave &amp; 8 Ave</td>\n",
       "      <td>Suffolk St &amp; Stanton St</td>\n",
       "    </tr>\n",
       "    <tr>\n",
       "      <th>5</th>\n",
       "      <td>2014-07-01 00:01:09</td>\n",
       "      <td>2014-07-01 00:38:34</td>\n",
       "      <td>Cumberland St &amp; Lafayette Ave</td>\n",
       "      <td>Rivington St &amp; Chrystie St</td>\n",
       "    </tr>\n",
       "    <tr>\n",
       "      <th>5</th>\n",
       "      <td>7/1/2015 00:01:00</td>\n",
       "      <td>7/1/2015 00:11:04</td>\n",
       "      <td>1 Ave &amp; E 44 St</td>\n",
       "      <td>E 53 St &amp; Lexington Ave</td>\n",
       "    </tr>\n",
       "    <tr>\n",
       "      <th>5</th>\n",
       "      <td>2014-08-01 00:00:17</td>\n",
       "      <td>2014-08-01 00:05:25</td>\n",
       "      <td>W 41 St &amp; 8 Ave</td>\n",
       "      <td>11 Ave &amp; W 41 St</td>\n",
       "    </tr>\n",
       "    <tr>\n",
       "      <th>...</th>\n",
       "      <td>...</td>\n",
       "      <td>...</td>\n",
       "      <td>...</td>\n",
       "      <td>...</td>\n",
       "    </tr>\n",
       "    <tr>\n",
       "      <th>15</th>\n",
       "      <td>6/1/2015 0:13</td>\n",
       "      <td>6/1/2015 0:24</td>\n",
       "      <td>W 53 St &amp; 10 Ave</td>\n",
       "      <td>8 Ave &amp; W 33 St</td>\n",
       "    </tr>\n",
       "    <tr>\n",
       "      <th>15</th>\n",
       "      <td>2014-07-01 00:02:04</td>\n",
       "      <td>2014-07-01 00:12:57</td>\n",
       "      <td>1 Ave &amp; E 15 St</td>\n",
       "      <td>W 20 St &amp; 7 Ave</td>\n",
       "    </tr>\n",
       "    <tr>\n",
       "      <th>15</th>\n",
       "      <td>7/1/2015 00:02:26</td>\n",
       "      <td>7/1/2015 00:10:10</td>\n",
       "      <td>E 33 St &amp; 2 Ave</td>\n",
       "      <td>E 24 St &amp; Park Ave S</td>\n",
       "    </tr>\n",
       "    <tr>\n",
       "      <th>15</th>\n",
       "      <td>2014-08-01 00:01:09</td>\n",
       "      <td>2014-08-01 00:25:09</td>\n",
       "      <td>W 43 St &amp; 10 Ave</td>\n",
       "      <td>Bayard St &amp; Baxter St</td>\n",
       "    </tr>\n",
       "    <tr>\n",
       "      <th>15</th>\n",
       "      <td>8/1/2015 00:01:13</td>\n",
       "      <td>8/1/2015 00:11:32</td>\n",
       "      <td>W 31 St &amp; 7 Ave</td>\n",
       "      <td>W 4 St &amp; 7 Ave S</td>\n",
       "    </tr>\n",
       "  </tbody>\n",
       "</table>\n",
       "<p>18 rows × 4 columns</p>\n",
       "</div>"
      ],
      "text/plain": [
       "              starttime             stoptime             start station name  \\\n",
       "5   2014-06-01 00:00:43  2014-06-01 00:07:22          Lafayette St & E 8 St   \n",
       "5         6/1/2015 0:03        6/1/2015 0:15          Greenwich Ave & 8 Ave   \n",
       "5   2014-07-01 00:01:09  2014-07-01 00:38:34  Cumberland St & Lafayette Ave   \n",
       "5     7/1/2015 00:01:00    7/1/2015 00:11:04                1 Ave & E 44 St   \n",
       "5   2014-08-01 00:00:17  2014-08-01 00:05:25                W 41 St & 8 Ave   \n",
       "..                  ...                  ...                            ...   \n",
       "15        6/1/2015 0:13        6/1/2015 0:24               W 53 St & 10 Ave   \n",
       "15  2014-07-01 00:02:04  2014-07-01 00:12:57                1 Ave & E 15 St   \n",
       "15    7/1/2015 00:02:26    7/1/2015 00:10:10                E 33 St & 2 Ave   \n",
       "15  2014-08-01 00:01:09  2014-08-01 00:25:09               W 43 St & 10 Ave   \n",
       "15    8/1/2015 00:01:13    8/1/2015 00:11:32                W 31 St & 7 Ave   \n",
       "\n",
       "              end station name  \n",
       "5       Perry St & Bleecker St  \n",
       "5      Suffolk St & Stanton St  \n",
       "5   Rivington St & Chrystie St  \n",
       "5      E 53 St & Lexington Ave  \n",
       "5             11 Ave & W 41 St  \n",
       "..                         ...  \n",
       "15             8 Ave & W 33 St  \n",
       "15             W 20 St & 7 Ave  \n",
       "15        E 24 St & Park Ave S  \n",
       "15       Bayard St & Baxter St  \n",
       "15            W 4 St & 7 Ave S  \n",
       "\n",
       "[18 rows x 4 columns]"
      ]
     },
     "execution_count": 22,
     "metadata": {},
     "output_type": "execute_result"
    }
   ],
   "source": [
    "training.ix[[5,10,15], [\"starttime\", \"stoptime\" ,\"start station name\" , \"end station name\"]]"
   ]
  },
  {
   "cell_type": "code",
   "execution_count": 51,
   "metadata": {
    "collapsed": false
   },
   "outputs": [
    {
     "data": {
      "text/html": [
       "<div>\n",
       "<table border=\"1\" class=\"dataframe\">\n",
       "  <thead>\n",
       "    <tr style=\"text-align: right;\">\n",
       "      <th></th>\n",
       "      <th></th>\n",
       "      <th>end station name</th>\n",
       "      <th>usertype</th>\n",
       "    </tr>\n",
       "    <tr>\n",
       "      <th>start station name</th>\n",
       "      <th></th>\n",
       "      <th></th>\n",
       "      <th></th>\n",
       "    </tr>\n",
       "  </thead>\n",
       "  <tbody>\n",
       "    <tr>\n",
       "      <th rowspan=\"4\" valign=\"top\">1 Ave &amp; E 15 St</th>\n",
       "      <th>count</th>\n",
       "      <td>31884</td>\n",
       "      <td>31884</td>\n",
       "    </tr>\n",
       "    <tr>\n",
       "      <th>unique</th>\n",
       "      <td>334</td>\n",
       "      <td>2</td>\n",
       "    </tr>\n",
       "    <tr>\n",
       "      <th>top</th>\n",
       "      <td>E 23 St &amp; 1 Ave</td>\n",
       "      <td>Subscriber</td>\n",
       "    </tr>\n",
       "    <tr>\n",
       "      <th>freq</th>\n",
       "      <td>1031</td>\n",
       "      <td>29568</td>\n",
       "    </tr>\n",
       "    <tr>\n",
       "      <th rowspan=\"4\" valign=\"top\">1 Ave &amp; E 18 St</th>\n",
       "      <th>count</th>\n",
       "      <td>19161</td>\n",
       "      <td>19161</td>\n",
       "    </tr>\n",
       "    <tr>\n",
       "      <th>unique</th>\n",
       "      <td>308</td>\n",
       "      <td>2</td>\n",
       "    </tr>\n",
       "    <tr>\n",
       "      <th>top</th>\n",
       "      <td>E 17 St &amp; Broadway</td>\n",
       "      <td>Subscriber</td>\n",
       "    </tr>\n",
       "    <tr>\n",
       "      <th>freq</th>\n",
       "      <td>661</td>\n",
       "      <td>17485</td>\n",
       "    </tr>\n",
       "    <tr>\n",
       "      <th rowspan=\"2\" valign=\"top\">1 Ave &amp; E 30 St</th>\n",
       "      <th>count</th>\n",
       "      <td>24029</td>\n",
       "      <td>24029</td>\n",
       "    </tr>\n",
       "    <tr>\n",
       "      <th>unique</th>\n",
       "      <td>319</td>\n",
       "      <td>2</td>\n",
       "    </tr>\n",
       "    <tr>\n",
       "      <th>...</th>\n",
       "      <th>...</th>\n",
       "      <td>...</td>\n",
       "      <td>...</td>\n",
       "    </tr>\n",
       "    <tr>\n",
       "      <th rowspan=\"2\" valign=\"top\">Wythe Ave &amp; Metropolitan Ave</th>\n",
       "      <th>top</th>\n",
       "      <td>Wythe Ave &amp; Metropolitan Ave</td>\n",
       "      <td>Subscriber</td>\n",
       "    </tr>\n",
       "    <tr>\n",
       "      <th>freq</th>\n",
       "      <td>766</td>\n",
       "      <td>9122</td>\n",
       "    </tr>\n",
       "    <tr>\n",
       "      <th rowspan=\"4\" valign=\"top\">Yankee Ferry Terminal</th>\n",
       "      <th>count</th>\n",
       "      <td>1040</td>\n",
       "      <td>1040</td>\n",
       "    </tr>\n",
       "    <tr>\n",
       "      <th>unique</th>\n",
       "      <td>7</td>\n",
       "      <td>2</td>\n",
       "    </tr>\n",
       "    <tr>\n",
       "      <th>top</th>\n",
       "      <td>Yankee Ferry Terminal</td>\n",
       "      <td>Customer</td>\n",
       "    </tr>\n",
       "    <tr>\n",
       "      <th>freq</th>\n",
       "      <td>555</td>\n",
       "      <td>695</td>\n",
       "    </tr>\n",
       "    <tr>\n",
       "      <th rowspan=\"4\" valign=\"top\">York St &amp; Jay St</th>\n",
       "      <th>count</th>\n",
       "      <td>12179</td>\n",
       "      <td>12179</td>\n",
       "    </tr>\n",
       "    <tr>\n",
       "      <th>unique</th>\n",
       "      <td>333</td>\n",
       "      <td>2</td>\n",
       "    </tr>\n",
       "    <tr>\n",
       "      <th>top</th>\n",
       "      <td>Flushing Ave &amp; Carlton Ave</td>\n",
       "      <td>Subscriber</td>\n",
       "    </tr>\n",
       "    <tr>\n",
       "      <th>freq</th>\n",
       "      <td>604</td>\n",
       "      <td>9934</td>\n",
       "    </tr>\n",
       "  </tbody>\n",
       "</table>\n",
       "<p>1736 rows × 2 columns</p>\n",
       "</div>"
      ],
      "text/plain": [
       "                                                 end station name    usertype\n",
       "start station name                                                           \n",
       "1 Ave & E 15 St              count                          31884       31884\n",
       "                             unique                           334           2\n",
       "                             top                  E 23 St & 1 Ave  Subscriber\n",
       "                             freq                            1031       29568\n",
       "1 Ave & E 18 St              count                          19161       19161\n",
       "                             unique                           308           2\n",
       "                             top               E 17 St & Broadway  Subscriber\n",
       "                             freq                             661       17485\n",
       "1 Ave & E 30 St              count                          24029       24029\n",
       "                             unique                           319           2\n",
       "...                                                           ...         ...\n",
       "Wythe Ave & Metropolitan Ave top     Wythe Ave & Metropolitan Ave  Subscriber\n",
       "                             freq                             766        9122\n",
       "Yankee Ferry Terminal        count                           1040        1040\n",
       "                             unique                             7           2\n",
       "                             top            Yankee Ferry Terminal    Customer\n",
       "                             freq                             555         695\n",
       "York St & Jay St             count                          12179       12179\n",
       "                             unique                           333           2\n",
       "                             top       Flushing Ave & Carlton Ave  Subscriber\n",
       "                             freq                             604        9934\n",
       "\n",
       "[1736 rows x 2 columns]"
      ]
     },
     "execution_count": 51,
     "metadata": {},
     "output_type": "execute_result"
    }
   ],
   "source": []
  },
  {
   "cell_type": "code",
   "execution_count": 24,
   "metadata": {
    "collapsed": false
   },
   "outputs": [],
   "source": [
    "grouper = training.groupby(\"start station name\")"
   ]
  },
  {
   "cell_type": "code",
   "execution_count": 25,
   "metadata": {
    "collapsed": false
   },
   "outputs": [
    {
     "data": {
      "text/plain": [
       "<pandas.core.groupby.DataFrameGroupBy object at 0x7f46318c4320>"
      ]
     },
     "execution_count": 25,
     "metadata": {},
     "output_type": "execute_result"
    }
   ],
   "source": [
    "grouper"
   ]
  },
  {
   "cell_type": "code",
   "execution_count": 26,
   "metadata": {
    "collapsed": false
   },
   "outputs": [
    {
     "name": "stdout",
     "output_type": "stream",
     "text": [
      "start station name\n",
      "W 52 St & 11 Ave                   [72]\n",
      "Franklin St & W Broadway           [79]\n",
      "St James Pl & Pearl St             [82]\n",
      "Atlantic Ave & Fort Greene Pl      [83]\n",
      "W 17 St & 8 Ave                   [116]\n",
      "Park Ave & St Edwards St          [119]\n",
      "Lexington Ave & Classon Ave       [120]\n",
      "Barrow St & Hudson St             [127]\n",
      "MacDougal St & Prince St          [128]\n",
      "E 56 St & Madison Ave             [137]\n",
      "                                  ...  \n",
      "21 St & Queens Plaza North       [3130]\n",
      "E 67 St & Park Ave               [3133]\n",
      "W 63 St & Broadway               [3158]\n",
      "Park Ave & Marcus Garvey Blvd    [3179]\n",
      "Brooklyn Bridge Park - Pier 2    [3180]\n",
      "Soissons Landing                 [3181]\n",
      "Yankee Ferry Terminal            [3182]\n",
      "Hanson Pl & St Felix St          [3222]\n",
      "E 55 St & 3 Ave                  [3223]\n",
      "W 13 St & Hudson St              [3224]\n",
      "Name: start station id, dtype: object\n"
     ]
    }
   ],
   "source": [
    "map_ssn = grouper[\"start station id\"].unique()  #unique displays a list of unique pandas array items\n",
    "map_ssn.sort_values(inplace = True)\n",
    "\n",
    "with pd.option_context(\"max_rows\", 20):      #a context manager to setup display manager \n",
    "    print(map_ssn)                           #show a max of 20 columns"
   ]
  },
  {
   "cell_type": "code",
   "execution_count": 27,
   "metadata": {
    "collapsed": false
   },
   "outputs": [
    {
     "name": "stdout",
     "output_type": "stream",
     "text": [
      "start station name\n",
      "W 52 St & 11 Ave                   72\n",
      "Franklin St & W Broadway           79\n",
      "St James Pl & Pearl St             82\n",
      "Atlantic Ave & Fort Greene Pl      83\n",
      "W 17 St & 8 Ave                   116\n",
      "Park Ave & St Edwards St          119\n",
      "Lexington Ave & Classon Ave       120\n",
      "Barrow St & Hudson St             127\n",
      "MacDougal St & Prince St          128\n",
      "E 56 St & Madison Ave             137\n",
      "                                 ... \n",
      "21 St & Queens Plaza North       3130\n",
      "E 67 St & Park Ave               3133\n",
      "W 63 St & Broadway               3158\n",
      "Park Ave & Marcus Garvey Blvd    3179\n",
      "Brooklyn Bridge Park - Pier 2    3180\n",
      "Soissons Landing                 3181\n",
      "Yankee Ferry Terminal            3182\n",
      "Hanson Pl & St Felix St          3222\n",
      "E 55 St & 3 Ave                  3223\n",
      "W 13 St & Hudson St              3224\n",
      "Name: start station id, dtype: int64\n"
     ]
    }
   ],
   "source": [
    "map_ssn2 = grouper[\"start station id\"].apply(lambda x : x.unique()[0])  #Syntax sugar to output an integer instead of an array\n",
    "map_ssn2.sort_values(inplace = True)\n",
    "\n",
    "with pd.option_context(\"max_rows\", 20):      #a context manager to setup display manager \n",
    "    print(map_ssn2)                           #show a max of 20 columns"
   ]
  },
  {
   "cell_type": "code",
   "execution_count": 48,
   "metadata": {
    "collapsed": false,
    "scrolled": false
   },
   "outputs": [
    {
     "data": {
      "application/javascript": [
       "/* Put everything inside the global mpl namespace */\n",
       "window.mpl = {};\n",
       "\n",
       "mpl.get_websocket_type = function() {\n",
       "    if (typeof(WebSocket) !== 'undefined') {\n",
       "        return WebSocket;\n",
       "    } else if (typeof(MozWebSocket) !== 'undefined') {\n",
       "        return MozWebSocket;\n",
       "    } else {\n",
       "        alert('Your browser does not have WebSocket support.' +\n",
       "              'Please try Chrome, Safari or Firefox ≥ 6. ' +\n",
       "              'Firefox 4 and 5 are also supported but you ' +\n",
       "              'have to enable WebSockets in about:config.');\n",
       "    };\n",
       "}\n",
       "\n",
       "mpl.figure = function(figure_id, websocket, ondownload, parent_element) {\n",
       "    this.id = figure_id;\n",
       "\n",
       "    this.ws = websocket;\n",
       "\n",
       "    this.supports_binary = (this.ws.binaryType != undefined);\n",
       "\n",
       "    if (!this.supports_binary) {\n",
       "        var warnings = document.getElementById(\"mpl-warnings\");\n",
       "        if (warnings) {\n",
       "            warnings.style.display = 'block';\n",
       "            warnings.textContent = (\n",
       "                \"This browser does not support binary websocket messages. \" +\n",
       "                    \"Performance may be slow.\");\n",
       "        }\n",
       "    }\n",
       "\n",
       "    this.imageObj = new Image();\n",
       "\n",
       "    this.context = undefined;\n",
       "    this.message = undefined;\n",
       "    this.canvas = undefined;\n",
       "    this.rubberband_canvas = undefined;\n",
       "    this.rubberband_context = undefined;\n",
       "    this.format_dropdown = undefined;\n",
       "\n",
       "    this.image_mode = 'full';\n",
       "\n",
       "    this.root = $('<div/>');\n",
       "    this._root_extra_style(this.root)\n",
       "    this.root.attr('style', 'display: inline-block');\n",
       "\n",
       "    $(parent_element).append(this.root);\n",
       "\n",
       "    this._init_header(this);\n",
       "    this._init_canvas(this);\n",
       "    this._init_toolbar(this);\n",
       "\n",
       "    var fig = this;\n",
       "\n",
       "    this.waiting = false;\n",
       "\n",
       "    this.ws.onopen =  function () {\n",
       "            fig.send_message(\"supports_binary\", {value: fig.supports_binary});\n",
       "            fig.send_message(\"send_image_mode\", {});\n",
       "            fig.send_message(\"refresh\", {});\n",
       "        }\n",
       "\n",
       "    this.imageObj.onload = function() {\n",
       "            if (fig.image_mode == 'full') {\n",
       "                // Full images could contain transparency (where diff images\n",
       "                // almost always do), so we need to clear the canvas so that\n",
       "                // there is no ghosting.\n",
       "                fig.context.clearRect(0, 0, fig.canvas.width, fig.canvas.height);\n",
       "            }\n",
       "            fig.context.drawImage(fig.imageObj, 0, 0);\n",
       "        };\n",
       "\n",
       "    this.imageObj.onunload = function() {\n",
       "        this.ws.close();\n",
       "    }\n",
       "\n",
       "    this.ws.onmessage = this._make_on_message_function(this);\n",
       "\n",
       "    this.ondownload = ondownload;\n",
       "}\n",
       "\n",
       "mpl.figure.prototype._init_header = function() {\n",
       "    var titlebar = $(\n",
       "        '<div class=\"ui-dialog-titlebar ui-widget-header ui-corner-all ' +\n",
       "        'ui-helper-clearfix\"/>');\n",
       "    var titletext = $(\n",
       "        '<div class=\"ui-dialog-title\" style=\"width: 100%; ' +\n",
       "        'text-align: center; padding: 3px;\"/>');\n",
       "    titlebar.append(titletext)\n",
       "    this.root.append(titlebar);\n",
       "    this.header = titletext[0];\n",
       "}\n",
       "\n",
       "\n",
       "\n",
       "mpl.figure.prototype._canvas_extra_style = function(canvas_div) {\n",
       "\n",
       "}\n",
       "\n",
       "\n",
       "mpl.figure.prototype._root_extra_style = function(canvas_div) {\n",
       "\n",
       "}\n",
       "\n",
       "mpl.figure.prototype._init_canvas = function() {\n",
       "    var fig = this;\n",
       "\n",
       "    var canvas_div = $('<div/>');\n",
       "\n",
       "    canvas_div.attr('style', 'position: relative; clear: both; outline: 0');\n",
       "\n",
       "    function canvas_keyboard_event(event) {\n",
       "        return fig.key_event(event, event['data']);\n",
       "    }\n",
       "\n",
       "    canvas_div.keydown('key_press', canvas_keyboard_event);\n",
       "    canvas_div.keyup('key_release', canvas_keyboard_event);\n",
       "    this.canvas_div = canvas_div\n",
       "    this._canvas_extra_style(canvas_div)\n",
       "    this.root.append(canvas_div);\n",
       "\n",
       "    var canvas = $('<canvas/>');\n",
       "    canvas.addClass('mpl-canvas');\n",
       "    canvas.attr('style', \"left: 0; top: 0; z-index: 0; outline: 0\")\n",
       "\n",
       "    this.canvas = canvas[0];\n",
       "    this.context = canvas[0].getContext(\"2d\");\n",
       "\n",
       "    var rubberband = $('<canvas/>');\n",
       "    rubberband.attr('style', \"position: absolute; left: 0; top: 0; z-index: 1;\")\n",
       "\n",
       "    var pass_mouse_events = true;\n",
       "\n",
       "    canvas_div.resizable({\n",
       "        start: function(event, ui) {\n",
       "            pass_mouse_events = false;\n",
       "        },\n",
       "        resize: function(event, ui) {\n",
       "            fig.request_resize(ui.size.width, ui.size.height);\n",
       "        },\n",
       "        stop: function(event, ui) {\n",
       "            pass_mouse_events = true;\n",
       "            fig.request_resize(ui.size.width, ui.size.height);\n",
       "        },\n",
       "    });\n",
       "\n",
       "    function mouse_event_fn(event) {\n",
       "        if (pass_mouse_events)\n",
       "            return fig.mouse_event(event, event['data']);\n",
       "    }\n",
       "\n",
       "    rubberband.mousedown('button_press', mouse_event_fn);\n",
       "    rubberband.mouseup('button_release', mouse_event_fn);\n",
       "    // Throttle sequential mouse events to 1 every 20ms.\n",
       "    rubberband.mousemove('motion_notify', mouse_event_fn);\n",
       "\n",
       "    rubberband.mouseenter('figure_enter', mouse_event_fn);\n",
       "    rubberband.mouseleave('figure_leave', mouse_event_fn);\n",
       "\n",
       "    canvas_div.on(\"wheel\", function (event) {\n",
       "        event = event.originalEvent;\n",
       "        event['data'] = 'scroll'\n",
       "        if (event.deltaY < 0) {\n",
       "            event.step = 1;\n",
       "        } else {\n",
       "            event.step = -1;\n",
       "        }\n",
       "        mouse_event_fn(event);\n",
       "    });\n",
       "\n",
       "    canvas_div.append(canvas);\n",
       "    canvas_div.append(rubberband);\n",
       "\n",
       "    this.rubberband = rubberband;\n",
       "    this.rubberband_canvas = rubberband[0];\n",
       "    this.rubberband_context = rubberband[0].getContext(\"2d\");\n",
       "    this.rubberband_context.strokeStyle = \"#000000\";\n",
       "\n",
       "    this._resize_canvas = function(width, height) {\n",
       "        // Keep the size of the canvas, canvas container, and rubber band\n",
       "        // canvas in synch.\n",
       "        canvas_div.css('width', width)\n",
       "        canvas_div.css('height', height)\n",
       "\n",
       "        canvas.attr('width', width);\n",
       "        canvas.attr('height', height);\n",
       "\n",
       "        rubberband.attr('width', width);\n",
       "        rubberband.attr('height', height);\n",
       "    }\n",
       "\n",
       "    // Set the figure to an initial 600x600px, this will subsequently be updated\n",
       "    // upon first draw.\n",
       "    this._resize_canvas(600, 600);\n",
       "\n",
       "    // Disable right mouse context menu.\n",
       "    $(this.rubberband_canvas).bind(\"contextmenu\",function(e){\n",
       "        return false;\n",
       "    });\n",
       "\n",
       "    function set_focus () {\n",
       "        canvas.focus();\n",
       "        canvas_div.focus();\n",
       "    }\n",
       "\n",
       "    window.setTimeout(set_focus, 100);\n",
       "}\n",
       "\n",
       "mpl.figure.prototype._init_toolbar = function() {\n",
       "    var fig = this;\n",
       "\n",
       "    var nav_element = $('<div/>')\n",
       "    nav_element.attr('style', 'width: 100%');\n",
       "    this.root.append(nav_element);\n",
       "\n",
       "    // Define a callback function for later on.\n",
       "    function toolbar_event(event) {\n",
       "        return fig.toolbar_button_onclick(event['data']);\n",
       "    }\n",
       "    function toolbar_mouse_event(event) {\n",
       "        return fig.toolbar_button_onmouseover(event['data']);\n",
       "    }\n",
       "\n",
       "    for(var toolbar_ind in mpl.toolbar_items) {\n",
       "        var name = mpl.toolbar_items[toolbar_ind][0];\n",
       "        var tooltip = mpl.toolbar_items[toolbar_ind][1];\n",
       "        var image = mpl.toolbar_items[toolbar_ind][2];\n",
       "        var method_name = mpl.toolbar_items[toolbar_ind][3];\n",
       "\n",
       "        if (!name) {\n",
       "            // put a spacer in here.\n",
       "            continue;\n",
       "        }\n",
       "        var button = $('<button/>');\n",
       "        button.addClass('ui-button ui-widget ui-state-default ui-corner-all ' +\n",
       "                        'ui-button-icon-only');\n",
       "        button.attr('role', 'button');\n",
       "        button.attr('aria-disabled', 'false');\n",
       "        button.click(method_name, toolbar_event);\n",
       "        button.mouseover(tooltip, toolbar_mouse_event);\n",
       "\n",
       "        var icon_img = $('<span/>');\n",
       "        icon_img.addClass('ui-button-icon-primary ui-icon');\n",
       "        icon_img.addClass(image);\n",
       "        icon_img.addClass('ui-corner-all');\n",
       "\n",
       "        var tooltip_span = $('<span/>');\n",
       "        tooltip_span.addClass('ui-button-text');\n",
       "        tooltip_span.html(tooltip);\n",
       "\n",
       "        button.append(icon_img);\n",
       "        button.append(tooltip_span);\n",
       "\n",
       "        nav_element.append(button);\n",
       "    }\n",
       "\n",
       "    var fmt_picker_span = $('<span/>');\n",
       "\n",
       "    var fmt_picker = $('<select/>');\n",
       "    fmt_picker.addClass('mpl-toolbar-option ui-widget ui-widget-content');\n",
       "    fmt_picker_span.append(fmt_picker);\n",
       "    nav_element.append(fmt_picker_span);\n",
       "    this.format_dropdown = fmt_picker[0];\n",
       "\n",
       "    for (var ind in mpl.extensions) {\n",
       "        var fmt = mpl.extensions[ind];\n",
       "        var option = $(\n",
       "            '<option/>', {selected: fmt === mpl.default_extension}).html(fmt);\n",
       "        fmt_picker.append(option)\n",
       "    }\n",
       "\n",
       "    // Add hover states to the ui-buttons\n",
       "    $( \".ui-button\" ).hover(\n",
       "        function() { $(this).addClass(\"ui-state-hover\");},\n",
       "        function() { $(this).removeClass(\"ui-state-hover\");}\n",
       "    );\n",
       "\n",
       "    var status_bar = $('<span class=\"mpl-message\"/>');\n",
       "    nav_element.append(status_bar);\n",
       "    this.message = status_bar[0];\n",
       "}\n",
       "\n",
       "mpl.figure.prototype.request_resize = function(x_pixels, y_pixels) {\n",
       "    // Request matplotlib to resize the figure. Matplotlib will then trigger a resize in the client,\n",
       "    // which will in turn request a refresh of the image.\n",
       "    this.send_message('resize', {'width': x_pixels, 'height': y_pixels});\n",
       "}\n",
       "\n",
       "mpl.figure.prototype.send_message = function(type, properties) {\n",
       "    properties['type'] = type;\n",
       "    properties['figure_id'] = this.id;\n",
       "    this.ws.send(JSON.stringify(properties));\n",
       "}\n",
       "\n",
       "mpl.figure.prototype.send_draw_message = function() {\n",
       "    if (!this.waiting) {\n",
       "        this.waiting = true;\n",
       "        this.ws.send(JSON.stringify({type: \"draw\", figure_id: this.id}));\n",
       "    }\n",
       "}\n",
       "\n",
       "\n",
       "mpl.figure.prototype.handle_save = function(fig, msg) {\n",
       "    var format_dropdown = fig.format_dropdown;\n",
       "    var format = format_dropdown.options[format_dropdown.selectedIndex].value;\n",
       "    fig.ondownload(fig, format);\n",
       "}\n",
       "\n",
       "\n",
       "mpl.figure.prototype.handle_resize = function(fig, msg) {\n",
       "    var size = msg['size'];\n",
       "    if (size[0] != fig.canvas.width || size[1] != fig.canvas.height) {\n",
       "        fig._resize_canvas(size[0], size[1]);\n",
       "        fig.send_message(\"refresh\", {});\n",
       "    };\n",
       "}\n",
       "\n",
       "mpl.figure.prototype.handle_rubberband = function(fig, msg) {\n",
       "    var x0 = msg['x0'];\n",
       "    var y0 = fig.canvas.height - msg['y0'];\n",
       "    var x1 = msg['x1'];\n",
       "    var y1 = fig.canvas.height - msg['y1'];\n",
       "    x0 = Math.floor(x0) + 0.5;\n",
       "    y0 = Math.floor(y0) + 0.5;\n",
       "    x1 = Math.floor(x1) + 0.5;\n",
       "    y1 = Math.floor(y1) + 0.5;\n",
       "    var min_x = Math.min(x0, x1);\n",
       "    var min_y = Math.min(y0, y1);\n",
       "    var width = Math.abs(x1 - x0);\n",
       "    var height = Math.abs(y1 - y0);\n",
       "\n",
       "    fig.rubberband_context.clearRect(\n",
       "        0, 0, fig.canvas.width, fig.canvas.height);\n",
       "\n",
       "    fig.rubberband_context.strokeRect(min_x, min_y, width, height);\n",
       "}\n",
       "\n",
       "mpl.figure.prototype.handle_figure_label = function(fig, msg) {\n",
       "    // Updates the figure title.\n",
       "    fig.header.textContent = msg['label'];\n",
       "}\n",
       "\n",
       "mpl.figure.prototype.handle_cursor = function(fig, msg) {\n",
       "    var cursor = msg['cursor'];\n",
       "    switch(cursor)\n",
       "    {\n",
       "    case 0:\n",
       "        cursor = 'pointer';\n",
       "        break;\n",
       "    case 1:\n",
       "        cursor = 'default';\n",
       "        break;\n",
       "    case 2:\n",
       "        cursor = 'crosshair';\n",
       "        break;\n",
       "    case 3:\n",
       "        cursor = 'move';\n",
       "        break;\n",
       "    }\n",
       "    fig.rubberband_canvas.style.cursor = cursor;\n",
       "}\n",
       "\n",
       "mpl.figure.prototype.handle_message = function(fig, msg) {\n",
       "    fig.message.textContent = msg['message'];\n",
       "}\n",
       "\n",
       "mpl.figure.prototype.handle_draw = function(fig, msg) {\n",
       "    // Request the server to send over a new figure.\n",
       "    fig.send_draw_message();\n",
       "}\n",
       "\n",
       "mpl.figure.prototype.handle_image_mode = function(fig, msg) {\n",
       "    fig.image_mode = msg['mode'];\n",
       "}\n",
       "\n",
       "mpl.figure.prototype.updated_canvas_event = function() {\n",
       "    // Called whenever the canvas gets updated.\n",
       "    this.send_message(\"ack\", {});\n",
       "}\n",
       "\n",
       "// A function to construct a web socket function for onmessage handling.\n",
       "// Called in the figure constructor.\n",
       "mpl.figure.prototype._make_on_message_function = function(fig) {\n",
       "    return function socket_on_message(evt) {\n",
       "        if (evt.data instanceof Blob) {\n",
       "            /* FIXME: We get \"Resource interpreted as Image but\n",
       "             * transferred with MIME type text/plain:\" errors on\n",
       "             * Chrome.  But how to set the MIME type?  It doesn't seem\n",
       "             * to be part of the websocket stream */\n",
       "            evt.data.type = \"image/png\";\n",
       "\n",
       "            /* Free the memory for the previous frames */\n",
       "            if (fig.imageObj.src) {\n",
       "                (window.URL || window.webkitURL).revokeObjectURL(\n",
       "                    fig.imageObj.src);\n",
       "            }\n",
       "\n",
       "            fig.imageObj.src = (window.URL || window.webkitURL).createObjectURL(\n",
       "                evt.data);\n",
       "            fig.updated_canvas_event();\n",
       "            fig.waiting = false;\n",
       "            return;\n",
       "        }\n",
       "        else if (typeof evt.data === 'string' && evt.data.slice(0, 21) == \"data:image/png;base64\") {\n",
       "            fig.imageObj.src = evt.data;\n",
       "            fig.updated_canvas_event();\n",
       "            fig.waiting = false;\n",
       "            return;\n",
       "        }\n",
       "\n",
       "        var msg = JSON.parse(evt.data);\n",
       "        var msg_type = msg['type'];\n",
       "\n",
       "        // Call the  \"handle_{type}\" callback, which takes\n",
       "        // the figure and JSON message as its only arguments.\n",
       "        try {\n",
       "            var callback = fig[\"handle_\" + msg_type];\n",
       "        } catch (e) {\n",
       "            console.log(\"No handler for the '\" + msg_type + \"' message type: \", msg);\n",
       "            return;\n",
       "        }\n",
       "\n",
       "        if (callback) {\n",
       "            try {\n",
       "                // console.log(\"Handling '\" + msg_type + \"' message: \", msg);\n",
       "                callback(fig, msg);\n",
       "            } catch (e) {\n",
       "                console.log(\"Exception inside the 'handler_\" + msg_type + \"' callback:\", e, e.stack, msg);\n",
       "            }\n",
       "        }\n",
       "    };\n",
       "}\n",
       "\n",
       "// from http://stackoverflow.com/questions/1114465/getting-mouse-location-in-canvas\n",
       "mpl.findpos = function(e) {\n",
       "    //this section is from http://www.quirksmode.org/js/events_properties.html\n",
       "    var targ;\n",
       "    if (!e)\n",
       "        e = window.event;\n",
       "    if (e.target)\n",
       "        targ = e.target;\n",
       "    else if (e.srcElement)\n",
       "        targ = e.srcElement;\n",
       "    if (targ.nodeType == 3) // defeat Safari bug\n",
       "        targ = targ.parentNode;\n",
       "\n",
       "    // jQuery normalizes the pageX and pageY\n",
       "    // pageX,Y are the mouse positions relative to the document\n",
       "    // offset() returns the position of the element relative to the document\n",
       "    var x = e.pageX - $(targ).offset().left;\n",
       "    var y = e.pageY - $(targ).offset().top;\n",
       "\n",
       "    return {\"x\": x, \"y\": y};\n",
       "};\n",
       "\n",
       "/*\n",
       " * return a copy of an object with only non-object keys\n",
       " * we need this to avoid circular references\n",
       " * http://stackoverflow.com/a/24161582/3208463\n",
       " */\n",
       "function simpleKeys (original) {\n",
       "  return Object.keys(original).reduce(function (obj, key) {\n",
       "    if (typeof original[key] !== 'object')\n",
       "        obj[key] = original[key]\n",
       "    return obj;\n",
       "  }, {});\n",
       "}\n",
       "\n",
       "mpl.figure.prototype.mouse_event = function(event, name) {\n",
       "    var canvas_pos = mpl.findpos(event)\n",
       "\n",
       "    if (name === 'button_press')\n",
       "    {\n",
       "        this.canvas.focus();\n",
       "        this.canvas_div.focus();\n",
       "    }\n",
       "\n",
       "    var x = canvas_pos.x;\n",
       "    var y = canvas_pos.y;\n",
       "\n",
       "    this.send_message(name, {x: x, y: y, button: event.button,\n",
       "                             step: event.step,\n",
       "                             guiEvent: simpleKeys(event)});\n",
       "\n",
       "    /* This prevents the web browser from automatically changing to\n",
       "     * the text insertion cursor when the button is pressed.  We want\n",
       "     * to control all of the cursor setting manually through the\n",
       "     * 'cursor' event from matplotlib */\n",
       "    event.preventDefault();\n",
       "    return false;\n",
       "}\n",
       "\n",
       "mpl.figure.prototype._key_event_extra = function(event, name) {\n",
       "    // Handle any extra behaviour associated with a key event\n",
       "}\n",
       "\n",
       "mpl.figure.prototype.key_event = function(event, name) {\n",
       "\n",
       "    // Prevent repeat events\n",
       "    if (name == 'key_press')\n",
       "    {\n",
       "        if (event.which === this._key)\n",
       "            return;\n",
       "        else\n",
       "            this._key = event.which;\n",
       "    }\n",
       "    if (name == 'key_release')\n",
       "        this._key = null;\n",
       "\n",
       "    var value = '';\n",
       "    if (event.ctrlKey && event.which != 17)\n",
       "        value += \"ctrl+\";\n",
       "    if (event.altKey && event.which != 18)\n",
       "        value += \"alt+\";\n",
       "    if (event.shiftKey && event.which != 16)\n",
       "        value += \"shift+\";\n",
       "\n",
       "    value += 'k';\n",
       "    value += event.which.toString();\n",
       "\n",
       "    this._key_event_extra(event, name);\n",
       "\n",
       "    this.send_message(name, {key: value,\n",
       "                             guiEvent: simpleKeys(event)});\n",
       "    return false;\n",
       "}\n",
       "\n",
       "mpl.figure.prototype.toolbar_button_onclick = function(name) {\n",
       "    if (name == 'download') {\n",
       "        this.handle_save(this, null);\n",
       "    } else {\n",
       "        this.send_message(\"toolbar_button\", {name: name});\n",
       "    }\n",
       "};\n",
       "\n",
       "mpl.figure.prototype.toolbar_button_onmouseover = function(tooltip) {\n",
       "    this.message.textContent = tooltip;\n",
       "};\n",
       "mpl.toolbar_items = [[\"Home\", \"Reset original view\", \"fa fa-home icon-home\", \"home\"], [\"Back\", \"Back to  previous view\", \"fa fa-arrow-left icon-arrow-left\", \"back\"], [\"Forward\", \"Forward to next view\", \"fa fa-arrow-right icon-arrow-right\", \"forward\"], [\"\", \"\", \"\", \"\"], [\"Pan\", \"Pan axes with left mouse, zoom with right\", \"fa fa-arrows icon-move\", \"pan\"], [\"Zoom\", \"Zoom to rectangle\", \"fa fa-square-o icon-check-empty\", \"zoom\"], [\"\", \"\", \"\", \"\"], [\"Download\", \"Download plot\", \"fa fa-floppy-o icon-save\", \"download\"]];\n",
       "\n",
       "mpl.extensions = [\"eps\", \"jpeg\", \"pdf\", \"png\", \"ps\", \"raw\", \"svg\", \"tif\"];\n",
       "\n",
       "mpl.default_extension = \"png\";var comm_websocket_adapter = function(comm) {\n",
       "    // Create a \"websocket\"-like object which calls the given IPython comm\n",
       "    // object with the appropriate methods. Currently this is a non binary\n",
       "    // socket, so there is still some room for performance tuning.\n",
       "    var ws = {};\n",
       "\n",
       "    ws.close = function() {\n",
       "        comm.close()\n",
       "    };\n",
       "    ws.send = function(m) {\n",
       "        //console.log('sending', m);\n",
       "        comm.send(m);\n",
       "    };\n",
       "    // Register the callback with on_msg.\n",
       "    comm.on_msg(function(msg) {\n",
       "        //console.log('receiving', msg['content']['data'], msg);\n",
       "        // Pass the mpl event to the overriden (by mpl) onmessage function.\n",
       "        ws.onmessage(msg['content']['data'])\n",
       "    });\n",
       "    return ws;\n",
       "}\n",
       "\n",
       "mpl.mpl_figure_comm = function(comm, msg) {\n",
       "    // This is the function which gets called when the mpl process\n",
       "    // starts-up an IPython Comm through the \"matplotlib\" channel.\n",
       "\n",
       "    var id = msg.content.data.id;\n",
       "    // Get hold of the div created by the display call when the Comm\n",
       "    // socket was opened in Python.\n",
       "    var element = $(\"#\" + id);\n",
       "    var ws_proxy = comm_websocket_adapter(comm)\n",
       "\n",
       "    function ondownload(figure, format) {\n",
       "        window.open(figure.imageObj.src);\n",
       "    }\n",
       "\n",
       "    var fig = new mpl.figure(id, ws_proxy,\n",
       "                           ondownload,\n",
       "                           element.get(0));\n",
       "\n",
       "    // Call onopen now - mpl needs it, as it is assuming we've passed it a real\n",
       "    // web socket which is closed, not our websocket->open comm proxy.\n",
       "    ws_proxy.onopen();\n",
       "\n",
       "    fig.parent_element = element.get(0);\n",
       "    fig.cell_info = mpl.find_output_cell(\"<div id='\" + id + \"'></div>\");\n",
       "    if (!fig.cell_info) {\n",
       "        console.error(\"Failed to find cell for figure\", id, fig);\n",
       "        return;\n",
       "    }\n",
       "\n",
       "    var output_index = fig.cell_info[2]\n",
       "    var cell = fig.cell_info[0];\n",
       "\n",
       "};\n",
       "\n",
       "mpl.figure.prototype.handle_close = function(fig, msg) {\n",
       "    fig.root.unbind('remove')\n",
       "\n",
       "    // Update the output cell to use the data from the current canvas.\n",
       "    fig.push_to_output();\n",
       "    var dataURL = fig.canvas.toDataURL();\n",
       "    // Re-enable the keyboard manager in IPython - without this line, in FF,\n",
       "    // the notebook keyboard shortcuts fail.\n",
       "    IPython.keyboard_manager.enable()\n",
       "    $(fig.parent_element).html('<img src=\"' + dataURL + '\">');\n",
       "    fig.close_ws(fig, msg);\n",
       "}\n",
       "\n",
       "mpl.figure.prototype.close_ws = function(fig, msg){\n",
       "    fig.send_message('closing', msg);\n",
       "    // fig.ws.close()\n",
       "}\n",
       "\n",
       "mpl.figure.prototype.push_to_output = function(remove_interactive) {\n",
       "    // Turn the data on the canvas into data in the output cell.\n",
       "    var dataURL = this.canvas.toDataURL();\n",
       "    this.cell_info[1]['text/html'] = '<img src=\"' + dataURL + '\">';\n",
       "}\n",
       "\n",
       "mpl.figure.prototype.updated_canvas_event = function() {\n",
       "    // Tell IPython that the notebook contents must change.\n",
       "    IPython.notebook.set_dirty(true);\n",
       "    this.send_message(\"ack\", {});\n",
       "    var fig = this;\n",
       "    // Wait a second, then push the new image to the DOM so\n",
       "    // that it is saved nicely (might be nice to debounce this).\n",
       "    setTimeout(function () { fig.push_to_output() }, 1000);\n",
       "}\n",
       "\n",
       "mpl.figure.prototype._init_toolbar = function() {\n",
       "    var fig = this;\n",
       "\n",
       "    var nav_element = $('<div/>')\n",
       "    nav_element.attr('style', 'width: 100%');\n",
       "    this.root.append(nav_element);\n",
       "\n",
       "    // Define a callback function for later on.\n",
       "    function toolbar_event(event) {\n",
       "        return fig.toolbar_button_onclick(event['data']);\n",
       "    }\n",
       "    function toolbar_mouse_event(event) {\n",
       "        return fig.toolbar_button_onmouseover(event['data']);\n",
       "    }\n",
       "\n",
       "    for(var toolbar_ind in mpl.toolbar_items){\n",
       "        var name = mpl.toolbar_items[toolbar_ind][0];\n",
       "        var tooltip = mpl.toolbar_items[toolbar_ind][1];\n",
       "        var image = mpl.toolbar_items[toolbar_ind][2];\n",
       "        var method_name = mpl.toolbar_items[toolbar_ind][3];\n",
       "\n",
       "        if (!name) { continue; };\n",
       "\n",
       "        var button = $('<button class=\"btn btn-default\" href=\"#\" title=\"' + name + '\"><i class=\"fa ' + image + ' fa-lg\"></i></button>');\n",
       "        button.click(method_name, toolbar_event);\n",
       "        button.mouseover(tooltip, toolbar_mouse_event);\n",
       "        nav_element.append(button);\n",
       "    }\n",
       "\n",
       "    // Add the status bar.\n",
       "    var status_bar = $('<span class=\"mpl-message\" style=\"text-align:right; float: right;\"/>');\n",
       "    nav_element.append(status_bar);\n",
       "    this.message = status_bar[0];\n",
       "\n",
       "    // Add the close button to the window.\n",
       "    var buttongrp = $('<div class=\"btn-group inline pull-right\"></div>');\n",
       "    var button = $('<button class=\"btn btn-mini btn-primary\" href=\"#\" title=\"Stop Interaction\"><i class=\"fa fa-power-off icon-remove icon-large\"></i></button>');\n",
       "    button.click(function (evt) { fig.handle_close(fig, {}); } );\n",
       "    button.mouseover('Stop Interaction', toolbar_mouse_event);\n",
       "    buttongrp.append(button);\n",
       "    var titlebar = this.root.find($('.ui-dialog-titlebar'));\n",
       "    titlebar.prepend(buttongrp);\n",
       "}\n",
       "\n",
       "mpl.figure.prototype._root_extra_style = function(el){\n",
       "    var fig = this\n",
       "    el.on(\"remove\", function(){\n",
       "\tfig.close_ws(fig, {});\n",
       "    });\n",
       "}\n",
       "\n",
       "mpl.figure.prototype._canvas_extra_style = function(el){\n",
       "    // this is important to make the div 'focusable\n",
       "    el.attr('tabindex', 0)\n",
       "    // reach out to IPython and tell the keyboard manager to turn it's self\n",
       "    // off when our div gets focus\n",
       "\n",
       "    // location in version 3\n",
       "    if (IPython.notebook.keyboard_manager) {\n",
       "        IPython.notebook.keyboard_manager.register_events(el);\n",
       "    }\n",
       "    else {\n",
       "        // location in version 2\n",
       "        IPython.keyboard_manager.register_events(el);\n",
       "    }\n",
       "\n",
       "}\n",
       "\n",
       "mpl.figure.prototype._key_event_extra = function(event, name) {\n",
       "    var manager = IPython.notebook.keyboard_manager;\n",
       "    if (!manager)\n",
       "        manager = IPython.keyboard_manager;\n",
       "\n",
       "    // Check for shift+enter\n",
       "    if (event.shiftKey && event.which == 13) {\n",
       "        this.canvas_div.blur();\n",
       "        event.shiftKey = false;\n",
       "        // Send a \"J\" for go to next cell\n",
       "        event.which = 74;\n",
       "        event.keyCode = 74;\n",
       "        manager.command_mode();\n",
       "        manager.handle_keydown(event);\n",
       "    }\n",
       "}\n",
       "\n",
       "mpl.figure.prototype.handle_save = function(fig, msg) {\n",
       "    fig.ondownload(fig, null);\n",
       "}\n",
       "\n",
       "\n",
       "mpl.find_output_cell = function(html_output) {\n",
       "    // Return the cell and output element which can be found *uniquely* in the notebook.\n",
       "    // Note - this is a bit hacky, but it is done because the \"notebook_saving.Notebook\"\n",
       "    // IPython event is triggered only after the cells have been serialised, which for\n",
       "    // our purposes (turning an active figure into a static one), is too late.\n",
       "    var cells = IPython.notebook.get_cells();\n",
       "    var ncells = cells.length;\n",
       "    for (var i=0; i<ncells; i++) {\n",
       "        var cell = cells[i];\n",
       "        if (cell.cell_type === 'code'){\n",
       "            for (var j=0; j<cell.output_area.outputs.length; j++) {\n",
       "                var data = cell.output_area.outputs[j];\n",
       "                if (data.data) {\n",
       "                    // IPython >= 3 moved mimebundle to data attribute of output\n",
       "                    data = data.data;\n",
       "                }\n",
       "                if (data['text/html'] == html_output) {\n",
       "                    return [cell, data, j];\n",
       "                }\n",
       "            }\n",
       "        }\n",
       "    }\n",
       "}\n",
       "\n",
       "// Register the function which deals with the matplotlib target/channel.\n",
       "// The kernel may be null if the page has been refreshed.\n",
       "if (IPython.notebook.kernel != null) {\n",
       "    IPython.notebook.kernel.comm_manager.register_target('matplotlib', mpl.mpl_figure_comm);\n",
       "}\n"
      ],
      "text/plain": [
       "<IPython.core.display.Javascript object>"
      ]
     },
     "metadata": {},
     "output_type": "display_data"
    },
    {
     "data": {
      "text/html": [
       "<img src=\"data:image/png;base64,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\">"
      ],
      "text/plain": [
       "<IPython.core.display.HTML object>"
      ]
     },
     "metadata": {},
     "output_type": "display_data"
    },
    {
     "name": "stdout",
     "output_type": "stream",
     "text": [
      "\n"
     ]
    }
   ],
   "source": [
    "ax = training.groupby('start station name')['start station id'].count().reset_index()\n",
    "\n",
    "ax.columns = ['Start Station', 'Count']\n",
    "ax = ax.sort_values(by='Count', ascending=False).head()\n",
    "\n",
    "# create bar graph\n",
    "plt.figure(figsize=(8,8))\n",
    "plt.bar(list(range(len(ax))), ax['Count'], \n",
    "            tick_label=ax['Start Station'])\n",
    "plt.xticks(rotation=40, fontsize = 15)\n",
    "plt.xlabel('Stations', fontsize = 15)\n",
    "plt.ylabel('Number of rides', fontsize = 15)\n",
    "plt.title('Most popular start stations in Sept. 2016', fontsize = 15)\n",
    "print()"
   ]
  },
  {
   "cell_type": "code",
   "execution_count": 47,
   "metadata": {
    "collapsed": false
   },
   "outputs": [
    {
     "data": {
      "text/plain": [
       "[None, None, None, None, None]"
      ]
     },
     "execution_count": 47,
     "metadata": {},
     "output_type": "execute_result"
    }
   ],
   "source": [
    "#dont use\n",
    "\n",
    "bx = training.groupby('gender').size().plot(kind='barh', figsize=(8,8))\n",
    "\n",
    "#ax.columns = ['Start Station', 'Count']\n",
    "#ax = ax.sort_values(by='Count', ascending=False).head()\n",
    "\n",
    "ylabel = bx.yaxis.get_label()\n",
    "ylabel.set_fontsize(24)\n",
    "\n",
    "labels = bx.xaxis.get_ticklabels()\n",
    "[label.set_fontsize(20) for label in labels];\n",
    "\n",
    "labels = bx.xaxis.get_ticklabels()\n",
    "[label.set_fontsize(20) for label in labels]\n",
    "[label.set_rotation(-45) for label in labels]"
   ]
  },
  {
   "cell_type": "code",
   "execution_count": 9,
   "metadata": {
    "collapsed": false
   },
   "outputs": [],
   "source": [
    "# seaborn is pretty cool\n",
    "# might want to decrease data size before actually doing all that crap\n",
    "\n",
    "#g = sns.factorplot(x = \"gender\", y = \"usertype\", data=training)"
   ]
  },
  {
   "cell_type": "code",
   "execution_count": 10,
   "metadata": {
    "collapsed": false
   },
   "outputs": [
    {
     "data": {
      "text/html": [
       "<div>\n",
       "<table border=\"1\" class=\"dataframe\">\n",
       "  <thead>\n",
       "    <tr style=\"text-align: right;\">\n",
       "      <th></th>\n",
       "      <th>counts</th>\n",
       "      <th>freqs</th>\n",
       "    </tr>\n",
       "    <tr>\n",
       "      <th>categories</th>\n",
       "      <th></th>\n",
       "      <th></th>\n",
       "    </tr>\n",
       "  </thead>\n",
       "  <tbody>\n",
       "    <tr>\n",
       "      <th>0</th>\n",
       "      <td>908415</td>\n",
       "      <td>0.149530</td>\n",
       "    </tr>\n",
       "    <tr>\n",
       "      <th>1</th>\n",
       "      <td>3928644</td>\n",
       "      <td>0.646674</td>\n",
       "    </tr>\n",
       "    <tr>\n",
       "      <th>2</th>\n",
       "      <td>1238091</td>\n",
       "      <td>0.203796</td>\n",
       "    </tr>\n",
       "  </tbody>\n",
       "</table>\n",
       "</div>"
      ],
      "text/plain": [
       "             counts     freqs\n",
       "categories                   \n",
       "0            908415  0.149530\n",
       "1           3928644  0.646674\n",
       "2           1238091  0.203796"
      ]
     },
     "execution_count": 10,
     "metadata": {},
     "output_type": "execute_result"
    }
   ],
   "source": [
    "cat = pd.Categorical(training.gender)\n",
    "cat.describe()"
   ]
  },
  {
   "cell_type": "code",
   "execution_count": 16,
   "metadata": {
    "collapsed": false,
    "scrolled": true
   },
   "outputs": [
    {
     "data": {
      "text/html": [
       "<div>\n",
       "<table border=\"1\" class=\"dataframe\">\n",
       "  <thead>\n",
       "    <tr style=\"text-align: right;\">\n",
       "      <th></th>\n",
       "      <th>counts</th>\n",
       "      <th>freqs</th>\n",
       "    </tr>\n",
       "    <tr>\n",
       "      <th>categories</th>\n",
       "      <th></th>\n",
       "      <th></th>\n",
       "    </tr>\n",
       "  </thead>\n",
       "  <tbody>\n",
       "    <tr>\n",
       "      <th>60</th>\n",
       "      <td>779</td>\n",
       "      <td>1.282273e-04</td>\n",
       "    </tr>\n",
       "    <tr>\n",
       "      <th>61</th>\n",
       "      <td>790</td>\n",
       "      <td>1.300379e-04</td>\n",
       "    </tr>\n",
       "    <tr>\n",
       "      <th>62</th>\n",
       "      <td>797</td>\n",
       "      <td>1.311902e-04</td>\n",
       "    </tr>\n",
       "    <tr>\n",
       "      <th>63</th>\n",
       "      <td>702</td>\n",
       "      <td>1.155527e-04</td>\n",
       "    </tr>\n",
       "    <tr>\n",
       "      <th>64</th>\n",
       "      <td>729</td>\n",
       "      <td>1.199970e-04</td>\n",
       "    </tr>\n",
       "    <tr>\n",
       "      <th>...</th>\n",
       "      <td>...</td>\n",
       "      <td>...</td>\n",
       "    </tr>\n",
       "    <tr>\n",
       "      <th>2555456</th>\n",
       "      <td>1</td>\n",
       "      <td>1.646050e-07</td>\n",
       "    </tr>\n",
       "    <tr>\n",
       "      <th>2712082</th>\n",
       "      <td>1</td>\n",
       "      <td>1.646050e-07</td>\n",
       "    </tr>\n",
       "    <tr>\n",
       "      <th>2842280</th>\n",
       "      <td>1</td>\n",
       "      <td>1.646050e-07</td>\n",
       "    </tr>\n",
       "    <tr>\n",
       "      <th>3611666</th>\n",
       "      <td>1</td>\n",
       "      <td>1.646050e-07</td>\n",
       "    </tr>\n",
       "    <tr>\n",
       "      <th>5174309</th>\n",
       "      <td>1</td>\n",
       "      <td>1.646050e-07</td>\n",
       "    </tr>\n",
       "  </tbody>\n",
       "</table>\n",
       "<p>18989 rows × 2 columns</p>\n",
       "</div>"
      ],
      "text/plain": [
       "            counts         freqs\n",
       "categories                      \n",
       "60             779  1.282273e-04\n",
       "61             790  1.300379e-04\n",
       "62             797  1.311902e-04\n",
       "63             702  1.155527e-04\n",
       "64             729  1.199970e-04\n",
       "...            ...           ...\n",
       "2555456          1  1.646050e-07\n",
       "2712082          1  1.646050e-07\n",
       "2842280          1  1.646050e-07\n",
       "3611666          1  1.646050e-07\n",
       "5174309          1  1.646050e-07\n",
       "\n",
       "[18989 rows x 2 columns]"
      ]
     },
     "execution_count": 16,
     "metadata": {},
     "output_type": "execute_result"
    }
   ],
   "source": [
    "cat1 = pd.Categorical(training.tripduration)\n",
    "cat1.describe()"
   ]
  },
  {
   "cell_type": "code",
   "execution_count": 19,
   "metadata": {
    "collapsed": false
   },
   "outputs": [
    {
     "data": {
      "text/html": [
       "<div>\n",
       "<table border=\"1\" class=\"dataframe\">\n",
       "  <thead>\n",
       "    <tr style=\"text-align: right;\">\n",
       "      <th></th>\n",
       "      <th>gender</th>\n",
       "      <th>tripduration</th>\n",
       "    </tr>\n",
       "  </thead>\n",
       "  <tbody>\n",
       "    <tr>\n",
       "      <th>0</th>\n",
       "      <td>0</td>\n",
       "      <td>1691.490279</td>\n",
       "    </tr>\n",
       "    <tr>\n",
       "      <th>1</th>\n",
       "      <td>1</td>\n",
       "      <td>756.940746</td>\n",
       "    </tr>\n",
       "    <tr>\n",
       "      <th>2</th>\n",
       "      <td>2</td>\n",
       "      <td>898.682366</td>\n",
       "    </tr>\n",
       "  </tbody>\n",
       "</table>\n",
       "</div>"
      ],
      "text/plain": [
       "   gender  tripduration\n",
       "0       0   1691.490279\n",
       "1       1    756.940746\n",
       "2       2    898.682366"
      ]
     },
     "execution_count": 19,
     "metadata": {},
     "output_type": "execute_result"
    }
   ],
   "source": [
    "training.groupby(\"gender\").tripduration.mean().reset_index()"
   ]
  },
  {
   "cell_type": "code",
   "execution_count": 21,
   "metadata": {
    "collapsed": false
   },
   "outputs": [
    {
     "data": {
      "text/html": [
       "<div>\n",
       "<table border=\"1\" class=\"dataframe\">\n",
       "  <thead>\n",
       "    <tr style=\"text-align: right;\">\n",
       "      <th></th>\n",
       "      <th>gender</th>\n",
       "      <th>tripduration</th>\n",
       "    </tr>\n",
       "  </thead>\n",
       "  <tbody>\n",
       "    <tr>\n",
       "      <th>0</th>\n",
       "      <td>0</td>\n",
       "      <td>1218</td>\n",
       "    </tr>\n",
       "    <tr>\n",
       "      <th>1</th>\n",
       "      <td>1</td>\n",
       "      <td>580</td>\n",
       "    </tr>\n",
       "    <tr>\n",
       "      <th>2</th>\n",
       "      <td>2</td>\n",
       "      <td>698</td>\n",
       "    </tr>\n",
       "  </tbody>\n",
       "</table>\n",
       "</div>"
      ],
      "text/plain": [
       "   gender  tripduration\n",
       "0       0          1218\n",
       "1       1           580\n",
       "2       2           698"
      ]
     },
     "execution_count": 21,
     "metadata": {},
     "output_type": "execute_result"
    }
   ],
   "source": [
    "training.groupby(\"gender\").tripduration.median().reset_index()"
   ]
  },
  {
   "cell_type": "code",
   "execution_count": 28,
   "metadata": {
    "collapsed": false
   },
   "outputs": [
    {
     "data": {
      "text/html": [
       "<div>\n",
       "<table border=\"1\" class=\"dataframe\">\n",
       "  <thead>\n",
       "    <tr style=\"text-align: right;\">\n",
       "      <th></th>\n",
       "      <th>starttime</th>\n",
       "      <th>stoptime</th>\n",
       "    </tr>\n",
       "  </thead>\n",
       "  <tbody>\n",
       "    <tr>\n",
       "      <th>0</th>\n",
       "      <td>2014-06-01 00:00:02</td>\n",
       "      <td>2014-06-01 00:08:42</td>\n",
       "    </tr>\n",
       "    <tr>\n",
       "      <th>1</th>\n",
       "      <td>2014-06-01 00:00:27</td>\n",
       "      <td>2014-06-01 00:09:07</td>\n",
       "    </tr>\n",
       "    <tr>\n",
       "      <th>2</th>\n",
       "      <td>2014-06-01 00:00:32</td>\n",
       "      <td>2014-06-01 00:07:26</td>\n",
       "    </tr>\n",
       "    <tr>\n",
       "      <th>3</th>\n",
       "      <td>2014-06-01 00:00:34</td>\n",
       "      <td>2014-06-01 00:05:44</td>\n",
       "    </tr>\n",
       "    <tr>\n",
       "      <th>4</th>\n",
       "      <td>2014-06-01 00:00:35</td>\n",
       "      <td>2014-06-01 00:08:12</td>\n",
       "    </tr>\n",
       "    <tr>\n",
       "      <th>...</th>\n",
       "      <td>...</td>\n",
       "      <td>...</td>\n",
       "    </tr>\n",
       "    <tr>\n",
       "      <th>1179039</th>\n",
       "      <td>8/31/2015 23:58:43</td>\n",
       "      <td>9/1/2015 00:05:47</td>\n",
       "    </tr>\n",
       "    <tr>\n",
       "      <th>1179040</th>\n",
       "      <td>8/31/2015 23:58:54</td>\n",
       "      <td>9/1/2015 00:15:56</td>\n",
       "    </tr>\n",
       "    <tr>\n",
       "      <th>1179041</th>\n",
       "      <td>8/31/2015 23:59:11</td>\n",
       "      <td>9/1/2015 00:30:47</td>\n",
       "    </tr>\n",
       "    <tr>\n",
       "      <th>1179042</th>\n",
       "      <td>8/31/2015 23:59:16</td>\n",
       "      <td>9/1/2015 00:13:02</td>\n",
       "    </tr>\n",
       "    <tr>\n",
       "      <th>1179043</th>\n",
       "      <td>8/31/2015 23:59:41</td>\n",
       "      <td>9/1/2015 00:01:26</td>\n",
       "    </tr>\n",
       "  </tbody>\n",
       "</table>\n",
       "<p>6075150 rows × 2 columns</p>\n",
       "</div>"
      ],
      "text/plain": [
       "                   starttime             stoptime\n",
       "0        2014-06-01 00:00:02  2014-06-01 00:08:42\n",
       "1        2014-06-01 00:00:27  2014-06-01 00:09:07\n",
       "2        2014-06-01 00:00:32  2014-06-01 00:07:26\n",
       "3        2014-06-01 00:00:34  2014-06-01 00:05:44\n",
       "4        2014-06-01 00:00:35  2014-06-01 00:08:12\n",
       "...                      ...                  ...\n",
       "1179039   8/31/2015 23:58:43    9/1/2015 00:05:47\n",
       "1179040   8/31/2015 23:58:54    9/1/2015 00:15:56\n",
       "1179041   8/31/2015 23:59:11    9/1/2015 00:30:47\n",
       "1179042   8/31/2015 23:59:16    9/1/2015 00:13:02\n",
       "1179043   8/31/2015 23:59:41    9/1/2015 00:01:26\n",
       "\n",
       "[6075150 rows x 2 columns]"
      ]
     },
     "execution_count": 28,
     "metadata": {},
     "output_type": "execute_result"
    }
   ],
   "source": [
    "training.filter(regex=\"time\") #filter the data by regular expressions on columns. "
   ]
  },
  {
   "cell_type": "code",
   "execution_count": 30,
   "metadata": {
    "collapsed": false
   },
   "outputs": [],
   "source": [
    "cat2 = pd.Categorical(training[\"start station name\"])"
   ]
  },
  {
   "cell_type": "code",
   "execution_count": 32,
   "metadata": {
    "collapsed": false
   },
   "outputs": [
    {
     "data": {
      "text/html": [
       "<div>\n",
       "<table border=\"1\" class=\"dataframe\">\n",
       "  <thead>\n",
       "    <tr style=\"text-align: right;\">\n",
       "      <th></th>\n",
       "      <th>counts</th>\n",
       "      <th>freqs</th>\n",
       "    </tr>\n",
       "    <tr>\n",
       "      <th>categories</th>\n",
       "      <th></th>\n",
       "      <th></th>\n",
       "    </tr>\n",
       "  </thead>\n",
       "  <tbody>\n",
       "    <tr>\n",
       "      <th>1 Ave &amp; E 15 St</th>\n",
       "      <td>31884</td>\n",
       "      <td>0.005248</td>\n",
       "    </tr>\n",
       "    <tr>\n",
       "      <th>1 Ave &amp; E 18 St</th>\n",
       "      <td>19161</td>\n",
       "      <td>0.003154</td>\n",
       "    </tr>\n",
       "    <tr>\n",
       "      <th>1 Ave &amp; E 30 St</th>\n",
       "      <td>24029</td>\n",
       "      <td>0.003955</td>\n",
       "    </tr>\n",
       "    <tr>\n",
       "      <th>1 Ave &amp; E 44 St</th>\n",
       "      <td>16069</td>\n",
       "      <td>0.002645</td>\n",
       "    </tr>\n",
       "    <tr>\n",
       "      <th>10 Ave &amp; W 28 St</th>\n",
       "      <td>24405</td>\n",
       "      <td>0.004017</td>\n",
       "    </tr>\n",
       "    <tr>\n",
       "      <th>...</th>\n",
       "      <td>...</td>\n",
       "      <td>...</td>\n",
       "    </tr>\n",
       "    <tr>\n",
       "      <th>Willoughby Ave &amp; Walworth St</th>\n",
       "      <td>3757</td>\n",
       "      <td>0.000618</td>\n",
       "    </tr>\n",
       "    <tr>\n",
       "      <th>Willoughby St &amp; Fleet St</th>\n",
       "      <td>6003</td>\n",
       "      <td>0.000988</td>\n",
       "    </tr>\n",
       "    <tr>\n",
       "      <th>Wythe Ave &amp; Metropolitan Ave</th>\n",
       "      <td>13110</td>\n",
       "      <td>0.002158</td>\n",
       "    </tr>\n",
       "    <tr>\n",
       "      <th>Yankee Ferry Terminal</th>\n",
       "      <td>1040</td>\n",
       "      <td>0.000171</td>\n",
       "    </tr>\n",
       "    <tr>\n",
       "      <th>York St &amp; Jay St</th>\n",
       "      <td>12179</td>\n",
       "      <td>0.002005</td>\n",
       "    </tr>\n",
       "  </tbody>\n",
       "</table>\n",
       "<p>434 rows × 2 columns</p>\n",
       "</div>"
      ],
      "text/plain": [
       "                              counts     freqs\n",
       "categories                                    \n",
       "1 Ave & E 15 St                31884  0.005248\n",
       "1 Ave & E 18 St                19161  0.003154\n",
       "1 Ave & E 30 St                24029  0.003955\n",
       "1 Ave & E 44 St                16069  0.002645\n",
       "10 Ave & W 28 St               24405  0.004017\n",
       "...                              ...       ...\n",
       "Willoughby Ave & Walworth St    3757  0.000618\n",
       "Willoughby St & Fleet St        6003  0.000988\n",
       "Wythe Ave & Metropolitan Ave   13110  0.002158\n",
       "Yankee Ferry Terminal           1040  0.000171\n",
       "York St & Jay St               12179  0.002005\n",
       "\n",
       "[434 rows x 2 columns]"
      ]
     },
     "execution_count": 32,
     "metadata": {},
     "output_type": "execute_result"
    }
   ],
   "source": [
    "cat2.describe()"
   ]
  },
  {
   "cell_type": "code",
   "execution_count": 46,
   "metadata": {
    "collapsed": false
   },
   "outputs": [
    {
     "data": {
      "text/plain": [
       "[Christopher St & Greenwich St, Washington Pl & Broadway, E 4 St & 2 Ave, 9 Ave & W 16 St, W 56 St & 6 Ave, ..., Vernon Blvd & 50 Ave, E 39 St & 2 Ave, Sullivan St & Washington Sq, Division Ave & Marcy Ave, E 31 St & 3 Ave]\n",
       "Length: 6075150\n",
       "Categories (434, object): [1 Ave & E 15 St, 1 Ave & E 18 St, 1 Ave & E 30 St, 1 Ave & E 44 St, ..., Willoughby St & Fleet St, Wythe Ave & Metropolitan Ave, Yankee Ferry Terminal, York St & Jay St]"
      ]
     },
     "execution_count": 46,
     "metadata": {},
     "output_type": "execute_result"
    }
   ],
   "source": [
    "cat2      # can be treated like a dataframe"
   ]
  },
  {
   "cell_type": "code",
   "execution_count": 47,
   "metadata": {
    "collapsed": false
   },
   "outputs": [
    {
     "data": {
      "text/plain": [
       "array([ 92, 419, 154, ..., 353, 114, 146], dtype=int16)"
      ]
     },
     "execution_count": 47,
     "metadata": {},
     "output_type": "execute_result"
    }
   ],
   "source": [
    "cat2.codes"
   ]
  },
  {
   "cell_type": "code",
   "execution_count": 54,
   "metadata": {
    "collapsed": false
   },
   "outputs": [],
   "source": [
    "# replacing values using dictionaries\n",
    "# in order to make data faster and easier, we will fill the usertype with 1 and 0's\n",
    "# 1 meaning it is a subscriber, 0 meaning it is a customer\n",
    "training.usertype.replace({\"Subscriber\": 1, \"Customer\":0}, inplace=True)"
   ]
  },
  {
   "cell_type": "code",
   "execution_count": 55,
   "metadata": {
    "collapsed": false
   },
   "outputs": [
    {
     "data": {
      "text/html": [
       "<div>\n",
       "<table border=\"1\" class=\"dataframe\">\n",
       "  <thead>\n",
       "    <tr style=\"text-align: right;\">\n",
       "      <th></th>\n",
       "      <th>tripduration</th>\n",
       "      <th>starttime</th>\n",
       "      <th>stoptime</th>\n",
       "      <th>start station id</th>\n",
       "      <th>start station name</th>\n",
       "      <th>start station latitude</th>\n",
       "      <th>start station longitude</th>\n",
       "      <th>end station id</th>\n",
       "      <th>end station name</th>\n",
       "      <th>end station latitude</th>\n",
       "      <th>end station longitude</th>\n",
       "      <th>bikeid</th>\n",
       "      <th>usertype</th>\n",
       "      <th>birth year</th>\n",
       "      <th>gender</th>\n",
       "    </tr>\n",
       "  </thead>\n",
       "  <tbody>\n",
       "    <tr>\n",
       "      <th>0</th>\n",
       "      <td>520</td>\n",
       "      <td>2014-06-01 00:00:02</td>\n",
       "      <td>2014-06-01 00:08:42</td>\n",
       "      <td>358</td>\n",
       "      <td>Christopher St &amp; Greenwich St</td>\n",
       "      <td>40.732916</td>\n",
       "      <td>-74.007114</td>\n",
       "      <td>426</td>\n",
       "      <td>West St &amp; Chambers St</td>\n",
       "      <td>40.717548</td>\n",
       "      <td>-74.013221</td>\n",
       "      <td>18840</td>\n",
       "      <td>1</td>\n",
       "      <td>1979</td>\n",
       "      <td>1</td>\n",
       "    </tr>\n",
       "    <tr>\n",
       "      <th>1</th>\n",
       "      <td>520</td>\n",
       "      <td>2014-06-01 00:00:27</td>\n",
       "      <td>2014-06-01 00:09:07</td>\n",
       "      <td>335</td>\n",
       "      <td>Washington Pl &amp; Broadway</td>\n",
       "      <td>40.729039</td>\n",
       "      <td>-73.994046</td>\n",
       "      <td>265</td>\n",
       "      <td>Stanton St &amp; Chrystie St</td>\n",
       "      <td>40.722293</td>\n",
       "      <td>-73.991475</td>\n",
       "      <td>17442</td>\n",
       "      <td>0</td>\n",
       "      <td>\\N</td>\n",
       "      <td>0</td>\n",
       "    </tr>\n",
       "    <tr>\n",
       "      <th>2</th>\n",
       "      <td>414</td>\n",
       "      <td>2014-06-01 00:00:32</td>\n",
       "      <td>2014-06-01 00:07:26</td>\n",
       "      <td>439</td>\n",
       "      <td>E 4 St &amp; 2 Ave</td>\n",
       "      <td>40.726281</td>\n",
       "      <td>-73.989780</td>\n",
       "      <td>368</td>\n",
       "      <td>Carmine St &amp; 6 Ave</td>\n",
       "      <td>40.730386</td>\n",
       "      <td>-74.002150</td>\n",
       "      <td>16447</td>\n",
       "      <td>1</td>\n",
       "      <td>1980</td>\n",
       "      <td>1</td>\n",
       "    </tr>\n",
       "    <tr>\n",
       "      <th>3</th>\n",
       "      <td>310</td>\n",
       "      <td>2014-06-01 00:00:34</td>\n",
       "      <td>2014-06-01 00:05:44</td>\n",
       "      <td>463</td>\n",
       "      <td>9 Ave &amp; W 16 St</td>\n",
       "      <td>40.742065</td>\n",
       "      <td>-74.004432</td>\n",
       "      <td>380</td>\n",
       "      <td>W 4 St &amp; 7 Ave S</td>\n",
       "      <td>40.734011</td>\n",
       "      <td>-74.002939</td>\n",
       "      <td>18218</td>\n",
       "      <td>1</td>\n",
       "      <td>1984</td>\n",
       "      <td>1</td>\n",
       "    </tr>\n",
       "    <tr>\n",
       "      <th>4</th>\n",
       "      <td>457</td>\n",
       "      <td>2014-06-01 00:00:35</td>\n",
       "      <td>2014-06-01 00:08:12</td>\n",
       "      <td>352</td>\n",
       "      <td>W 56 St &amp; 6 Ave</td>\n",
       "      <td>40.763406</td>\n",
       "      <td>-73.977225</td>\n",
       "      <td>305</td>\n",
       "      <td>E 58 St &amp; 3 Ave</td>\n",
       "      <td>40.760958</td>\n",
       "      <td>-73.967245</td>\n",
       "      <td>18115</td>\n",
       "      <td>1</td>\n",
       "      <td>1969</td>\n",
       "      <td>1</td>\n",
       "    </tr>\n",
       "  </tbody>\n",
       "</table>\n",
       "</div>"
      ],
      "text/plain": [
       "   tripduration            starttime             stoptime  start station id  \\\n",
       "0           520  2014-06-01 00:00:02  2014-06-01 00:08:42               358   \n",
       "1           520  2014-06-01 00:00:27  2014-06-01 00:09:07               335   \n",
       "2           414  2014-06-01 00:00:32  2014-06-01 00:07:26               439   \n",
       "3           310  2014-06-01 00:00:34  2014-06-01 00:05:44               463   \n",
       "4           457  2014-06-01 00:00:35  2014-06-01 00:08:12               352   \n",
       "\n",
       "              start station name  start station latitude  \\\n",
       "0  Christopher St & Greenwich St               40.732916   \n",
       "1       Washington Pl & Broadway               40.729039   \n",
       "2                 E 4 St & 2 Ave               40.726281   \n",
       "3                9 Ave & W 16 St               40.742065   \n",
       "4                W 56 St & 6 Ave               40.763406   \n",
       "\n",
       "   start station longitude  end station id          end station name  \\\n",
       "0               -74.007114             426     West St & Chambers St   \n",
       "1               -73.994046             265  Stanton St & Chrystie St   \n",
       "2               -73.989780             368        Carmine St & 6 Ave   \n",
       "3               -74.004432             380          W 4 St & 7 Ave S   \n",
       "4               -73.977225             305           E 58 St & 3 Ave   \n",
       "\n",
       "   end station latitude  end station longitude  bikeid  usertype birth year  \\\n",
       "0             40.717548             -74.013221   18840         1       1979   \n",
       "1             40.722293             -73.991475   17442         0         \\N   \n",
       "2             40.730386             -74.002150   16447         1       1980   \n",
       "3             40.734011             -74.002939   18218         1       1984   \n",
       "4             40.760958             -73.967245   18115         1       1969   \n",
       "\n",
       "   gender  \n",
       "0       1  \n",
       "1       0  \n",
       "2       1  \n",
       "3       1  \n",
       "4       1  "
      ]
     },
     "execution_count": 55,
     "metadata": {},
     "output_type": "execute_result"
    }
   ],
   "source": [
    "training.head()"
   ]
  },
  {
   "cell_type": "code",
   "execution_count": 60,
   "metadata": {
    "collapsed": false
   },
   "outputs": [
    {
     "name": "stdout",
     "output_type": "stream",
     "text": [
      "0.8510519081833371\n"
     ]
    },
    {
     "data": {
      "text/html": [
       "<div>\n",
       "<table border=\"1\" class=\"dataframe\">\n",
       "  <thead>\n",
       "    <tr style=\"text-align: right;\">\n",
       "      <th></th>\n",
       "      <th>counts</th>\n",
       "      <th>freqs</th>\n",
       "    </tr>\n",
       "    <tr>\n",
       "      <th>categories</th>\n",
       "      <th></th>\n",
       "      <th></th>\n",
       "    </tr>\n",
       "  </thead>\n",
       "  <tbody>\n",
       "    <tr>\n",
       "      <th>0</th>\n",
       "      <td>904882</td>\n",
       "      <td>0.148948</td>\n",
       "    </tr>\n",
       "    <tr>\n",
       "      <th>1</th>\n",
       "      <td>5170268</td>\n",
       "      <td>0.851052</td>\n",
       "    </tr>\n",
       "  </tbody>\n",
       "</table>\n",
       "</div>"
      ],
      "text/plain": [
       "             counts     freqs\n",
       "categories                   \n",
       "0            904882  0.148948\n",
       "1           5170268  0.851052"
      ]
     },
     "execution_count": 60,
     "metadata": {},
     "output_type": "execute_result"
    }
   ],
   "source": [
    "print(training.usertype.mean())\n",
    "stats=pd.Categorical(training[\"usertype\"])\n",
    "stats.describe()"
   ]
  },
  {
   "cell_type": "code",
   "execution_count": 10,
   "metadata": {
    "collapsed": true
   },
   "outputs": [],
   "source": [
    "from sklearn.preprocessing import LabelBinarizer"
   ]
  },
  {
   "cell_type": "code",
   "execution_count": 8,
   "metadata": {
    "collapsed": false
   },
   "outputs": [
    {
     "data": {
      "text/plain": [
       "array(['Christopher St & Greenwich St', 'Washington Pl & Broadway',\n",
       "       'E 4 St & 2 Ave', '9 Ave & W 16 St', 'W 56 St & 6 Ave',\n",
       "       'Lafayette St & E 8 St', 'W 18 St & 6 Ave', 'W 22 St & 8 Ave',\n",
       "       'Broadway & W 32 St', 'Allen St & E Houston St',\n",
       "       'Allen St & E Houston St', 'Lafayette St & E 8 St',\n",
       "       'Allen St & E Houston St', 'Allen St & E Houston St',\n",
       "       'MacDougal St & Washington Sq'], dtype=object)"
      ]
     },
     "execution_count": 8,
     "metadata": {},
     "output_type": "execute_result"
    }
   ],
   "source": [
    "training[\"start station name\"].head(15).values"
   ]
  },
  {
   "cell_type": "code",
   "execution_count": 13,
   "metadata": {
    "collapsed": false
   },
   "outputs": [],
   "source": [
    "binarizer = LabelBinarizer() # initialize"
   ]
  },
  {
   "cell_type": "code",
   "execution_count": 67,
   "metadata": {
    "collapsed": true
   },
   "outputs": [],
   "source": [
    "# fit_transform is shorthand for calling fit then transform \n",
    "#fit does stuff it mutates the object and does the things you want it to do\n",
    "# transform takes the input data and gives something back that is transformed. \n",
    "# so this is shorthand for calling both these methods"
   ]
  },
  {
   "cell_type": "code",
   "execution_count": 15,
   "metadata": {
    "collapsed": false
   },
   "outputs": [
    {
     "data": {
      "text/plain": [
       "array([[0, 0, 0, 1, 0, 0, 0, 0, 0, 0, 0],\n",
       "       [0, 0, 0, 0, 0, 0, 0, 0, 0, 0, 1],\n",
       "       [0, 0, 0, 0, 1, 0, 0, 0, 0, 0, 0],\n",
       "       [1, 0, 0, 0, 0, 0, 0, 0, 0, 0, 0],\n",
       "       [0, 0, 0, 0, 0, 0, 0, 0, 0, 1, 0],\n",
       "       [0, 0, 0, 0, 0, 1, 0, 0, 0, 0, 0],\n",
       "       [0, 0, 0, 0, 0, 0, 0, 1, 0, 0, 0],\n",
       "       [0, 0, 0, 0, 0, 0, 0, 0, 1, 0, 0],\n",
       "       [0, 0, 1, 0, 0, 0, 0, 0, 0, 0, 0],\n",
       "       [0, 1, 0, 0, 0, 0, 0, 0, 0, 0, 0],\n",
       "       [0, 1, 0, 0, 0, 0, 0, 0, 0, 0, 0],\n",
       "       [0, 0, 0, 0, 0, 1, 0, 0, 0, 0, 0],\n",
       "       [0, 1, 0, 0, 0, 0, 0, 0, 0, 0, 0],\n",
       "       [0, 1, 0, 0, 0, 0, 0, 0, 0, 0, 0],\n",
       "       [0, 0, 0, 0, 0, 0, 1, 0, 0, 0, 0]])"
      ]
     },
     "execution_count": 15,
     "metadata": {},
     "output_type": "execute_result"
    }
   ],
   "source": [
    "binarizer.fit_transform(training[\"start station name\"].head(15))"
   ]
  },
  {
   "cell_type": "code",
   "execution_count": 16,
   "metadata": {
    "collapsed": false
   },
   "outputs": [
    {
     "data": {
      "text/plain": [
       "array(['9 Ave & W 16 St', 'Allen St & E Houston St', 'Broadway & W 32 St',\n",
       "       'Christopher St & Greenwich St', 'E 4 St & 2 Ave',\n",
       "       'Lafayette St & E 8 St', 'MacDougal St & Washington Sq',\n",
       "       'W 18 St & 6 Ave', 'W 22 St & 8 Ave', 'W 56 St & 6 Ave',\n",
       "       'Washington Pl & Broadway'], \n",
       "      dtype='<U29')"
      ]
     },
     "execution_count": 16,
     "metadata": {},
     "output_type": "execute_result"
    }
   ],
   "source": [
    "binarizer.classes_"
   ]
  },
  {
   "cell_type": "code",
   "execution_count": 19,
   "metadata": {
    "collapsed": false
   },
   "outputs": [
    {
     "ename": "MemoryError",
     "evalue": "",
     "output_type": "error",
     "traceback": [
      "\u001b[1;31m---------------------------------------------------------------------------\u001b[0m",
      "\u001b[1;31mMemoryError\u001b[0m                               Traceback (most recent call last)",
      "\u001b[1;32m<ipython-input-19-20fcb827959c>\u001b[0m in \u001b[0;36m<module>\u001b[1;34m()\u001b[0m\n\u001b[1;32m----> 1\u001b[1;33m \u001b[0mx_train\u001b[0m \u001b[1;33m=\u001b[0m \u001b[0mpd\u001b[0m\u001b[1;33m.\u001b[0m\u001b[0mget_dummies\u001b[0m\u001b[1;33m(\u001b[0m\u001b[0mtraining\u001b[0m\u001b[1;33m)\u001b[0m \u001b[1;31m# in the new pandas update, the dummy variables are now cast down.\u001b[0m\u001b[1;33m\u001b[0m\u001b[0m\n\u001b[0m\u001b[0;32m      2\u001b[0m                                     \u001b[1;31m#The pd.get_dummies function now returns dummy-encoded columns as small integers,\u001b[0m\u001b[1;33m\u001b[0m\u001b[1;33m\u001b[0m\u001b[0m\n\u001b[0;32m      3\u001b[0m                                     \u001b[1;31m#rather than floats (GH8725). This should provide an improved memory footprint.\u001b[0m\u001b[1;33m\u001b[0m\u001b[1;33m\u001b[0m\u001b[0m\n\u001b[0;32m      4\u001b[0m                                     \u001b[1;31m# This however creates small problems for us\u001b[0m\u001b[1;33m\u001b[0m\u001b[1;33m\u001b[0m\u001b[0m\n",
      "\u001b[1;32m/home/haris/anaconda3/lib/python3.5/site-packages/pandas/core/reshape.py\u001b[0m in \u001b[0;36mget_dummies\u001b[1;34m(data, prefix, prefix_sep, dummy_na, columns, sparse, drop_first)\u001b[0m\n\u001b[0;32m   1091\u001b[0m             dummy = _get_dummies_1d(data[col], prefix=pre, prefix_sep=sep,\n\u001b[0;32m   1092\u001b[0m                                     \u001b[0mdummy_na\u001b[0m\u001b[1;33m=\u001b[0m\u001b[0mdummy_na\u001b[0m\u001b[1;33m,\u001b[0m \u001b[0msparse\u001b[0m\u001b[1;33m=\u001b[0m\u001b[0msparse\u001b[0m\u001b[1;33m,\u001b[0m\u001b[1;33m\u001b[0m\u001b[0m\n\u001b[1;32m-> 1093\u001b[1;33m                                     drop_first=drop_first)\n\u001b[0m\u001b[0;32m   1094\u001b[0m             \u001b[0mwith_dummies\u001b[0m\u001b[1;33m.\u001b[0m\u001b[0mappend\u001b[0m\u001b[1;33m(\u001b[0m\u001b[0mdummy\u001b[0m\u001b[1;33m)\u001b[0m\u001b[1;33m\u001b[0m\u001b[0m\n\u001b[0;32m   1095\u001b[0m         \u001b[0mresult\u001b[0m \u001b[1;33m=\u001b[0m \u001b[0mconcat\u001b[0m\u001b[1;33m(\u001b[0m\u001b[0mwith_dummies\u001b[0m\u001b[1;33m,\u001b[0m \u001b[0maxis\u001b[0m\u001b[1;33m=\u001b[0m\u001b[1;36m1\u001b[0m\u001b[1;33m)\u001b[0m\u001b[1;33m\u001b[0m\u001b[0m\n",
      "\u001b[1;32m/home/haris/anaconda3/lib/python3.5/site-packages/pandas/core/reshape.py\u001b[0m in \u001b[0;36m_get_dummies_1d\u001b[1;34m(data, prefix, prefix_sep, dummy_na, sparse, drop_first)\u001b[0m\n\u001b[0;32m   1164\u001b[0m \u001b[1;33m\u001b[0m\u001b[0m\n\u001b[0;32m   1165\u001b[0m     \u001b[1;32melse\u001b[0m\u001b[1;33m:\u001b[0m\u001b[1;33m\u001b[0m\u001b[0m\n\u001b[1;32m-> 1166\u001b[1;33m         \u001b[0mdummy_mat\u001b[0m \u001b[1;33m=\u001b[0m \u001b[0mnp\u001b[0m\u001b[1;33m.\u001b[0m\u001b[0meye\u001b[0m\u001b[1;33m(\u001b[0m\u001b[0mnumber_of_cols\u001b[0m\u001b[1;33m)\u001b[0m\u001b[1;33m.\u001b[0m\u001b[0mtake\u001b[0m\u001b[1;33m(\u001b[0m\u001b[0mcodes\u001b[0m\u001b[1;33m,\u001b[0m \u001b[0maxis\u001b[0m\u001b[1;33m=\u001b[0m\u001b[1;36m0\u001b[0m\u001b[1;33m)\u001b[0m\u001b[1;33m\u001b[0m\u001b[0m\n\u001b[0m\u001b[0;32m   1167\u001b[0m \u001b[1;33m\u001b[0m\u001b[0m\n\u001b[0;32m   1168\u001b[0m         \u001b[1;32mif\u001b[0m \u001b[1;32mnot\u001b[0m \u001b[0mdummy_na\u001b[0m\u001b[1;33m:\u001b[0m\u001b[1;33m\u001b[0m\u001b[0m\n",
      "\u001b[1;32m/home/haris/anaconda3/lib/python3.5/site-packages/numpy/lib/twodim_base.py\u001b[0m in \u001b[0;36meye\u001b[1;34m(N, M, k, dtype)\u001b[0m\n\u001b[0;32m    231\u001b[0m     \u001b[1;32mif\u001b[0m \u001b[0mM\u001b[0m \u001b[1;32mis\u001b[0m \u001b[1;32mNone\u001b[0m\u001b[1;33m:\u001b[0m\u001b[1;33m\u001b[0m\u001b[0m\n\u001b[0;32m    232\u001b[0m         \u001b[0mM\u001b[0m \u001b[1;33m=\u001b[0m \u001b[0mN\u001b[0m\u001b[1;33m\u001b[0m\u001b[0m\n\u001b[1;32m--> 233\u001b[1;33m     \u001b[0mm\u001b[0m \u001b[1;33m=\u001b[0m \u001b[0mzeros\u001b[0m\u001b[1;33m(\u001b[0m\u001b[1;33m(\u001b[0m\u001b[0mN\u001b[0m\u001b[1;33m,\u001b[0m \u001b[0mM\u001b[0m\u001b[1;33m)\u001b[0m\u001b[1;33m,\u001b[0m \u001b[0mdtype\u001b[0m\u001b[1;33m=\u001b[0m\u001b[0mdtype\u001b[0m\u001b[1;33m)\u001b[0m\u001b[1;33m\u001b[0m\u001b[0m\n\u001b[0m\u001b[0;32m    234\u001b[0m     \u001b[1;32mif\u001b[0m \u001b[0mk\u001b[0m \u001b[1;33m>=\u001b[0m \u001b[0mM\u001b[0m\u001b[1;33m:\u001b[0m\u001b[1;33m\u001b[0m\u001b[0m\n\u001b[0;32m    235\u001b[0m         \u001b[1;32mreturn\u001b[0m \u001b[0mm\u001b[0m\u001b[1;33m\u001b[0m\u001b[0m\n",
      "\u001b[1;31mMemoryError\u001b[0m: "
     ]
    }
   ],
   "source": [
    "x_train = pd.get_dummies(training) # in the new pandas update, the dummy variables are now cast down. \n",
    "                                    #The pd.get_dummies function now returns dummy-encoded columns as small integers, \n",
    "                                    #rather than floats (GH8725). This should provide an improved memory footprint.\n",
    "                                    # This however creates small problems for us  "
   ]
  },
  {
   "cell_type": "code",
   "execution_count": null,
   "metadata": {
    "collapsed": false
   },
   "outputs": [],
   "source": [
    "x_test = pd.get_dummies(testing) # this commmand made the kernel crash # Must investigate why"
   ]
  },
  {
   "cell_type": "code",
   "execution_count": null,
   "metadata": {
    "collapsed": false
   },
   "outputs": [],
   "source": [
    "x_train.columns.equals(x_test.columns)\n",
    "x_train.columns.difference(x_test.columns)\n",
    "x_train.columns.equals(x_test.columns)"
   ]
  },
  {
   "cell_type": "code",
   "execution_count": null,
   "metadata": {
    "collapsed": false
   },
   "outputs": [],
   "source": [
    "print(x_train.shape)\n",
    "print(x_test.shape)"
   ]
  },
  {
   "cell_type": "code",
   "execution_count": null,
   "metadata": {
    "collapsed": true
   },
   "outputs": [],
   "source": [
    "# if there is a missing column we want to add it to either or "
   ]
  },
  {
   "cell_type": "code",
   "execution_count": null,
   "metadata": {
    "collapsed": true
   },
   "outputs": [],
   "source": [
    "x_train.columns.difference(x_test.columns)\n",
    "x_test[x_train.columns.difference(x_test.columns)[0]]=0\n",
    "x_test = x_test[x_train.columns]"
   ]
  },
  {
   "cell_type": "markdown",
   "metadata": {},
   "source": [
    "#### Reported Benchmarks"
   ]
  },
  {
   "cell_type": "markdown",
   "metadata": {},
   "source": [
    "#### Aside Saving Models"
   ]
  },
  {
   "cell_type": "code",
   "execution_count": 1,
   "metadata": {
    "collapsed": false
   },
   "outputs": [],
   "source": [
    "from sklearn.externals import joblib # better than the pickle library \n",
    "                                    # more efficient on numpy arrays \n",
    "                                    # meant to write to disk so that we do not have to train our data set everytime\n",
    "joblib.dump($$$$$, 'filename.pkl')   # stores $$$$ to filename.pkl which is a pickle file\n",
    "\n",
    "#To retrieve the saved data, we need to use:\n",
    "$$$$ = joblib.load('filename.pkl')  \n",
    "\n",
    "#   joblib.dump returns a list of filenames. Each individual numpy array\n",
    "#   contained in the ``clf`` object is serialized as a separate file on the\n",
    "#   filesystem. All files are required in the same folder when reloading the\n",
    "#   model with joblib.load."
   ]
  },
  {
   "cell_type": "markdown",
   "metadata": {},
   "source": [
    "### Look into Boosting and Ensemble Methods"
   ]
  },
  {
   "cell_type": "markdown",
   "metadata": {},
   "source": [
    "## Validation Methods\n",
    "### Cross Validation"
   ]
  },
  {
   "cell_type": "code",
   "execution_count": 21,
   "metadata": {
    "collapsed": true
   },
   "outputs": [],
   "source": [
    "from sklearn.cross_validation import StratifiedKFold "
   ]
  },
  {
   "cell_type": "markdown",
   "metadata": {},
   "source": [
    "### out of the bag estimates and early stopping "
   ]
  },
  {
   "cell_type": "code",
   "execution_count": 23,
   "metadata": {
    "collapsed": true
   },
   "outputs": [],
   "source": [
    "#with gradient boosting you can look at out of the bag estimates \n",
    "# this means that we subsample the data fit gradient boosting trees and then it tells you how well the models performing\n",
    "# on the data that it didnt see and so you can use this to stop the model early"
   ]
  },
  {
   "cell_type": "code",
   "execution_count": null,
   "metadata": {
    "collapsed": true
   },
   "outputs": [],
   "source": [
    "from sklearn.ensemble import GradientBoostingClassifier #Ad-hoc way to do early stopping "
   ]
  },
  {
   "cell_type": "markdown",
   "metadata": {
    "collapsed": false
   },
   "source": []
  },
  {
   "cell_type": "code",
   "execution_count": null,
   "metadata": {
    "collapsed": true
   },
   "outputs": [],
   "source": []
  },
  {
   "cell_type": "code",
   "execution_count": null,
   "metadata": {
    "collapsed": false
   },
   "outputs": [],
   "source": []
  },
  {
   "cell_type": "code",
   "execution_count": null,
   "metadata": {
    "collapsed": false
   },
   "outputs": [],
   "source": []
  },
  {
   "cell_type": "code",
   "execution_count": null,
   "metadata": {
    "collapsed": false
   },
   "outputs": [],
   "source": []
  },
  {
   "cell_type": "code",
   "execution_count": null,
   "metadata": {
    "collapsed": false
   },
   "outputs": [],
   "source": []
  },
  {
   "cell_type": "code",
   "execution_count": null,
   "metadata": {
    "collapsed": false
   },
   "outputs": [],
   "source": []
  },
  {
   "cell_type": "code",
   "execution_count": null,
   "metadata": {
    "collapsed": false
   },
   "outputs": [],
   "source": []
  },
  {
   "cell_type": "code",
   "execution_count": null,
   "metadata": {
    "collapsed": false
   },
   "outputs": [],
   "source": []
  },
  {
   "cell_type": "markdown",
   "metadata": {},
   "source": []
  },
  {
   "cell_type": "code",
   "execution_count": null,
   "metadata": {
    "collapsed": false
   },
   "outputs": [],
   "source": [
    "\n"
   ]
  },
  {
   "cell_type": "code",
   "execution_count": null,
   "metadata": {
    "collapsed": false
   },
   "outputs": [],
   "source": []
  },
  {
   "cell_type": "code",
   "execution_count": null,
   "metadata": {
    "collapsed": false
   },
   "outputs": [],
   "source": []
  },
  {
   "cell_type": "code",
   "execution_count": null,
   "metadata": {
    "collapsed": false
   },
   "outputs": [],
   "source": []
  },
  {
   "cell_type": "code",
   "execution_count": null,
   "metadata": {
    "collapsed": false
   },
   "outputs": [],
   "source": []
  },
  {
   "cell_type": "code",
   "execution_count": null,
   "metadata": {
    "collapsed": false
   },
   "outputs": [],
   "source": []
  },
  {
   "cell_type": "code",
   "execution_count": null,
   "metadata": {
    "collapsed": false
   },
   "outputs": [],
   "source": []
  },
  {
   "cell_type": "code",
   "execution_count": null,
   "metadata": {
    "collapsed": true
   },
   "outputs": [],
   "source": []
  },
  {
   "cell_type": "code",
   "execution_count": null,
   "metadata": {
    "collapsed": false
   },
   "outputs": [],
   "source": []
  },
  {
   "cell_type": "code",
   "execution_count": null,
   "metadata": {
    "collapsed": true
   },
   "outputs": [],
   "source": []
  },
  {
   "cell_type": "code",
   "execution_count": null,
   "metadata": {
    "collapsed": true
   },
   "outputs": [],
   "source": []
  }
 ],
 "metadata": {
  "anaconda-cloud": {},
  "kernelspec": {
   "display_name": "Python 3",
   "language": "python",
   "name": "python3"
  },
  "language_info": {
   "codemirror_mode": {
    "name": "ipython",
    "version": 3
   },
   "file_extension": ".py",
   "mimetype": "text/x-python",
   "name": "python",
   "nbconvert_exporter": "python",
   "pygments_lexer": "ipython3",
   "version": "3.5.2"
  }
 },
 "nbformat": 4,
 "nbformat_minor": 0
}
